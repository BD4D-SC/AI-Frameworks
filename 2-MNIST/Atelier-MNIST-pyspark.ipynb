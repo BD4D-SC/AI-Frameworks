{
 "cells": [
  {
   "cell_type": "markdown",
   "metadata": {},
   "source": [
    "<center>\n",
    "<a href=\"http://www.insa-toulouse.fr/\" ><img src=\"http://www.math.univ-toulouse.fr/~besse/Wikistat/Images/logo-insa.jpg\" style=\"float:left; max-width: 120px; display: inline\" alt=\"INSA\"/></a> \n",
    "\n",
    "<a href=\"http://wikistat.fr/\" ><img src=\"http://www.math.univ-toulouse.fr/~besse/Wikistat/Images/wikistat.jpg\" style=\"max-width: 250px; display: inline\"  alt=\"Wikistat\"/></a>\n",
    "\n",
    "\n",
    "<a href=\"http://www.hupi.fr/\" ><img src=\"http://www.hupi.fr/wp-content/uploads/2016/03/hupi_logo_vectoris_menu.png\" style=\"float:right; max-width: 300px; display: inline\"  alt=\"Wikistat\"/></a>\n",
    "\n",
    " </a>\n",
    "</center>"
   ]
  },
  {
   "cell_type": "markdown",
   "metadata": {},
   "source": [
    "# [Ateliers: Technologies des grosses data](https://github.com/wikistat/Ateliers-Big-Data)"
   ]
  },
  {
   "cell_type": "markdown",
   "metadata": {},
   "source": [
    "# [Reconnaissance de caractères manuscrits](https://github.com/wikistat/Ateliers-Big-Data/2-MNIST) ([MNIST](http://yann.lecun.com/exdb/mnist/)) avec <a href=\"http://spark.apache.org/\"><img src=\"http://spark.apache.org/images/spark-logo-trademark.png\" style=\"max-width: 100px; display: inline\" alt=\"Spark\"/> </a> et [SparkML](https://spark.apache.org/docs/latest/ml-statistics.html)"
   ]
  },
  {
   "cell_type": "markdown",
   "metadata": {},
   "source": [
    "## Introduction\n",
    "\n",
    "Même traitement en utilisant la librairie SparkML."
   ]
  },
  {
   "cell_type": "code",
   "execution_count": 1,
   "metadata": {},
   "outputs": [
    {
     "data": {
      "text/html": [
       "\n",
       "        <div>\n",
       "            <p><b>SparkContext</b></p>\n",
       "\n",
       "            <p><a href=\"http://10.32.30.48:4040\">Spark UI</a></p>\n",
       "\n",
       "            <dl>\n",
       "              <dt>Version</dt>\n",
       "                <dd><code>v2.2.0</code></dd>\n",
       "              <dt>Master</dt>\n",
       "                <dd><code>local[*]</code></dd>\n",
       "              <dt>AppName</dt>\n",
       "                <dd><code>pyspark-shell</code></dd>\n",
       "            </dl>\n",
       "        </div>\n",
       "        "
      ],
      "text/plain": [
       "<SparkContext master=local[*] appName=pyspark-shell>"
      ]
     },
     "execution_count": 1,
     "metadata": {},
     "output_type": "execute_result"
    }
   ],
   "source": [
    "sc"
   ]
  },
  {
   "cell_type": "code",
   "execution_count": 2,
   "metadata": {
    "collapsed": true
   },
   "outputs": [],
   "source": [
    "# Importation des packages\n",
    "import time\n",
    "from numpy import array\n",
    "# Répertoire courant ou répertoire accessible de tous les \"workers\" du cluster\n",
    "DATA_PATH=\"/Users/bguillouet/Insa/TP_Insa/data/\" "
   ]
  },
  {
   "cell_type": "markdown",
   "metadata": {},
   "source": [
    "## Gestion des données"
   ]
  },
  {
   "cell_type": "markdown",
   "metadata": {},
   "source": [
    "### Importation et transformation des données au format RDD"
   ]
  },
  {
   "cell_type": "markdown",
   "metadata": {},
   "source": [
    "Les données sont déjà partagée en une partie apprentissage et une test utilisée pour les comparaisons entre méthodes dans les publications. Ce sont bien les données du site MNIST mais transformée au format .csv pour en faciliter la lecture. \n",
    "\n",
    "Elles doivent être stockées à un emplacement accessibles de tous les noeuds du cluster pour permettre la construction de la base de données réparties (RDD). \n",
    "\n",
    "Dans une utilisation monoposte (*standalone*) de *Spark*, elles sont simplement chargées dans le répertoire courant. "
   ]
  },
  {
   "cell_type": "code",
   "execution_count": 4,
   "metadata": {},
   "outputs": [],
   "source": [
    "# Chargement des fichiers\n",
    "import urllib.request\n",
    "f = urllib.request.urlretrieve(\"https://www.math.univ-toulouse.fr/~besse/Wikistat/data/mnist_train.csv\",DATA_PATH+\"mnist_train.csv\")\n",
    "f = urllib.request.urlretrieve(\"https://www.math.univ-toulouse.fr/~besse/Wikistat/data/mnist_test.csv\",DATA_PATH+\"mnist_test.csv\")"
   ]
  },
  {
   "cell_type": "code",
   "execution_count": 5,
   "metadata": {},
   "outputs": [
    {
     "data": {
      "text/plain": [
       "60000"
      ]
     },
     "execution_count": 5,
     "metadata": {},
     "output_type": "execute_result"
    }
   ],
   "source": [
    "# Transformation du fichier texte en RDD de valeurs\n",
    "## Données d'apprentissage\n",
    "# Transformation ou étape map de séparation des champs\n",
    "trainRDD = sc.textFile(DATA_PATH+\"mnist_train.csv\").map(lambda l: [float(x) for x in l.split(',')])\n",
    "# Action\n",
    "trainRDD.count() # taille de l'échantillon\n",
    "#test"
   ]
  },
  {
   "cell_type": "markdown",
   "metadata": {},
   "source": [
    "### Conversion des données au format DataFrame\n",
    "\n",
    "Pour pouvoir être intérprété par les différentes méthodes de classification de la librairie SparkML, les données doivent être converties en objet DataFrame.\n",
    "\n",
    "Pour plus d'information sur l'utilisation de ces DataFrames, reportez vous aux calepins 1-Intro-PySpark/Cal2-PySpark-statelem-SparkML et 1-Intro-PySpark/Cal3-PySpark-SQL.ipynb"
   ]
  },
  {
   "cell_type": "code",
   "execution_count": 6,
   "metadata": {
    "collapsed": true
   },
   "outputs": [],
   "source": [
    "# Transformation du de la RDD en DataFrame\n",
    "\n",
    "from pyspark.sql import Row\n",
    "from pyspark.ml.linalg import Vectors\n",
    "\n",
    "#Cette fonction va permettre de transformer chaque ligne de la RDD en une \"Row\" pyspark.sql. \n",
    "\n",
    "def list_to_Row(l):    \n",
    "    #Creation d'un vecteur sparse pour les features\n",
    "    features = Vectors.sparse(784,dict([(i,v) for i,v in enumerate(l[:-1]) if v!=0]))\n",
    "    row = Row(label = l[-1], features= features)\n",
    "    return row\n",
    "\n",
    "trainDF = trainRDD.map(list_to_Row).toDF()"
   ]
  },
  {
   "cell_type": "code",
   "execution_count": 7,
   "metadata": {},
   "outputs": [
    {
     "data": {
      "text/plain": [
       "Row(features=SparseVector(784, {118: 25.0, 119: 105.0, 120: 105.0, 121: 105.0, 122: 123.0, 123: 253.0, 124: 253.0, 125: 253.0, 126: 253.0, 127: 255.0, 128: 253.0, 129: 156.0, 130: 55.0, 146: 183.0, 147: 252.0, 148: 252.0, 149: 252.0, 150: 252.0, 151: 252.0, 152: 252.0, 153: 252.0, 154: 252.0, 155: 253.0, 156: 252.0, 157: 252.0, 158: 231.0, 159: 164.0, 160: 18.0, 174: 208.0, 175: 252.0, 176: 252.0, 177: 252.0, 178: 252.0, 179: 252.0, 180: 252.0, 181: 252.0, 182: 252.0, 183: 253.0, 184: 252.0, 185: 252.0, 186: 252.0, 187: 252.0, 188: 74.0, 202: 110.0, 203: 210.0, 204: 252.0, 205: 216.0, 206: 132.0, 207: 132.0, 208: 132.0, 209: 132.0, 210: 132.0, 211: 133.0, 212: 160.0, 213: 252.0, 214: 252.0, 215: 252.0, 216: 143.0, 231: 19.0, 232: 29.0, 233: 20.0, 240: 60.0, 241: 252.0, 242: 252.0, 243: 252.0, 244: 178.0, 267: 13.0, 268: 170.0, 269: 252.0, 270: 252.0, 271: 243.0, 272: 65.0, 295: 183.0, 296: 252.0, 297: 252.0, 298: 252.0, 299: 177.0, 322: 53.0, 323: 253.0, 324: 252.0, 325: 252.0, 326: 209.0, 327: 27.0, 349: 61.0, 350: 228.0, 351: 253.0, 352: 252.0, 353: 240.0, 354: 31.0, 377: 193.0, 378: 252.0, 379: 253.0, 380: 216.0, 381: 97.0, 403: 56.0, 404: 245.0, 405: 253.0, 406: 253.0, 407: 255.0, 408: 131.0, 430: 61.0, 431: 231.0, 432: 252.0, 433: 252.0, 434: 252.0, 435: 44.0, 436: 8.0, 457: 49.0, 458: 226.0, 459: 252.0, 460: 252.0, 461: 249.0, 462: 148.0, 484: 57.0, 485: 158.0, 486: 252.0, 487: 252.0, 488: 252.0, 489: 136.0, 496: 85.0, 497: 120.0, 498: 120.0, 499: 28.0, 511: 14.0, 512: 237.0, 513: 252.0, 514: 252.0, 515: 252.0, 516: 172.0, 517: 7.0, 520: 18.0, 521: 75.0, 522: 75.0, 523: 119.0, 524: 243.0, 525: 252.0, 526: 252.0, 527: 190.0, 539: 15.0, 540: 252.0, 541: 252.0, 542: 252.0, 543: 252.0, 544: 85.0, 545: 30.0, 546: 30.0, 547: 179.0, 548: 196.0, 549: 252.0, 550: 252.0, 551: 252.0, 552: 252.0, 553: 252.0, 554: 252.0, 555: 207.0, 567: 15.0, 568: 252.0, 569: 252.0, 570: 252.0, 571: 252.0, 572: 252.0, 573: 252.0, 574: 252.0, 575: 253.0, 576: 252.0, 577: 252.0, 578: 252.0, 579: 252.0, 580: 252.0, 581: 252.0, 582: 252.0, 583: 207.0, 595: 15.0, 596: 252.0, 597: 252.0, 598: 252.0, 599: 252.0, 600: 252.0, 601: 252.0, 602: 252.0, 603: 253.0, 604: 252.0, 605: 252.0, 606: 209.0, 607: 162.0, 608: 162.0, 609: 162.0, 610: 162.0, 611: 133.0, 623: 13.0, 624: 207.0, 625: 246.0, 626: 252.0, 627: 252.0, 628: 252.0, 629: 252.0, 630: 225.0, 631: 208.0, 632: 171.0, 633: 59.0, 634: 31.0, 653: 135.0, 654: 252.0, 655: 172.0, 656: 103.0, 657: 103.0, 658: 43.0}), label=2.0)"
      ]
     },
     "execution_count": 7,
     "metadata": {},
     "output_type": "execute_result"
    }
   ],
   "source": [
    "# Exemple de ligne\n",
    "trainDF.take(1)[0]"
   ]
  },
  {
   "cell_type": "code",
   "execution_count": 8,
   "metadata": {},
   "outputs": [
    {
     "data": {
      "text/plain": [
       "10000"
      ]
     },
     "execution_count": 8,
     "metadata": {},
     "output_type": "execute_result"
    }
   ],
   "source": [
    "## Même chose pour les données de test\n",
    "testRDD = sc.textFile(DATA_PATH+'mnist_test.csv').map(lambda l: [float(x) for x in l.split(',')])\n",
    "testRDD.count() # taille de l'échantillon"
   ]
  },
  {
   "cell_type": "code",
   "execution_count": 9,
   "metadata": {},
   "outputs": [
    {
     "data": {
      "text/plain": [
       "[Row(features=SparseVector(784, {151: 5.0, 152: 127.0, 153: 231.0, 154: 194.0, 155: 83.0, 178: 35.0, 179: 203.0, 180: 253.0, 181: 253.0, 182: 237.0, 183: 237.0, 184: 199.0, 185: 6.0, 187: 53.0, 188: 53.0, 206: 224.0, 207: 253.0, 208: 228.0, 209: 123.0, 210: 18.0, 211: 89.0, 212: 247.0, 213: 54.0, 214: 13.0, 215: 213.0, 216: 236.0, 217: 27.0, 233: 91.0, 234: 254.0, 235: 242.0, 236: 43.0, 239: 50.0, 240: 159.0, 242: 182.0, 243: 253.0, 244: 244.0, 245: 33.0, 261: 98.0, 262: 254.0, 263: 233.0, 269: 99.0, 270: 248.0, 271: 253.0, 272: 120.0, 289: 38.0, 290: 255.0, 291: 246.0, 292: 48.0, 296: 80.0, 297: 254.0, 298: 254.0, 299: 133.0, 317: 46.0, 318: 254.0, 319: 253.0, 320: 226.0, 321: 72.0, 322: 95.0, 323: 140.0, 324: 232.0, 325: 253.0, 326: 253.0, 327: 58.0, 345: 68.0, 346: 254.0, 347: 253.0, 348: 253.0, 349: 253.0, 350: 253.0, 351: 254.0, 352: 253.0, 353: 253.0, 354: 210.0, 355: 40.0, 374: 19.0, 375: 102.0, 376: 211.0, 377: 253.0, 378: 253.0, 379: 254.0, 380: 227.0, 381: 49.0, 382: 9.0, 404: 175.0, 405: 253.0, 406: 253.0, 407: 208.0, 408: 31.0, 431: 96.0, 432: 224.0, 433: 254.0, 434: 254.0, 435: 196.0, 458: 5.0, 459: 217.0, 460: 253.0, 461: 234.0, 462: 248.0, 463: 245.0, 464: 78.0, 486: 127.0, 487: 253.0, 488: 198.0, 489: 6.0, 490: 128.0, 491: 254.0, 492: 203.0, 513: 16.0, 514: 246.0, 515: 253.0, 516: 85.0, 518: 45.0, 519: 254.0, 520: 236.0, 521: 12.0, 541: 135.0, 542: 254.0, 543: 200.0, 544: 18.0, 547: 178.0, 548: 253.0, 549: 115.0, 568: 25.0, 569: 231.0, 570: 255.0, 571: 76.0, 575: 156.0, 576: 254.0, 577: 175.0, 596: 40.0, 597: 253.0, 598: 254.0, 599: 39.0, 602: 53.0, 603: 239.0, 604: 251.0, 605: 86.0, 624: 12.0, 625: 182.0, 626: 254.0, 627: 179.0, 628: 79.0, 629: 168.0, 630: 235.0, 631: 254.0, 632: 233.0, 653: 83.0, 654: 254.0, 655: 253.0, 656: 253.0, 657: 253.0, 658: 253.0, 659: 207.0, 660: 70.0, 682: 81.0, 683: 238.0, 684: 253.0, 685: 200.0, 686: 118.0, 687: 23.0}), label=8.0)]"
      ]
     },
     "execution_count": 9,
     "metadata": {},
     "output_type": "execute_result"
    }
   ],
   "source": [
    "testDF = testRDD.map(list_to_Row).toDF()\n",
    "testDF.take(1)"
   ]
  },
  {
   "cell_type": "markdown",
   "metadata": {},
   "source": [
    "### Sous-échantillon d'apprentissage"
   ]
  },
  {
   "cell_type": "markdown",
   "metadata": {
    "collapsed": true
   },
   "source": [
    "Extraction d'un sous-échantillon d'apprentissage pour tester les programmes sur des données plus petites. Itérer cette démarche permet d'étudier l'évolution de l'erreur de prévision en fonction de la taille de l'échantillon d'apprentissage."
   ]
  },
  {
   "cell_type": "code",
   "execution_count": 10,
   "metadata": {},
   "outputs": [
    {
     "data": {
      "text/plain": [
       "6020"
      ]
     },
     "execution_count": 10,
     "metadata": {},
     "output_type": "execute_result"
    }
   ],
   "source": [
    "tauxEch=0.1 # tester pour des tailles croissantes d'échantillon d'apprentissage\n",
    "(trainData, DropDatal) = trainRDD.randomSplit([tauxEch, 1-tauxEch])\n",
    "trainData.count()"
   ]
  },
  {
   "cell_type": "markdown",
   "metadata": {},
   "source": [
    "## Méthode de classification\n",
    "\n",
    "Les méthodes de classifications de la librairie SparkML suivent le même shéma d'utilisation. \n",
    "\n",
    "Il faut dans un premier temps crée un objets **methode** pour configurer les paramètres de la méthode.\n",
    "Dans un second temps on réalise l'apprentissage en appliquant la fonction **fit** de la méthode sur la DataFrame d'apprentissage. Cette commande créé un objet différent, le **model** qui permettra de réaliser les prédictions. \n",
    "\n",
    "Par défaut les différentes méthodes considère que les noms des colonnes correspondants aux variables et au prédicants du jeux d'apprentissage sont respectivement \"features\" et \"label\". Tandis que les prédictions seront automatiquement assigné à une colonne de nom \"prediction\". \n",
    "Il est conseillé de garder cette terminiologie, mais ces attributs par défaut peuvent être modifié en spécifiant les paramètres  *featuresCol*, *labelCol* et *predictionCol* de chaque méthode."
   ]
  },
  {
   "cell_type": "markdown",
   "metadata": {
    "collapsed": true
   },
   "source": [
    "### Régression logistique"
   ]
  },
  {
   "cell_type": "markdown",
   "metadata": {},
   "source": [
    "Exemple d'utilisation pour expliciter la syntaxe mais sans grand intérêt pour ces données qui ne satisfont pas à des frontières de discrimination linéaires. L'algorithme permettant de réaliser une regression logistique multinomial est l'algorithme [*softmax*](https://spark.apache.org/docs/latest/ml-classification-regression.html#multinomial-logistic-regression)."
   ]
  },
  {
   "cell_type": "code",
   "execution_count": 11,
   "metadata": {},
   "outputs": [
    {
     "name": "stdout",
     "output_type": "stream",
     "text": [
      "LR prend 20 s\n"
     ]
    }
   ],
   "source": [
    "### Logistic Regression\n",
    "from pyspark.ml.classification import LogisticRegression\n",
    "\n",
    "### Configuraiton des paramètres de la méthode\n",
    "time_start=time.time()\n",
    "lr = LogisticRegression(maxIter=100, regParam=0.01, fitIntercept=False, tol=0.0001,\n",
    "            family = \"multinomial\", elasticNetParam=0.0) #0 for L2 penalty, 1 for L1 penalty\n",
    "\n",
    "### Génération du modèle\n",
    "model_lr = lr.fit(trainDF)\n",
    " \n",
    "time_end=time.time()\n",
    "time_lrm=(time_end - time_start)\n",
    "print(\"LR prend %d s\" %(time_lrm)) # (104s avec taux=1)"
   ]
  },
  {
   "cell_type": "markdown",
   "metadata": {},
   "source": [
    "#### Erreur sur l'échantillon test"
   ]
  },
  {
   "cell_type": "code",
   "execution_count": 12,
   "metadata": {},
   "outputs": [
    {
     "name": "stdout",
     "output_type": "stream",
     "text": [
      "Test Error = 0.07789999999999997\n"
     ]
    }
   ],
   "source": [
    "predictionsRDD = model_lr.transform(testDF)\n",
    "labelsAndPredictions = predictionsRDD.select(\"label\",\"prediction\").collect()\n",
    "nb_good_prediction = sum([r[0]==r[1] for r in labelsAndPredictions])\n",
    "nb_test = testDF.count()\n",
    "testErr = 1-nb_good_prediction/nb_test\n",
    "print('Test Error = ' + str(testErr)) # (0.08 avec taux =1)"
   ]
  },
  {
   "cell_type": "code",
   "execution_count": null,
   "metadata": {
    "collapsed": true
   },
   "outputs": [],
   "source": [
    "#LogisticRegressionTrainingSummary provides a summary for a LogisticRegressionModel. Currently, only binary classification is supported. Support for multiclass model summaries will be added in the future."
   ]
  },
  {
   "cell_type": "markdown",
   "metadata": {},
   "source": [
    "###  Arbre binaire de décision"
   ]
  },
  {
   "cell_type": "markdown",
   "metadata": {},
   "source": [
    "Même chose pour un arbre de discrimination. Comme pour l'implémentation de scikit-learn, les arbres ne peuvent être optimisés par un élagage basé sur une pénalisation de la complexité. Ce paramètre n'est pas présent, seule la profondeur max ou le nombre minimal d'observations par feuille peut contrôler la complexité. Noter l'apparition d'un nouveau paramètre: *maxBins* qui, schématiquement, rend qualitative ordinale à maxBins classes toute variable quantitative.  D'autre part, il n'y a pas de représentation graphique. Cette implémentation d'arbre est issue d'un [projet Google](http://static.googleusercontent.com/media/research.google.com/fr//pubs/archive/36296.pdf) pour adapter cet algorithme aux contraintes *mapreduce* de données sous Hadoop. Elle vaut surtout pour permettre de construire une implémentation des forêts aléatoires."
   ]
  },
  {
   "cell_type": "code",
   "execution_count": 13,
   "metadata": {},
   "outputs": [
    {
     "name": "stdout",
     "output_type": "stream",
     "text": [
      "DT takes 46 s\n"
     ]
    }
   ],
   "source": [
    "### Decision Tree\n",
    "from pyspark.ml.classification import DecisionTreeClassifier\n",
    "\n",
    "### Configuraiton des paramètres de la méthode\n",
    "time_start=time.time()\n",
    "dt = DecisionTreeClassifier(impurity='gini',maxDepth=5,maxBins=32, minInstancesPerNode=1,\n",
    "                            minInfoGain=0.0)\n",
    "\n",
    "### Génération du modèle\n",
    "model_dt = dt.fit(trainDF)\n",
    "\n",
    "time_end=time.time()\n",
    "time_dt=(time_end - time_start)\n",
    "print(\"DT takes %d s\" %(time_dt))"
   ]
  },
  {
   "cell_type": "markdown",
   "metadata": {},
   "source": [
    "#### Erreur sur l'échantillon test"
   ]
  },
  {
   "cell_type": "code",
   "execution_count": 14,
   "metadata": {},
   "outputs": [
    {
     "name": "stdout",
     "output_type": "stream",
     "text": [
      "Test Error = 0.3228\n"
     ]
    }
   ],
   "source": [
    "predictionsRDD = model_dt.transform(testDF)\n",
    "labelsAndPredictions = predictionsRDD.select(\"label\",\"prediction\").collect()\n",
    "nb_good_prediction = sum([r[0]==r[1] for r in labelsAndPredictions])\n",
    "nb_test = testDF.count()\n",
    "testErr = 1-nb_good_prediction/nb_test\n",
    "print('Test Error = ' + str(testErr)) "
   ]
  },
  {
   "cell_type": "markdown",
   "metadata": {},
   "source": [
    "### Random Forest"
   ]
  },
  {
   "cell_type": "markdown",
   "metadata": {},
   "source": [
    "Les $k$-nn ne sont pas \"scalables\" et donc pas présents. Voici la syntaxe et les paramètres associés à l'algorithme des forêts aléatoires. Parmi ceux \"classiques\" se trouvent *numTrees*, *featureSubsetStrategy*, *impurity*, *maxdepth* et en plus *maxbins* comme pour les arbres. Les valeurs du paramètres *maxDepth* est critique pour la qualité de la prévision. en principe, il n'est pas contraint, un arbre peut se déployer sans \"limite\" mais face à des données massives cela peut provoquer des plantages intempestifs."
   ]
  },
  {
   "cell_type": "code",
   "execution_count": 15,
   "metadata": {},
   "outputs": [
    {
     "name": "stdout",
     "output_type": "stream",
     "text": [
      "RF takes 48 s\n"
     ]
    }
   ],
   "source": [
    "### Random Forest\n",
    "from pyspark.ml.classification import RandomForestClassifier\n",
    "\n",
    "### Configuraiton des paramètres de la méthode\n",
    "time_start=time.time()\n",
    "rf = RandomForestClassifier(numTrees = 2, impurity='gini', maxDepth=12,\n",
    "                            maxBins=32, seed=None)\n",
    "\n",
    "### Génération du modèle\n",
    "model_rf = rf.fit(trainDF)\n",
    "\n",
    "time_end=time.time()\n",
    "time_rf=(time_end - time_start)\n",
    "print(\"RF takes %d s\" %(time_rf))#"
   ]
  },
  {
   "cell_type": "markdown",
   "metadata": {},
   "source": [
    "#### Erreur sur l'échantillon test"
   ]
  },
  {
   "cell_type": "markdown",
   "metadata": {},
   "source": [
    "Erreur sur l'échantillon test"
   ]
  },
  {
   "cell_type": "code",
   "execution_count": 16,
   "metadata": {},
   "outputs": [
    {
     "name": "stdout",
     "output_type": "stream",
     "text": [
      "Test Error = 0.15480000000000005\n"
     ]
    }
   ],
   "source": [
    "predictionsRDD = model_rf.transform(testDF)\n",
    "labelsAndPredictions = predictionsRDD.select(\"label\",\"prediction\").collect()\n",
    "nb_good_prediction = sum([r[0]==r[1] for r in labelsAndPredictions])\n",
    "nb_test = testDF.count()\n",
    "testErr = 1-nb_good_prediction/nb_test\n",
    "print('Test Error = ' + str(testErr)) "
   ]
  },
  {
   "cell_type": "markdown",
   "metadata": {},
   "source": [
    "Même traitement sur la totalité de l'échantillon"
   ]
  },
  {
   "cell_type": "markdown",
   "metadata": {},
   "source": [
    "## 3 Quelques résultats"
   ]
  },
  {
   "cell_type": "markdown",
   "metadata": {
    "collapsed": true
   },
   "source": [
    "100 arbres, sélection automatique, maxDepth=9\n",
    "\n",
    "maxBins | Temps |  Erreur \n",
    "--------|-------|---------\n",
    "32 | 259 |  0.067 \n",
    "64 | 264 |  0.068 \n",
    "128 | 490 | 0.065\n",
    "\n",
    "100 arbres, sélection automatique, maxBins=32\n",
    "\n",
    "maxDepth | Temps | Erreur\n",
    "---------|-------|-------\n",
    "4 | 55 | 0.21\n",
    "9 | 259 |  0.067\n",
    "18 | 983 | **0.035**\n",
    "\n",
    "Le nombre de variables tirées à chaque noeud n'a pas été optimisé. \n",
    "\n",
    "Le paramètre maxBins ne semble pas trop influencer la précision du modèle, au contriare de la profondeur maximum des arbres. Avec une profondeur suffisante, on retrouve (presque) les résultats classiques des forêts aléatoires sur ces données.\n",
    "\n",
    "COmparer les résultats obtenus pour les trois environnements. "
   ]
  },
  {
   "cell_type": "code",
   "execution_count": null,
   "metadata": {
    "collapsed": true
   },
   "outputs": [],
   "source": []
  }
 ],
 "metadata": {
  "hide_input": false,
  "kernelspec": {
   "display_name": "PySpark (Spark 2.2.0)",
   "language": "python",
   "name": "pyspark"
  },
  "language_info": {
   "codemirror_mode": {
    "name": "ipython",
    "version": 3
   },
   "file_extension": ".py",
   "mimetype": "text/x-python",
   "name": "python",
   "nbconvert_exporter": "python",
   "pygments_lexer": "ipython3",
   "version": "3.5.1"
  },
  "toc": {
   "nav_menu": {
    "height": "226px",
    "width": "252px"
   },
   "number_sections": true,
   "sideBar": true,
   "skip_h1_title": false,
   "toc_cell": false,
   "toc_position": {},
   "toc_section_display": "block",
   "toc_window_display": true
  }
 },
 "nbformat": 4,
 "nbformat_minor": 1
}
