{
 "cells": [
  {
   "cell_type": "code",
   "execution_count": 1,
   "metadata": {},
   "outputs": [],
   "source": [
    "from __future__ import division\n",
    "import numpy as np\n",
    "from tensorflow.keras.models import Model\n",
    "from tensorflow.keras.layers import Conv2D, Dense, Flatten, Input, Lambda\n",
    "import tensorflow.keras.backend as K\n",
    "\n",
    "\n",
    "import matplotlib.pyplot as plt\n",
    "import scipy.misc\n",
    "import os\n",
    "\n",
    "%matplotlib inline"
   ]
  },
  {
   "cell_type": "code",
   "execution_count": 2,
   "metadata": {},
   "outputs": [
    {
     "data": {
      "image/png": "[encoded data removed]",
      "text/plain": [
       "<Figure size 432x288 with 1 Axes>"
      ]
     },
     "metadata": {
      "needs_background": "light"
     },
     "output_type": "display_data"
    }
   ],
   "source": [
    "from gridworld import gameEnv\n",
    "\n",
    "env = gameEnv(partial=False, size=5)\n"
   ]
  },
  {
   "cell_type": "markdown",
   "metadata": {},
   "source": [
    "This is the game we'll be working on. The player can move the blue square up, down, left or right. The point of the game is to get to the green square (+1 reward) and avoid the red square (-1 reward). Blocks are randomized"
   ]
  },
  {
   "cell_type": "code",
   "execution_count": 3,
   "metadata": {},
   "outputs": [
    {
     "name": "stdout",
     "output_type": "stream",
     "text": [
      "Original shape: (84, 84, 3)\n",
      "Processed shape: (84, 84, 3)\n"
     ]
    },
    {
     "data": {
      "image/png": "[encoded data removed]",
      "text/plain": [
       "<Figure size 432x288 with 1 Axes>"
      ]
     },
     "metadata": {
      "needs_background": "light"
     },
     "output_type": "display_data"
    }
   ],
   "source": [
    "def process_state(state):\n",
    "    \"\"\" This processes the state and converts to black & white. This will help speed up learning\n",
    "        as the number of parameters will be reduced.\n",
    "    \"\"\"\n",
    "    #state = state/255\n",
    "    #return np.expand_dims(np.dot(state[...,:3], [0.2989, 0.5870, 0.1140]),axis=-1)\n",
    "    return state\n",
    "\n",
    "\n",
    "plt.imshow(process_state(env.state)[:,:,0],cmap=plt.get_cmap('gray'), vmin=0, vmax=1)\n",
    "plt.axis(\"off\")\n",
    "\n",
    "print(\"Original shape: {}\".format(env.state.shape))\n",
    "print(\"Processed shape: {}\".format(process_state(env.state).shape))"
   ]
  },
  {
   "cell_type": "markdown",
   "metadata": {},
   "source": [
    "## Implementing the network"
   ]
  },
  {
   "cell_type": "code",
   "execution_count": 4,
   "metadata": {},
   "outputs": [
    {
     "data": {
      "text/plain": [
       "(84, 84, 3)"
      ]
     },
     "execution_count": 4,
     "metadata": {},
     "output_type": "execute_result"
    }
   ],
   "source": [
    "process_state(env.state).shape"
   ]
  },
  {
   "cell_type": "code",
   "execution_count": 5,
   "metadata": {},
   "outputs": [],
   "source": [
    "class Qnetwork():\n",
    "    def __init__(self, final_layer_size):\n",
    "        # The input image of the game is 84 x 84 x 3 (RGB) \n",
    "        self.inputs = Input(shape=[*process_state(env.state).shape], name=\"main_input\")\n",
    "\n",
    "        # There will be four layers of convolutions performed on the image input\n",
    "        # A convolution take a portion of an input and matrix multiplies\n",
    "        # a filter on the portion to get a new input (see below)\n",
    "        self.model = Conv2D(\n",
    "            filters=32,\n",
    "            kernel_size=[8,8],\n",
    "            strides=[4,4],\n",
    "            activation=\"relu\",\n",
    "            padding=\"valid\",\n",
    "            name=\"conv1\")(self.inputs)\n",
    "        self.model = Conv2D(\n",
    "            filters=64,\n",
    "            kernel_size=[4,4],\n",
    "            strides=[2,2],\n",
    "            activation=\"relu\",\n",
    "            padding=\"valid\",\n",
    "            name=\"conv2\")(self.model)\n",
    "        self.model = Conv2D(\n",
    "            filters=64,\n",
    "            kernel_size=[3,3],\n",
    "            strides=[1,1],\n",
    "            activation=\"relu\",\n",
    "            padding=\"valid\",\n",
    "            name=\"conv3\")(self.model)\n",
    "        self.model = Conv2D(\n",
    "            filters= final_layer_size,\n",
    "            kernel_size=[7,7],\n",
    "            strides=[1,1],\n",
    "            activation=\"relu\",\n",
    "            padding=\"valid\",\n",
    "            name=\"conv4\")(self.model)\n",
    "        \n",
    "        \n",
    "        # We then separate the final convolution layer into an advantage and value\n",
    "        # stream. The value function is how well off you are in a given state.\n",
    "        # The advantage is the how much better off you are after making a particular\n",
    "        # move. Q is the value function of a state after a given action.\n",
    "        # Advantage(state, action) = Q(state, action) - Value(state)\n",
    "        self.stream_AC = Lambda(lambda layer: layer[:,:,:,:final_layer_size // 2],name=\"advantage\")(self.model)\n",
    "        self.stream_VC = Lambda(lambda layer: layer[:,:,:,final_layer_size // 2:],name=\"value\")(self.model)\n",
    "        \n",
    "        # We then flatten the advantage and value functions\n",
    "        self.stream_AC = Flatten(name=\"advantage_flatten\")(self.stream_AC)\n",
    "        self.stream_VC = Flatten(name=\"value_flatten\")(self.stream_VC)\n",
    "        \n",
    "        # We define weights for our advantage and value layers. We will train these\n",
    "        # layers so the matmul will match the expected value and advantage from play\n",
    "        self.Advantage = Dense(env.actions,name=\"advantage_final\")(self.stream_AC)\n",
    "        self.Value = Dense(1,name=\"value_final\")(self.stream_VC)\n",
    "\n",
    "        # To get the Q output, we need to add the value to the advantage.\n",
    "        # The advantage to be evaluated will bebased on how good the action\n",
    "        # is based on the average advantage of that state\n",
    "        self.model = Lambda(lambda val_adv: val_adv[0] + (val_adv[1] - K.mean(val_adv[1],axis=1,keepdims=True)),name=\"final_out\")([self.Value,self.Advantage])\n",
    "        self.model = Model(self.inputs, self.model)\n",
    "        self.model.compile(\"adam\",\"mse\")\n",
    "        self.model.optimizer.lr = 0.0001"
   ]
  },
  {
   "cell_type": "code",
   "execution_count": 6,
   "metadata": {},
   "outputs": [],
   "source": [
    "main_qn = Qnetwork(512)\n",
    "target_qn = Qnetwork(512)"
   ]
  },
  {
   "cell_type": "code",
   "execution_count": 7,
   "metadata": {},
   "outputs": [
    {
     "name": "stdout",
     "output_type": "stream",
     "text": [
      "Model: \"model\"\n",
      "__________________________________________________________________________________________________\n",
      "Layer (type)                    Output Shape         Param #     Connected to                     \n",
      "==================================================================================================\n",
      "main_input (InputLayer)         [(None, 84, 84, 3)]  0                                            \n",
      "__________________________________________________________________________________________________\n",
      "conv1 (Conv2D)                  (None, 20, 20, 32)   6176        main_input[0][0]                 \n",
      "__________________________________________________________________________________________________\n",
      "conv2 (Conv2D)                  (None, 9, 9, 64)     32832       conv1[0][0]                      \n",
      "__________________________________________________________________________________________________\n",
      "conv3 (Conv2D)                  (None, 7, 7, 64)     36928       conv2[0][0]                      \n",
      "__________________________________________________________________________________________________\n",
      "conv4 (Conv2D)                  (None, 1, 1, 512)    1606144     conv3[0][0]                      \n",
      "__________________________________________________________________________________________________\n",
      "value (Lambda)                  (None, 1, 1, 256)    0           conv4[0][0]                      \n",
      "__________________________________________________________________________________________________\n",
      "advantage (Lambda)              (None, 1, 1, 256)    0           conv4[0][0]                      \n",
      "__________________________________________________________________________________________________\n",
      "value_flatten (Flatten)         (None, 256)          0           value[0][0]                      \n",
      "__________________________________________________________________________________________________\n",
      "advantage_flatten (Flatten)     (None, 256)          0           advantage[0][0]                  \n",
      "__________________________________________________________________________________________________\n",
      "value_final (Dense)             (None, 1)            257         value_flatten[0][0]              \n",
      "__________________________________________________________________________________________________\n",
      "advantage_final (Dense)         (None, 4)            1028        advantage_flatten[0][0]          \n",
      "__________________________________________________________________________________________________\n",
      "final_out (Lambda)              (None, 4)            0           value_final[0][0]                \n",
      "                                                                 advantage_final[0][0]            \n",
      "==================================================================================================\n",
      "Total params: 1,683,365\n",
      "Trainable params: 1,683,365\n",
      "Non-trainable params: 0\n",
      "__________________________________________________________________________________________________\n"
     ]
    }
   ],
   "source": [
    "main_qn.model.summary()"
   ]
  },
  {
   "cell_type": "markdown",
   "metadata": {},
   "source": [
    "## Experience Replay\n",
    "\n",
    "This class allows us to store experiences and sample them randomly for learning"
   ]
  },
  {
   "cell_type": "code",
   "execution_count": 8,
   "metadata": {},
   "outputs": [],
   "source": [
    "def update_target_graph(main_graph, target_graph, tau):\n",
    "    updated_weights = (np.array(main_graph.get_weights()) * tau) + \\\n",
    "        (np.array(target_graph.get_weights()) * (1 - tau))\n",
    "    target_graph.set_weights(updated_weights)"
   ]
  },
  {
   "cell_type": "code",
   "execution_count": 9,
   "metadata": {},
   "outputs": [],
   "source": [
    "class ExperienceReplay:\n",
    "    def __init__(self,buffer_size=50000):\n",
    "        \"\"\" Data structure used to hold game experiences \"\"\"\n",
    "        # Buffer will contain [state,action,reward,next_state,done]\n",
    "        self.buffer = []\n",
    "        self.buffer_size = buffer_size\n",
    "    \n",
    "    def add(self, experience):\n",
    "        \"\"\" Adds list of experiences to the buffer \"\"\"\n",
    "        # Extend the stored experiences\n",
    "        self.buffer.extend(experience)\n",
    "        # Keep the last buffer_size number of experiences\n",
    "        self.buffer = self.buffer[-self.buffer_size:]\n",
    "        \n",
    "    def sample(self, size):\n",
    "        \"\"\" Returns a sample of experiences from the buffer \"\"\"\n",
    "        sample_idxs = np.random.randint(len(self.buffer),size=size)\n",
    "        sample_output = [self.buffer[idx] for idx in sample_idxs]\n",
    "        sample_output = np.reshape(sample_output,(size,-1))\n",
    "        return sample_output"
   ]
  },
  {
   "cell_type": "markdown",
   "metadata": {},
   "source": [
    "## Training the network"
   ]
  },
  {
   "cell_type": "code",
   "execution_count": 10,
   "metadata": {},
   "outputs": [],
   "source": [
    "batch_size = 64 # How many experiences to use for each training step\n",
    "num_epochs = 20 # How many epochs to train\n",
    "update_freq = 5 # How often you update the network\n",
    "y = 0.99 # Discount factor\n",
    "prob_random_start = 0.6 # Starting chance of random action\n",
    "prob_random_end = 0.1 # Ending chance of random action\n",
    "annealing_steps = 1000. # Steps of training to reduce from start_e -> end_e\n",
    "num_episodes = 10000 # How many episodes of game environment to train\n",
    "pre_train_episodes = 100 # Number of episodes of random actions\n",
    "max_num_step = 50 # Maximum allowed episode length\n",
    "load_model = False # Whether to load a saved model\n",
    "path = \"./models\" # Path to save our model to\n",
    "main_weights_file = path + \"/main_weights.h5\" # File to save our main weights to\n",
    "target_weights_file = path + \"/target_weights.h5\" # File to save our target weights to\n",
    "\n",
    "final_layer_size = 512 # Size of the final convolution layer before \n",
    "                       # splitting into Advantage and Value streams\n",
    "tau = 1 # Rate to update target network toward primary network\n",
    "goal = 10"
   ]
  },
  {
   "cell_type": "code",
   "execution_count": 11,
   "metadata": {},
   "outputs": [
    {
     "name": "stdout",
     "output_type": "stream",
     "text": [
      "Num episode: 50 Mean reward: 1.8400 Prob random: 0.6000, Loss: 0.0000\n",
      "Num episode: 100 Mean reward: 2.7000 Prob random: 0.6000, Loss: 0.0000\n",
      "Num episode: 150 Mean reward: 0.4400 Prob random: 0.5755, Loss: 6.0468\n",
      "Num episode: 200 Mean reward: 1.4200 Prob random: 0.5505, Loss: 3.0079\n",
      "Num episode: 250 Mean reward: 1.7400 Prob random: 0.5255, Loss: 2.0154\n",
      "Num episode: 300 Mean reward: 2.3000 Prob random: 0.5005, Loss: 1.5237\n",
      "Num episode: 350 Mean reward: 1.6600 Prob random: 0.4755, Loss: 1.2302\n",
      "Num episode: 400 Mean reward: 2.2600 Prob random: 0.4505, Loss: 0.1276\n",
      "Num episode: 450 Mean reward: 2.9400 Prob random: 0.4255, Loss: 0.0914\n",
      "Num episode: 500 Mean reward: 2.7200 Prob random: 0.4005, Loss: 0.0816\n",
      "Num episode: 550 Mean reward: 3.5200 Prob random: 0.3755, Loss: 0.0769\n",
      "Num episode: 600 Mean reward: 3.0800 Prob random: 0.3505, Loss: 0.0739\n",
      "Num episode: 650 Mean reward: 3.6400 Prob random: 0.3255, Loss: 0.0738\n",
      "Num episode: 700 Mean reward: 4.5800 Prob random: 0.3005, Loss: 0.0737\n",
      "Num episode: 750 Mean reward: 3.9200 Prob random: 0.2755, Loss: 0.0738\n",
      "Num episode: 800 Mean reward: 4.9200 Prob random: 0.2505, Loss: 0.0755\n",
      "Num episode: 850 Mean reward: 6.1600 Prob random: 0.2255, Loss: 0.0792\n",
      "Num episode: 900 Mean reward: 5.1200 Prob random: 0.2005, Loss: 0.0829\n",
      "Num episode: 950 Mean reward: 5.4800 Prob random: 0.1755, Loss: 0.0856\n",
      "Num episode: 1000 Mean reward: 6.4000 Prob random: 0.1505, Loss: 0.0921\n",
      "Num episode: 1050 Mean reward: 6.1400 Prob random: 0.1255, Loss: 0.0958\n",
      "Num episode: 1100 Mean reward: 5.7400 Prob random: 0.1005, Loss: 0.0974\n",
      "Num episode: 1150 Mean reward: 5.6800 Prob random: 0.0995, Loss: 0.0970\n",
      "Num episode: 1200 Mean reward: 5.1400 Prob random: 0.0995, Loss: 0.0974\n",
      "Num episode: 1250 Mean reward: 5.5400 Prob random: 0.0995, Loss: 0.0946\n",
      "Num episode: 1300 Mean reward: 7.5400 Prob random: 0.0995, Loss: 0.0960\n",
      "Num episode: 1350 Mean reward: 6.4200 Prob random: 0.0995, Loss: 0.0994\n",
      "Num episode: 1400 Mean reward: 8.7800 Prob random: 0.0995, Loss: 0.0993\n",
      "Num episode: 1450 Mean reward: 8.6200 Prob random: 0.0995, Loss: 0.1056\n",
      "Num episode: 1500 Mean reward: 8.0800 Prob random: 0.0995, Loss: 0.1099\n",
      "Num episode: 1550 Mean reward: 10.1800 Prob random: 0.0995, Loss: 0.1099\n",
      "Training complete!\n"
     ]
    }
   ],
   "source": [
    "# Reset everything\n",
    "K.clear_session()\n",
    "\n",
    "# Setup our Q-networks\n",
    "main_qn = Qnetwork(final_layer_size)\n",
    "target_qn = Qnetwork(final_layer_size)\n",
    "\n",
    "# Make the networks equal\n",
    "update_target_graph(main_qn.model, target_qn.model, 1)\n",
    "\n",
    "# Setup our experience replay\n",
    "experience_replay = ExperienceReplay()\n",
    "\n",
    "# We'll begin by acting complete randomly. As we gain experience and improve,\n",
    "# we will begin reducing the probability of acting randomly, and instead\n",
    "# take the actions that our Q network suggests\n",
    "prob_random = prob_random_start\n",
    "prob_random_drop = (prob_random_start - prob_random_end) / annealing_steps\n",
    "\n",
    "num_steps = [] # Tracks number of steps per episode\n",
    "rewards = [] # Tracks rewards per episode\n",
    "total_steps = 0 # Tracks cumulative steps taken in training\n",
    "\n",
    "print_every = 50 # How often to print status\n",
    "save_every = 5 # How often to save\n",
    "\n",
    "losses = [0] # Tracking training losses\n",
    "\n",
    "num_episode = 0\n",
    "\n",
    "# Setup path for saving\n",
    "if not os.path.exists(path):\n",
    "    os.makedirs(path)\n",
    "\n",
    "if load_model == True:\n",
    "    if os.path.exists(main_weights_file):\n",
    "        print(\"Loading main weights\")\n",
    "        main_qn.model.load_weights(main_weights_file)\n",
    "    if os.path.exists(target_weights_file):\n",
    "        print(\"Loading target weights\")\n",
    "        target_qn.model.load_weights(target_weights_file)\n",
    "\n",
    "while num_episode < num_episodes:\n",
    "\n",
    "    # Create an experience replay for the current episode\n",
    "    episode_buffer = ExperienceReplay()\n",
    "\n",
    "    # Get the game state from the environment\n",
    "    state = env.reset()\n",
    "    state = process_state(state)\n",
    "\n",
    "    done = False # Game is complete\n",
    "    sum_rewards = 0 # Running sum of rewards in episode\n",
    "    cur_step = 0 # Running sum of number of steps taken in episode\n",
    "\n",
    "    while cur_step < max_num_step and not done:\n",
    "        cur_step += 1\n",
    "        total_steps += 1\n",
    "\n",
    "        if np.random.rand() < prob_random or \\\n",
    "            num_episode < pre_train_episodes:\n",
    "                # Act randomly based on prob_random or if we\n",
    "                # have not accumulated enough pre_train episodes\n",
    "                action = np.random.randint(env.actions)\n",
    "        else:\n",
    "            # Decide what action to take from the Q network\n",
    "            action = np.argmax(main_qn.model.predict(np.array([state])))\n",
    "\n",
    "        # Take the action and retrieve the next state, reward and done\n",
    "        next_state, reward, done = env.step(action)\n",
    "        next_state = process_state(next_state)\n",
    "\n",
    "        # Setup the episode to be stored in the episode buffer\n",
    "        episode = np.array([[state],action,reward,[next_state],done])\n",
    "        episode = episode.reshape(1,-1)\n",
    "\n",
    "        # Store the experience in the episode buffer\n",
    "        episode_buffer.add(episode)\n",
    "\n",
    "        # Update the running rewards\n",
    "        sum_rewards += reward\n",
    "\n",
    "        # Update the state\n",
    "        state = next_state\n",
    "\n",
    "    if num_episode > pre_train_episodes:\n",
    "        # Training the network\n",
    "\n",
    "        if prob_random > prob_random_end:\n",
    "            # Drop the probability of a random action\n",
    "            prob_random -= prob_random_drop\n",
    "\n",
    "        if num_episode % update_freq == 0:\n",
    "            for num_epoch in range(num_epochs):\n",
    "                # Train batch is [[state,action,reward,next_state,done],...]\n",
    "                train_batch = experience_replay.sample(batch_size)\n",
    "\n",
    "                # Separate the batch into its components\n",
    "                train_state, train_action, train_reward, \\\n",
    "                    train_next_state, train_done = train_batch.T\n",
    "                    \n",
    "                # Convert the action array into an array of ints so they can be used for indexing\n",
    "                train_action = train_action.astype(np.int)\n",
    "\n",
    "                # Stack the train_state and train_next_state for learning\n",
    "                train_state = np.vstack(train_state)\n",
    "                train_next_state = np.vstack(train_next_state)\n",
    "\n",
    "                # Our predictions (actions to take) from the main Q network\n",
    "                target_q = target_qn.model.predict(train_state)\n",
    "                \n",
    "                # The Q values from our target network from the next state\n",
    "                target_q_next_state = main_qn.model.predict(train_next_state)\n",
    "                train_next_state_action = np.argmax(target_q_next_state,axis=1)\n",
    "                train_next_state_action = train_next_state_action.astype(np.int)\n",
    "                \n",
    "                # Tells us whether game over or not\n",
    "                # We will multiply our rewards by this value\n",
    "                # to ensure we don't train on the last move\n",
    "                train_gameover = train_done == 0\n",
    "\n",
    "                # Q value of the next state based on action\n",
    "                train_next_state_values = target_q_next_state[range(batch_size), train_next_state_action]\n",
    "\n",
    "                # Reward from the action chosen in the train batch\n",
    "                actual_reward = train_reward + (y * train_next_state_values * train_gameover)\n",
    "                target_q[range(batch_size), train_action] = actual_reward\n",
    "                \n",
    "                # Train the main model\n",
    "                loss = main_qn.model.train_on_batch(train_state, target_q)\n",
    "                losses.append(loss)\n",
    "                \n",
    "            # Update the target model with values from the main model\n",
    "            update_target_graph(main_qn.model, target_qn.model, tau)\n",
    "\n",
    "            if (num_episode + 1) % save_every == 0:\n",
    "                # Save the model\n",
    "                main_qn.model.save_weights(main_weights_file)\n",
    "                target_qn.model.save_weights(target_weights_file)\n",
    "    \n",
    "\n",
    "    # Increment the episode\n",
    "    num_episode += 1\n",
    "\n",
    "    experience_replay.add(episode_buffer.buffer)\n",
    "    num_steps.append(cur_step)\n",
    "    rewards.append(sum_rewards)\n",
    "        \n",
    "    if num_episode % print_every == 0:\n",
    "        # Print progress\n",
    "        mean_loss = np.mean(losses[-(print_every * num_epochs):])\n",
    "\n",
    "        print(\"Num episode: {} Mean reward: {:0.4f} Prob random: {:0.4f}, Loss: {:0.04f}\".format(\n",
    "            num_episode, np.mean(rewards[-print_every:]), prob_random, mean_loss))\n",
    "        if np.mean(rewards[-print_every:]) >= goal:\n",
    "            print(\"Training complete!\")\n",
    "            break"
   ]
  },
  {
   "cell_type": "code",
   "execution_count": 12,
   "metadata": {},
   "outputs": [],
   "source": [
    "main_qn.model.save_weights(main_weights_file)\n",
    "target_qn.model.save_weights(target_weights_file)"
   ]
  },
  {
   "cell_type": "code",
   "execution_count": 16,
   "metadata": {},
   "outputs": [
    {
     "data": {
      "text/plain": [
       "<__main__.Qnetwork at 0x7fe7286c74a8>"
      ]
     },
     "execution_count": 16,
     "metadata": {},
     "output_type": "execute_result"
    }
   ],
   "source": []
  },
  {
   "cell_type": "code",
   "execution_count": 19,
   "metadata": {},
   "outputs": [
    {
     "data": {
      "image/png": "[encoded data removed]",
      "text/plain": [
       "<Figure size 720x1440 with 50 Axes>"
      ]
     },
     "metadata": {
      "needs_background": "light"
     },
     "output_type": "display_data"
    }
   ],
   "source": [
    "f, axes = plt.subplots(nrows=max_num_step//5, ncols=5, \n",
    "                       sharex=True, sharey=True, figsize=(10,20))\n",
    "done = False\n",
    "num_step = 0\n",
    "sum_rewards = 0\n",
    "state = env.reset()\n",
    "state = process_state(state)\n",
    "\n",
    "while not done and num_step < max_num_step:\n",
    "    action = np.argmax(main_qn.model.predict(np.array([state])),axis=1)\n",
    "    next_state, reward, done = env.step(action)\n",
    "    state = process_state(next_state)\n",
    "    ax = axes.ravel()[num_step]    \n",
    "    ax.imshow(state)\n",
    "    ax.set_axis_off()\n",
    "    ax.set_title(\"#{} a:{} r:{}\".format(num_step, action, int(reward)))\n",
    "    num_step += 1\n"
   ]
  },
  {
   "cell_type": "code",
   "execution_count": 14,
   "metadata": {},
   "outputs": [],
   "source": [
    "model_json = main_qn.model.to_json()\n",
    "\n",
    "with open(\"model_keras.json\", \"w\") as output:\n",
    "    output.write(model_json)"
   ]
  },
  {
   "cell_type": "code",
   "execution_count": null,
   "metadata": {},
   "outputs": [],
   "source": []
  },
  {
   "cell_type": "code",
   "execution_count": null,
   "metadata": {},
   "outputs": [],
   "source": []
  }
 ],
 "metadata": {
  "kernelspec": {
   "display_name": "Python 3",
   "language": "python",
   "name": "python3"
  },
  "language_info": {
   "codemirror_mode": {
    "name": "ipython",
    "version": 3
   },
   "file_extension": ".py",
   "mimetype": "text/x-python",
   "name": "python",
   "nbconvert_exporter": "python",
   "pygments_lexer": "ipython3",
   "version": "3.6.7"
  }
 },
 "nbformat": 4,
 "nbformat_minor": 2
}
