{
 "cells": [
  {
   "cell_type": "markdown",
   "metadata": {},
   "source": [
    "# [Ateliers: Technologies de l'intelligence Artificielle](https://github.com/wikistat/AI-Frameworks)"
   ]
  },
  {
   "cell_type": "markdown",
   "metadata": {},
   "source": [
    "<center>\n",
    "<a href=\"http://www.insa-toulouse.fr/\" ><img src=\"http://www.math.univ-toulouse.fr/~besse/Wikistat/Images/logo-insa.jpg\" style=\"float:left; max-width: 120px; display: inline\" alt=\"INSA\"/></a> \n",
    "<a href=\"http://wikistat.fr/\" ><img src=\"http://www.math.univ-toulouse.fr/~besse/Wikistat/Images/wikistat.jpg\" width=400, style=\"max-width: 150px; display: inline\"  alt=\"Wikistat\"/></a>\n",
    "<a href=\"http://www.math.univ-toulouse.fr/\" ><img src=\"http://www.math.univ-toulouse.fr/~besse/Wikistat/Images/logo_imt.jpg\" width=400,  style=\"float:right;  display: inline\" alt=\"IMT\"/> </a>\n",
    "    \n",
    "</center>"
   ]
  },
  {
   "cell_type": "markdown",
   "metadata": {},
   "source": [
    "# Traitement Naturel du Langage (NLP) : Catégorisation de Produits Cdiscount\n",
    "\n",
    "Il s'agit d'une version simplifiée du concours proposé par Cdiscount et paru sur le site [datascience.net](https://www.datascience.net/fr/challenge). Les données d'apprentissage sont accessibles sur demande auprès de Cdiscount mais les solutions de l'échantillon test du concours ne sont pas et ne seront pas rendues publiques. Un échantillon test est donc construit pour l'usage de ce tutoriel.  L'objectif est de prévoir la catégorie d'un produit à partir de son descriptif (*text mining*). Seule la catégorie principale (1er niveau, 47 classes) est prédite au lieu des trois niveaux demandés dans le concours. L'objectif est plutôt de comparer les performances des méthodes et technologies en fonction de la taille de la base d'apprentissage ainsi que d'illustrer sur un exemple complexe le prétraitement de données textuelles. \n",
    "\n",
    "Le jeux de données complet (15M produits) permet un test en vrai grandeur du **passage à l'échelle volume** des phases de préparation (*munging*), vectorisation (hashage, TF-IDF) et d'apprentissage en fonction de la technologie utilisée.\n",
    "\n",
    "La synthèse des résultats obtenus est développée par [Besse et al. 2016](https://hal.archives-ouvertes.fr/hal-01350099) (section 5)."
   ]
  },
  {
   "cell_type": "markdown",
   "metadata": {},
   "source": [
    "## Partie 1 : Exploration et Nettoyage de données textuelles\n",
    "\n",
    "Dans ce premier notebook nous verrons différent traitements généralement opérés sur des données textuelles :\n",
    "\n",
    "* **Nettoyage** : Suppression des caractères mal codés et de ponctuation, transformation des majuscules en minuscules, en remarquant que ces transformations ne seraient pas pertinentes pour un objectif de détection de pourriels.\n",
    "* **StopWord** : Suppression des mots inutiles ou mots de liaison, articles qui n'ont a priori pas de pouvoir discriminant.\n",
    "* **Stemming** (ou Racinisation): Les mots sont réduits à leur seule racine afin de réduire la taille du dictionnaire."
   ]
  },
  {
   "cell_type": "markdown",
   "metadata": {},
   "source": [
    "## Librairies"
   ]
  },
  {
   "cell_type": "code",
   "execution_count": 1,
   "metadata": {
    "code_folding": []
   },
   "outputs": [],
   "source": [
    "#Importation des librairies utilisées\n",
    "import unicodedata \n",
    "import time\n",
    "import pandas as pd\n",
    "import numpy as np\n",
    "import random\n",
    "import nltk\n",
    "import re \n",
    "import collections\n",
    "import itertools\n",
    "import warnings\n",
    "warnings.filterwarnings(\"ignore\")\n",
    "\n",
    "import matplotlib.pyplot as plt\n",
    "import seaborn as sb\n",
    "sb.set_style(\"whitegrid\")\n",
    "\n",
    "import sklearn.cross_validation as scv"
   ]
  },
  {
   "cell_type": "markdown",
   "metadata": {},
   "source": [
    "**nltk**\n",
    "\n",
    "Si vous utilisez la librairie `nltk` pour la première fois, il est nécessaire d'utiliser la commande suivante. Cette commande permet de télécharger de nombreux corpus de texte, mais également des informations grammaticales sur différentes langues. Information notamment nécessaire à l'étape de racinisation."
   ]
  },
  {
   "cell_type": "code",
   "execution_count": 2,
   "metadata": {
    "code_folding": [],
    "collapsed": true
   },
   "outputs": [],
   "source": [
    "# nltk.download(\"all\")"
   ]
  },
  {
   "cell_type": "markdown",
   "metadata": {},
   "source": [
    "## Les données\n",
    "\n",
    "Dans le dossier *Cdiscount/data* de ce répértoire vous trouverez les fichiers suivants :\n",
    "\n",
    "* `cdiscount_test.csv.zip`: Fichier d'apprentissage constitué de 1.000.000 de lignes\n",
    "* `cdisount_test`: Fichier test constitué de 50.000 lignes\n"
   ]
  },
  {
   "cell_type": "markdown",
   "metadata": {},
   "source": [
    "   ### Read & Split Dataset\n",
    "   \n",
    "   On définit une fonction permettant de lire le fichier d'apprentissage et de créer deux DataFrame Pandas, un pour l'apprentissage, l'autre pour la validation.\n",
    "   La fonction créée un DataFrame en lisant entièrement le fichier. Puis elle scinde ce DataFrame en deux grâce à la fonction dédiée de sklearn. "
   ]
  },
  {
   "cell_type": "code",
   "execution_count": 3,
   "metadata": {
    "code_folding": [],
    "collapsed": true
   },
   "outputs": [],
   "source": [
    "def split_dataset(input_path, nb_line, tauxValid):\n",
    "    data_all = pd.read_csv(input_path,sep=\",\", nrows=nb_line)\n",
    "    data_all = data_all.fillna(\"\")\n",
    "    data_train, data_valid = scv.train_test_split(data_all, test_size = tauxValid)\n",
    "    time_end = time.time()\n",
    "    return data_train, data_valid"
   ]
  },
  {
   "cell_type": "markdown",
   "metadata": {},
   "source": [
    "Bien que déjà réduit par rapport au fichier original du concours, contenant plus de 15M de lignes, le fichier cdiscount_test.csv.zip, contenant 1M de lignes est encore volumineux. \n",
    "Nous allons charger en mémoire qu'une partie de ce fichier grace à l'argument `nb_line` afin d'éviter des temps de calcul trop couteux. \n",
    "Nous allons extraire 5% de ces 1M de lignes commes échantillons de validation."
   ]
  },
  {
   "cell_type": "code",
   "execution_count": 4,
   "metadata": {},
   "outputs": [
    {
     "name": "stdout",
     "output_type": "stream",
     "text": [
      "Train set : 95000 elements, Validation set : 5000 elements\n"
     ]
    }
   ],
   "source": [
    "input_path = \"data/cdiscount_train.csv.zip\"\n",
    "nb_line=100000  # part totale extraite du fichier initial ici déjà réduit\n",
    "tauxValid = 0.05\n",
    "data_train, data_valid = split_dataset(input_path, nb_line, tauxValid)\n",
    "# Cette ligne permet de visualiser les 5 premières lignes de la DataFrame \n",
    "N_train = data_train.shape[0]\n",
    "N_valid = data_valid.shape[0]\n",
    "print(\"Train set : %d elements, Validation set : %d elements\" %(N_train, N_valid))"
   ]
  },
  {
   "cell_type": "markdown",
   "metadata": {},
   "source": [
    "La commande suivante permet d'afficher les premières lignes du fichiers. \n",
    "\n",
    "Vous pouvez observer que chaque produit possède 3 niveaux de Catégories, qui correspondent au différents niveaux de l'arborescence que vous retrouverez sur le site.\n",
    "Il y a 44 catégories de niveau 1, 428 de niveau 2 et 3170 de niveau 3. \n",
    "\n",
    "Dans ce TP, nous nous interesserons uniquement à classer les produits dans la catégorie de niveau 1."
   ]
  },
  {
   "cell_type": "code",
   "execution_count": 5,
   "metadata": {},
   "outputs": [
    {
     "data": {
      "text/html": [
       "<div>\n",
       "<style scoped>\n",
       "    .dataframe tbody tr th:only-of-type {\n",
       "        vertical-align: middle;\n",
       "    }\n",
       "\n",
       "    .dataframe tbody tr th {\n",
       "        vertical-align: top;\n",
       "    }\n",
       "\n",
       "    .dataframe thead th {\n",
       "        text-align: right;\n",
       "    }\n",
       "</style>\n",
       "<table border=\"1\" class=\"dataframe\">\n",
       "  <thead>\n",
       "    <tr style=\"text-align: right;\">\n",
       "      <th></th>\n",
       "      <th>Categorie1</th>\n",
       "      <th>Categorie2</th>\n",
       "      <th>Categorie3</th>\n",
       "      <th>Description</th>\n",
       "      <th>Libelle</th>\n",
       "      <th>Marque</th>\n",
       "    </tr>\n",
       "  </thead>\n",
       "  <tbody>\n",
       "    <tr>\n",
       "      <th>18967</th>\n",
       "      <td>TELEPHONIE - GPS</td>\n",
       "      <td>ACCESSOIRE TELEPHONE</td>\n",
       "      <td>COQUE - BUMPER - FACADE TELEPHONE</td>\n",
       "      <td>Coque de protection rigide pour iPhone 6plus -...</td>\n",
       "      <td>Coque de protection rigide pour iPhone 6plus</td>\n",
       "      <td>AUCUNE</td>\n",
       "    </tr>\n",
       "    <tr>\n",
       "      <th>96100</th>\n",
       "      <td>AUTO - MOTO (NEW)</td>\n",
       "      <td>EQUIPEMENT PILOTE</td>\n",
       "      <td>GANTS - SOUS-GANTS</td>\n",
       "      <td>Gants SHOT MECHANIC noir - Gant spécialement d...</td>\n",
       "      <td>Gants SHOT MECHANIC noir L</td>\n",
       "      <td>AUCUNE</td>\n",
       "    </tr>\n",
       "    <tr>\n",
       "      <th>99168</th>\n",
       "      <td>TELEPHONIE - GPS</td>\n",
       "      <td>ACCESSOIRE TELEPHONE</td>\n",
       "      <td>COQUE - BUMPER - FACADE TELEPHONE</td>\n",
       "      <td>Coque Sony Xperia Z Since 1950 Bleu rigide 100...</td>\n",
       "      <td>Coque Sony Xperia Z Since 1950 Bleu rigide 100%…</td>\n",
       "      <td>AUCUNE</td>\n",
       "    </tr>\n",
       "    <tr>\n",
       "      <th>38964</th>\n",
       "      <td>TELEPHONIE - GPS</td>\n",
       "      <td>ACCESSOIRE TELEPHONE</td>\n",
       "      <td>COQUE - BUMPER - FACADE TELEPHONE</td>\n",
       "      <td>Coque rigide Rose pour SONY XPERIA Z2 motif Dr...</td>\n",
       "      <td>Coque rigide Rose pour SONY XPERIA Z2 motif Dra…</td>\n",
       "      <td>MUZZANO</td>\n",
       "    </tr>\n",
       "    <tr>\n",
       "      <th>19923</th>\n",
       "      <td>INFORMATIQUE</td>\n",
       "      <td>COMPOSANT - PIECE DETACHEE</td>\n",
       "      <td>DALLE D'ECRAN</td>\n",
       "      <td>Dalle d'écran Toshiba Satellite A355-S6944 16 ...</td>\n",
       "      <td>Dalle d'écran Toshiba Satellite A355-S6944 16 ...</td>\n",
       "      <td>AUCUNE</td>\n",
       "    </tr>\n",
       "  </tbody>\n",
       "</table>\n",
       "</div>"
      ],
      "text/plain": [
       "              Categorie1                  Categorie2  \\\n",
       "18967   TELEPHONIE - GPS        ACCESSOIRE TELEPHONE   \n",
       "96100  AUTO - MOTO (NEW)           EQUIPEMENT PILOTE   \n",
       "99168   TELEPHONIE - GPS        ACCESSOIRE TELEPHONE   \n",
       "38964   TELEPHONIE - GPS        ACCESSOIRE TELEPHONE   \n",
       "19923       INFORMATIQUE  COMPOSANT - PIECE DETACHEE   \n",
       "\n",
       "                              Categorie3  \\\n",
       "18967  COQUE - BUMPER - FACADE TELEPHONE   \n",
       "96100                 GANTS - SOUS-GANTS   \n",
       "99168  COQUE - BUMPER - FACADE TELEPHONE   \n",
       "38964  COQUE - BUMPER - FACADE TELEPHONE   \n",
       "19923                      DALLE D'ECRAN   \n",
       "\n",
       "                                             Description  \\\n",
       "18967  Coque de protection rigide pour iPhone 6plus -...   \n",
       "96100  Gants SHOT MECHANIC noir - Gant spécialement d...   \n",
       "99168  Coque Sony Xperia Z Since 1950 Bleu rigide 100...   \n",
       "38964  Coque rigide Rose pour SONY XPERIA Z2 motif Dr...   \n",
       "19923  Dalle d'écran Toshiba Satellite A355-S6944 16 ...   \n",
       "\n",
       "                                                 Libelle   Marque  \n",
       "18967       Coque de protection rigide pour iPhone 6plus   AUCUNE  \n",
       "96100                         Gants SHOT MECHANIC noir L   AUCUNE  \n",
       "99168   Coque Sony Xperia Z Since 1950 Bleu rigide 100%…   AUCUNE  \n",
       "38964   Coque rigide Rose pour SONY XPERIA Z2 motif Dra…  MUZZANO  \n",
       "19923  Dalle d'écran Toshiba Satellite A355-S6944 16 ...   AUCUNE  "
      ]
     },
     "execution_count": 5,
     "metadata": {},
     "output_type": "execute_result"
    }
   ],
   "source": [
    "data_train.head(5)"
   ]
  },
  {
   "cell_type": "markdown",
   "metadata": {},
   "source": [
    "La commande suivante permet d'afficher un exemple de produits pour chaque Catégorie de niveau 1."
   ]
  },
  {
   "cell_type": "code",
   "execution_count": 6,
   "metadata": {},
   "outputs": [
    {
     "data": {
      "text/html": [
       "<div>\n",
       "<style scoped>\n",
       "    .dataframe tbody tr th:only-of-type {\n",
       "        vertical-align: middle;\n",
       "    }\n",
       "\n",
       "    .dataframe tbody tr th {\n",
       "        vertical-align: top;\n",
       "    }\n",
       "\n",
       "    .dataframe thead th {\n",
       "        text-align: right;\n",
       "    }\n",
       "</style>\n",
       "<table border=\"1\" class=\"dataframe\">\n",
       "  <thead>\n",
       "    <tr style=\"text-align: right;\">\n",
       "      <th></th>\n",
       "      <th>Description</th>\n",
       "      <th>Libelle</th>\n",
       "      <th>Marque</th>\n",
       "    </tr>\n",
       "    <tr>\n",
       "      <th>Categorie1</th>\n",
       "      <th></th>\n",
       "      <th></th>\n",
       "      <th></th>\n",
       "    </tr>\n",
       "  </thead>\n",
       "  <tbody>\n",
       "    <tr>\n",
       "      <th>ADULTE - EROTIQUE</th>\n",
       "      <td>Clubwear robe  inserts metalliques lingerie se...</td>\n",
       "      <td>Clubwear robe  inserts met S/M</td>\n",
       "      <td>AUCUNE</td>\n",
       "    </tr>\n",
       "    <tr>\n",
       "      <th>ANIMALERIE - NEW</th>\n",
       "      <td>Manteau pour chien - Auteuil Rouge &amp; Noir (36c...</td>\n",
       "      <td>Manteau pour chien - Auteuil Rouge &amp; Noir (36cm)</td>\n",
       "      <td>MARTIN SELLIER</td>\n",
       "    </tr>\n",
       "    <tr>\n",
       "      <th>ARME DE COMBAT - ARME DE SPORT</th>\n",
       "      <td>Adaptateur silencieux pour SA1G -14mm antihora...</td>\n",
       "      <td>Adaptateur silencieux pour SA1G -14mm antihoraire</td>\n",
       "      <td>SWISS ARMS</td>\n",
       "    </tr>\n",
       "    <tr>\n",
       "      <th>ART DE LA TABLE - ARTICLES CULINAIRES</th>\n",
       "      <td>Koolart Cartoon Mug-De Tomaso-Mangusta-659 - M...</td>\n",
       "      <td>Koolart Cartoon Mug-De Tomaso-Mangusta-659</td>\n",
       "      <td>AUCUNE</td>\n",
       "    </tr>\n",
       "    <tr>\n",
       "      <th>ARTICLES POUR FUMEUR</th>\n",
       "      <td>TABAC BLOND VIRGINIA - Taux de nicotine : 16 m...</td>\n",
       "      <td>TABAC BLOND VIRGINIA - Taux de nicotine : 16 mg</td>\n",
       "      <td>AUCUNE</td>\n",
       "    </tr>\n",
       "    <tr>\n",
       "      <th>AUTO - MOTO (NEW)</th>\n",
       "      <td>Gants SHOT MECHANIC noir - Gant spécialement d...</td>\n",
       "      <td>Gants SHOT MECHANIC noir L</td>\n",
       "      <td>AUCUNE</td>\n",
       "    </tr>\n",
       "    <tr>\n",
       "      <th>BAGAGERIE</th>\n",
       "      <td>Porte-Monnaie Nat et Nin reference NNALLY coul...</td>\n",
       "      <td>Porte-Monnaie Nat et Nin reference NNALLY coule…</td>\n",
       "      <td>AUCUNE</td>\n",
       "    </tr>\n",
       "    <tr>\n",
       "      <th>BATEAU MOTEUR - VOILIER</th>\n",
       "      <td>Taud télescopique. Pour zodiacs. - Variante: b...</td>\n",
       "      <td>Taud télescopique. Pour zodiacs.</td>\n",
       "      <td>AUCUNE</td>\n",
       "    </tr>\n",
       "    <tr>\n",
       "      <th>BIJOUX -  LUNETTES - MONTRES</th>\n",
       "      <td>Go Montre Femme 698402 - Cette montre Femme de...</td>\n",
       "      <td>Go Montre Femme 698402</td>\n",
       "      <td>GO</td>\n",
       "    </tr>\n",
       "    <tr>\n",
       "      <th>BRICOLAGE - OUTILLAGE - QUINCAILLERIE</th>\n",
       "      <td>Specifications:Tension:12VCapacite:3000mAh/36W...</td>\n",
       "      <td>Batterie pour ELU type EZWA61 12V 3000mAh/36Wh...</td>\n",
       "      <td>POWERY</td>\n",
       "    </tr>\n",
       "    <tr>\n",
       "      <th>CHAUSSURES - ACCESSOIRES</th>\n",
       "      <td>V5559 - Sandale PLATAFORMA BLANCO ARMANI JEANS...</td>\n",
       "      <td>V5559 - Sandale PLATAFORMA  39</td>\n",
       "      <td>ARMANI JEANS</td>\n",
       "    </tr>\n",
       "    <tr>\n",
       "      <th>CONDITIONNEMENT</th>\n",
       "      <td>Boite de 250 pochettes à soufflets en kraft 12...</td>\n",
       "      <td>Boite de 250 pochettes à soufflets en kraft 120…</td>\n",
       "      <td>VISIODIRECT</td>\n",
       "    </tr>\n",
       "    <tr>\n",
       "      <th>CULTURE / JEUX</th>\n",
       "      <td>.</td>\n",
       "      <td>DIANA KRALL Live in Paris</td>\n",
       "      <td>AUCUNE</td>\n",
       "    </tr>\n",
       "    <tr>\n",
       "      <th>DECO - LINGE - LUMINAIRE</th>\n",
       "      <td>Housse de couette 220x240cm VICTOIRE GRIS PERL...</td>\n",
       "      <td>Housse de couette 220x240cm VICTOIRE GRIS PERLE</td>\n",
       "      <td>AUCUNE</td>\n",
       "    </tr>\n",
       "    <tr>\n",
       "      <th>DROGUERIE (NEW)</th>\n",
       "      <td>Porte-balayette PELLET - Porte-balayette blanc...</td>\n",
       "      <td>Porte-balayette PELLET</td>\n",
       "      <td>AUCUNE</td>\n",
       "    </tr>\n",
       "    <tr>\n",
       "      <th>ELECTROMENAGER</th>\n",
       "      <td>Pompe de vidange DFH625 - Pompe de vidange DFH...</td>\n",
       "      <td>Pompe de vidange DFH625</td>\n",
       "      <td>BRANDT</td>\n",
       "    </tr>\n",
       "    <tr>\n",
       "      <th>ELECTRONIQUE</th>\n",
       "      <td>Plaque d'extrémité et intermédiaire Contenu: 2...</td>\n",
       "      <td>Plaque d'extrémité et intermédiaire Contenu: 25…</td>\n",
       "      <td>WAGO</td>\n",
       "    </tr>\n",
       "    <tr>\n",
       "      <th>EPICERIE</th>\n",
       "      <td>Bol Banania avec ses Chocolats Banamix [Bol ga...</td>\n",
       "      <td>Bol Banania avec ses Chocolats Banamix [Bol ga...</td>\n",
       "      <td>BANANIA</td>\n",
       "    </tr>\n",
       "    <tr>\n",
       "      <th>HYGIENE - BEAUTE - PARFUM</th>\n",
       "      <td>Eau de Jonzac Retouche BB Compact Perfecteur d...</td>\n",
       "      <td>Eau de Jonzac Retouche BB Compact Perfecteur d...</td>\n",
       "      <td>EAU THERMALE JONZAC</td>\n",
       "    </tr>\n",
       "    <tr>\n",
       "      <th>INFORMATIQUE</th>\n",
       "      <td>Dalle d'écran Toshiba Satellite A355-S6944 16 ...</td>\n",
       "      <td>Dalle d'écran Toshiba Satellite A355-S6944 16 ...</td>\n",
       "      <td>AUCUNE</td>\n",
       "    </tr>\n",
       "    <tr>\n",
       "      <th>INSTRUMENTS DE MUSIQUE</th>\n",
       "      <td>KURT - Sangle courroie pour guitare et basse, ...</td>\n",
       "      <td>KURT - Sangle courroie pour guitare et basse, ...</td>\n",
       "      <td>AUCUNE</td>\n",
       "    </tr>\n",
       "    <tr>\n",
       "      <th>JARDIN - PISCINE</th>\n",
       "      <td>Thermomètre pour barbecues ronds Outdoorchef -...</td>\n",
       "      <td>Thermomètre pour barbecues ronds Outdoorchef</td>\n",
       "      <td>OUTDOORCHEF</td>\n",
       "    </tr>\n",
       "    <tr>\n",
       "      <th>JOUET (NEW)</th>\n",
       "      <td>STAR WARS FIGURINE NABOO SOLDIER + EXCLUSIVE C...</td>\n",
       "      <td>STAR WARS FIGURINE NABOO SOLDIER + EXCLUSIVE COIN</td>\n",
       "      <td>HASBRO</td>\n",
       "    </tr>\n",
       "    <tr>\n",
       "      <th>LIBRAIRIE</th>\n",
       "      <td>Photogalerie</td>\n",
       "      <td>LOUIS STETTNER. Sophisme, photographies 1990-1999</td>\n",
       "      <td>AUCUNE</td>\n",
       "    </tr>\n",
       "    <tr>\n",
       "      <th>LITERIE</th>\n",
       "      <td>Ce matelas conviendra parfaitement aux personn...</td>\n",
       "      <td>Matelas ressorts ensachés Arès 70x190</td>\n",
       "      <td>LINEA BAMBOO</td>\n",
       "    </tr>\n",
       "    <tr>\n",
       "      <th>LOISIRS CREATIFS - BEAUX ARTS - PAPETERIE</th>\n",
       "      <td>Powercolor Powertex - Vert Mousse - Powercolor...</td>\n",
       "      <td>Powercolor Powertex - Vert Mousse</td>\n",
       "      <td>AUCUNE</td>\n",
       "    </tr>\n",
       "    <tr>\n",
       "      <th>MANUTENTION</th>\n",
       "      <td>Serre-câbles vert 280x4,5mm - Serre-câbles ver...</td>\n",
       "      <td>Serre-câbles vert 280x4,5mm</td>\n",
       "      <td>CIMCO</td>\n",
       "    </tr>\n",
       "    <tr>\n",
       "      <th>MATERIEL DE BUREAU</th>\n",
       "      <td>Sous-main Escolar Tabla Multiplicar Princesas ...</td>\n",
       "      <td>Sous-main Escolar Tabla Multiplicar Princesas</td>\n",
       "      <td>AUCUNE</td>\n",
       "    </tr>\n",
       "    <tr>\n",
       "      <th>MATERIEL MEDICAL</th>\n",
       "      <td>Compresses Oculaires Steriles Optisoft 95 x 65...</td>\n",
       "      <td>Compresses Oculaires Steriles Optisoft 95 x 65mm</td>\n",
       "      <td>MATERIELMEDICAL.FR</td>\n",
       "    </tr>\n",
       "    <tr>\n",
       "      <th>MERCERIE</th>\n",
       "      <td>Kit à broder au point de croix - Famille d'élé...</td>\n",
       "      <td>Kit à broder au point de croix - Famille d'élé...</td>\n",
       "      <td>AUCUNE</td>\n",
       "    </tr>\n",
       "    <tr>\n",
       "      <th>MEUBLE</th>\n",
       "      <td>Corbeille de rangement en rotin blanc.Dimensio...</td>\n",
       "      <td>Corbeille de rangement en rotin blanc 48x36x25 cm</td>\n",
       "      <td>AUBRY GASPARD</td>\n",
       "    </tr>\n",
       "    <tr>\n",
       "      <th>PARAPHARMACIE</th>\n",
       "      <td>Chiendent 250 ml. - S utilise pour les calculs...</td>\n",
       "      <td>Chiendent 250 ml.</td>\n",
       "      <td>SANTAFLOR</td>\n",
       "    </tr>\n",
       "    <tr>\n",
       "      <th>PHOTO - OPTIQUE</th>\n",
       "      <td>Specifications:Tension:14,4VCapacite:7800mAh/1...</td>\n",
       "      <td>Batterie pour (prof.) caméscope Sony DSR-300 1...</td>\n",
       "      <td>POWERY</td>\n",
       "    </tr>\n",
       "    <tr>\n",
       "      <th>POINT DE VENTE - COMMERCE - ADMINISTRATION</th>\n",
       "      <td>Socket Bluetooth Cordless Hand Scanner 7Ci - S...</td>\n",
       "      <td>SOCKET MOBILE CX2883-1480</td>\n",
       "      <td>SOCKET MOBILE</td>\n",
       "    </tr>\n",
       "    <tr>\n",
       "      <th>PRODUITS FRAIS</th>\n",
       "      <td>Pain au chocolat - PASQUIER - Pain au chocolat...</td>\n",
       "      <td>Pain au chocolat</td>\n",
       "      <td>PASQUIER</td>\n",
       "    </tr>\n",
       "    <tr>\n",
       "      <th>PUERICULTURE</th>\n",
       "      <td>Plus de sécurité grâce à sa très grande facili...</td>\n",
       "      <td>Siège auto Pebble Groupe 0+ avec Embase Family...</td>\n",
       "      <td>BÉBÉ CONFORT</td>\n",
       "    </tr>\n",
       "    <tr>\n",
       "      <th>SONO - DJ</th>\n",
       "      <td>Beamz Liquide pour machine à neige - 5 L - Bea...</td>\n",
       "      <td>Beamz Liquide pour machine à neige - 5 L</td>\n",
       "      <td>BEAMZ</td>\n",
       "    </tr>\n",
       "    <tr>\n",
       "      <th>SPORT (NEW)</th>\n",
       "      <td>Stay Cool Boxer Femme avec mesh - Cool Bike sh...</td>\n",
       "      <td>Stay Cool Boxer Femme avec mesh</td>\n",
       "      <td>CRAFT</td>\n",
       "    </tr>\n",
       "    <tr>\n",
       "      <th>TATOUAGE - PIERCING</th>\n",
       "      <td>PIERCING NOMBRIL Blow Me Logo  du piercing : B...</td>\n",
       "      <td>PIERCING NOMBRIL Blow Me Logo  du piercing : Bl…</td>\n",
       "      <td>AUCUNE</td>\n",
       "    </tr>\n",
       "    <tr>\n",
       "      <th>TELEPHONIE - GPS</th>\n",
       "      <td>Coque de protection rigide pour iPhone 6plus -...</td>\n",
       "      <td>Coque de protection rigide pour iPhone 6plus</td>\n",
       "      <td>AUCUNE</td>\n",
       "    </tr>\n",
       "    <tr>\n",
       "      <th>TENUE PROFESSIONNELLE</th>\n",
       "      <td>DIADORA-Chaussure haute FLASH HI RUN Light Gre...</td>\n",
       "      <td>DIADORA-Chaussure haute FLASH HI RUN Light Grey…</td>\n",
       "      <td>DIADORA</td>\n",
       "    </tr>\n",
       "    <tr>\n",
       "      <th>TV - VIDEO - SON</th>\n",
       "      <td>Câble avec deux prises jack stéréo 3,5mm.Longu...</td>\n",
       "      <td>Câble cordon jack stéréo 3.5-3.5mm 1.8m 1.8 mè...</td>\n",
       "      <td>AUCUNE</td>\n",
       "    </tr>\n",
       "    <tr>\n",
       "      <th>VETEMENTS - LINGERIE</th>\n",
       "      <td>tee shirt manches longues pour fillette legere...</td>\n",
       "      <td>tee shirt violine DISNEY reine des neiges 6 ans</td>\n",
       "      <td>DISNEY</td>\n",
       "    </tr>\n",
       "    <tr>\n",
       "      <th>VIN - ALCOOL - LIQUIDES</th>\n",
       "      <td>Sirop de citron - Sirop de glucose-fructose - ...</td>\n",
       "      <td>Sirop de citron</td>\n",
       "      <td>CASINO</td>\n",
       "    </tr>\n",
       "  </tbody>\n",
       "</table>\n",
       "</div>"
      ],
      "text/plain": [
       "                                                                                  Description  \\\n",
       "Categorie1                                                                                      \n",
       "ADULTE - EROTIQUE                           Clubwear robe  inserts metalliques lingerie se...   \n",
       "ANIMALERIE - NEW                            Manteau pour chien - Auteuil Rouge & Noir (36c...   \n",
       "ARME DE COMBAT - ARME DE SPORT              Adaptateur silencieux pour SA1G -14mm antihora...   \n",
       "ART DE LA TABLE - ARTICLES CULINAIRES       Koolart Cartoon Mug-De Tomaso-Mangusta-659 - M...   \n",
       "ARTICLES POUR FUMEUR                        TABAC BLOND VIRGINIA - Taux de nicotine : 16 m...   \n",
       "AUTO - MOTO (NEW)                           Gants SHOT MECHANIC noir - Gant spécialement d...   \n",
       "BAGAGERIE                                   Porte-Monnaie Nat et Nin reference NNALLY coul...   \n",
       "BATEAU MOTEUR - VOILIER                     Taud télescopique. Pour zodiacs. - Variante: b...   \n",
       "BIJOUX -  LUNETTES - MONTRES                Go Montre Femme 698402 - Cette montre Femme de...   \n",
       "BRICOLAGE - OUTILLAGE - QUINCAILLERIE       Specifications:Tension:12VCapacite:3000mAh/36W...   \n",
       "CHAUSSURES - ACCESSOIRES                    V5559 - Sandale PLATAFORMA BLANCO ARMANI JEANS...   \n",
       "CONDITIONNEMENT                             Boite de 250 pochettes à soufflets en kraft 12...   \n",
       "CULTURE / JEUX                                                                              .   \n",
       "DECO - LINGE - LUMINAIRE                    Housse de couette 220x240cm VICTOIRE GRIS PERL...   \n",
       "DROGUERIE (NEW)                             Porte-balayette PELLET - Porte-balayette blanc...   \n",
       "ELECTROMENAGER                              Pompe de vidange DFH625 - Pompe de vidange DFH...   \n",
       "ELECTRONIQUE                                Plaque d'extrémité et intermédiaire Contenu: 2...   \n",
       "EPICERIE                                    Bol Banania avec ses Chocolats Banamix [Bol ga...   \n",
       "HYGIENE - BEAUTE - PARFUM                   Eau de Jonzac Retouche BB Compact Perfecteur d...   \n",
       "INFORMATIQUE                                Dalle d'écran Toshiba Satellite A355-S6944 16 ...   \n",
       "INSTRUMENTS DE MUSIQUE                      KURT - Sangle courroie pour guitare et basse, ...   \n",
       "JARDIN - PISCINE                            Thermomètre pour barbecues ronds Outdoorchef -...   \n",
       "JOUET (NEW)                                 STAR WARS FIGURINE NABOO SOLDIER + EXCLUSIVE C...   \n",
       "LIBRAIRIE                                                                        Photogalerie   \n",
       "LITERIE                                     Ce matelas conviendra parfaitement aux personn...   \n",
       "LOISIRS CREATIFS - BEAUX ARTS - PAPETERIE   Powercolor Powertex - Vert Mousse - Powercolor...   \n",
       "MANUTENTION                                 Serre-câbles vert 280x4,5mm - Serre-câbles ver...   \n",
       "MATERIEL DE BUREAU                          Sous-main Escolar Tabla Multiplicar Princesas ...   \n",
       "MATERIEL MEDICAL                            Compresses Oculaires Steriles Optisoft 95 x 65...   \n",
       "MERCERIE                                    Kit à broder au point de croix - Famille d'élé...   \n",
       "MEUBLE                                      Corbeille de rangement en rotin blanc.Dimensio...   \n",
       "PARAPHARMACIE                               Chiendent 250 ml. - S utilise pour les calculs...   \n",
       "PHOTO - OPTIQUE                             Specifications:Tension:14,4VCapacite:7800mAh/1...   \n",
       "POINT DE VENTE - COMMERCE - ADMINISTRATION  Socket Bluetooth Cordless Hand Scanner 7Ci - S...   \n",
       "PRODUITS FRAIS                              Pain au chocolat - PASQUIER - Pain au chocolat...   \n",
       "PUERICULTURE                                Plus de sécurité grâce à sa très grande facili...   \n",
       "SONO - DJ                                   Beamz Liquide pour machine à neige - 5 L - Bea...   \n",
       "SPORT (NEW)                                 Stay Cool Boxer Femme avec mesh - Cool Bike sh...   \n",
       "TATOUAGE - PIERCING                         PIERCING NOMBRIL Blow Me Logo  du piercing : B...   \n",
       "TELEPHONIE - GPS                            Coque de protection rigide pour iPhone 6plus -...   \n",
       "TENUE PROFESSIONNELLE                       DIADORA-Chaussure haute FLASH HI RUN Light Gre...   \n",
       "TV - VIDEO - SON                            Câble avec deux prises jack stéréo 3,5mm.Longu...   \n",
       "VETEMENTS - LINGERIE                        tee shirt manches longues pour fillette legere...   \n",
       "VIN - ALCOOL - LIQUIDES                     Sirop de citron - Sirop de glucose-fructose - ...   \n",
       "\n",
       "                                                                                      Libelle  \\\n",
       "Categorie1                                                                                      \n",
       "ADULTE - EROTIQUE                                              Clubwear robe  inserts met S/M   \n",
       "ANIMALERIE - NEW                             Manteau pour chien - Auteuil Rouge & Noir (36cm)   \n",
       "ARME DE COMBAT - ARME DE SPORT              Adaptateur silencieux pour SA1G -14mm antihoraire   \n",
       "ART DE LA TABLE - ARTICLES CULINAIRES              Koolart Cartoon Mug-De Tomaso-Mangusta-659   \n",
       "ARTICLES POUR FUMEUR                          TABAC BLOND VIRGINIA - Taux de nicotine : 16 mg   \n",
       "AUTO - MOTO (NEW)                                                  Gants SHOT MECHANIC noir L   \n",
       "BAGAGERIE                                    Porte-Monnaie Nat et Nin reference NNALLY coule…   \n",
       "BATEAU MOTEUR - VOILIER                                      Taud télescopique. Pour zodiacs.   \n",
       "BIJOUX -  LUNETTES - MONTRES                                           Go Montre Femme 698402   \n",
       "BRICOLAGE - OUTILLAGE - QUINCAILLERIE       Batterie pour ELU type EZWA61 12V 3000mAh/36Wh...   \n",
       "CHAUSSURES - ACCESSOIRES                                       V5559 - Sandale PLATAFORMA  39   \n",
       "CONDITIONNEMENT                              Boite de 250 pochettes à soufflets en kraft 120…   \n",
       "CULTURE / JEUX                                                      DIANA KRALL Live in Paris   \n",
       "DECO - LINGE - LUMINAIRE                      Housse de couette 220x240cm VICTOIRE GRIS PERLE   \n",
       "DROGUERIE (NEW)                                                        Porte-balayette PELLET   \n",
       "ELECTROMENAGER                                                        Pompe de vidange DFH625   \n",
       "ELECTRONIQUE                                 Plaque d'extrémité et intermédiaire Contenu: 25…   \n",
       "EPICERIE                                    Bol Banania avec ses Chocolats Banamix [Bol ga...   \n",
       "HYGIENE - BEAUTE - PARFUM                   Eau de Jonzac Retouche BB Compact Perfecteur d...   \n",
       "INFORMATIQUE                                Dalle d'écran Toshiba Satellite A355-S6944 16 ...   \n",
       "INSTRUMENTS DE MUSIQUE                      KURT - Sangle courroie pour guitare et basse, ...   \n",
       "JARDIN - PISCINE                                 Thermomètre pour barbecues ronds Outdoorchef   \n",
       "JOUET (NEW)                                 STAR WARS FIGURINE NABOO SOLDIER + EXCLUSIVE COIN   \n",
       "LIBRAIRIE                                   LOUIS STETTNER. Sophisme, photographies 1990-1999   \n",
       "LITERIE                                                 Matelas ressorts ensachés Arès 70x190   \n",
       "LOISIRS CREATIFS - BEAUX ARTS - PAPETERIE                   Powercolor Powertex - Vert Mousse   \n",
       "MANUTENTION                                                       Serre-câbles vert 280x4,5mm   \n",
       "MATERIEL DE BUREAU                              Sous-main Escolar Tabla Multiplicar Princesas   \n",
       "MATERIEL MEDICAL                             Compresses Oculaires Steriles Optisoft 95 x 65mm   \n",
       "MERCERIE                                    Kit à broder au point de croix - Famille d'élé...   \n",
       "MEUBLE                                      Corbeille de rangement en rotin blanc 48x36x25 cm   \n",
       "PARAPHARMACIE                                                               Chiendent 250 ml.   \n",
       "PHOTO - OPTIQUE                             Batterie pour (prof.) caméscope Sony DSR-300 1...   \n",
       "POINT DE VENTE - COMMERCE - ADMINISTRATION                          SOCKET MOBILE CX2883-1480   \n",
       "PRODUITS FRAIS                                                               Pain au chocolat   \n",
       "PUERICULTURE                                Siège auto Pebble Groupe 0+ avec Embase Family...   \n",
       "SONO - DJ                                            Beamz Liquide pour machine à neige - 5 L   \n",
       "SPORT (NEW)                                                   Stay Cool Boxer Femme avec mesh   \n",
       "TATOUAGE - PIERCING                          PIERCING NOMBRIL Blow Me Logo  du piercing : Bl…   \n",
       "TELEPHONIE - GPS                                 Coque de protection rigide pour iPhone 6plus   \n",
       "TENUE PROFESSIONNELLE                        DIADORA-Chaussure haute FLASH HI RUN Light Grey…   \n",
       "TV - VIDEO - SON                            Câble cordon jack stéréo 3.5-3.5mm 1.8m 1.8 mè...   \n",
       "VETEMENTS - LINGERIE                          tee shirt violine DISNEY reine des neiges 6 ans   \n",
       "VIN - ALCOOL - LIQUIDES                                                       Sirop de citron   \n",
       "\n",
       "                                                         Marque  \n",
       "Categorie1                                                       \n",
       "ADULTE - EROTIQUE                                        AUCUNE  \n",
       "ANIMALERIE - NEW                                 MARTIN SELLIER  \n",
       "ARME DE COMBAT - ARME DE SPORT                       SWISS ARMS  \n",
       "ART DE LA TABLE - ARTICLES CULINAIRES                    AUCUNE  \n",
       "ARTICLES POUR FUMEUR                                     AUCUNE  \n",
       "AUTO - MOTO (NEW)                                        AUCUNE  \n",
       "BAGAGERIE                                                AUCUNE  \n",
       "BATEAU MOTEUR - VOILIER                                  AUCUNE  \n",
       "BIJOUX -  LUNETTES - MONTRES                                 GO  \n",
       "BRICOLAGE - OUTILLAGE - QUINCAILLERIE                    POWERY  \n",
       "CHAUSSURES - ACCESSOIRES                           ARMANI JEANS  \n",
       "CONDITIONNEMENT                                     VISIODIRECT  \n",
       "CULTURE / JEUX                                           AUCUNE  \n",
       "DECO - LINGE - LUMINAIRE                                 AUCUNE  \n",
       "DROGUERIE (NEW)                                          AUCUNE  \n",
       "ELECTROMENAGER                                           BRANDT  \n",
       "ELECTRONIQUE                                               WAGO  \n",
       "EPICERIE                                                BANANIA  \n",
       "HYGIENE - BEAUTE - PARFUM                   EAU THERMALE JONZAC  \n",
       "INFORMATIQUE                                             AUCUNE  \n",
       "INSTRUMENTS DE MUSIQUE                                   AUCUNE  \n",
       "JARDIN - PISCINE                                    OUTDOORCHEF  \n",
       "JOUET (NEW)                                              HASBRO  \n",
       "LIBRAIRIE                                                AUCUNE  \n",
       "LITERIE                                            LINEA BAMBOO  \n",
       "LOISIRS CREATIFS - BEAUX ARTS - PAPETERIE                AUCUNE  \n",
       "MANUTENTION                                               CIMCO  \n",
       "MATERIEL DE BUREAU                                       AUCUNE  \n",
       "MATERIEL MEDICAL                             MATERIELMEDICAL.FR  \n",
       "MERCERIE                                                 AUCUNE  \n",
       "MEUBLE                                            AUBRY GASPARD  \n",
       "PARAPHARMACIE                                         SANTAFLOR  \n",
       "PHOTO - OPTIQUE                                          POWERY  \n",
       "POINT DE VENTE - COMMERCE - ADMINISTRATION        SOCKET MOBILE  \n",
       "PRODUITS FRAIS                                         PASQUIER  \n",
       "PUERICULTURE                                       BÉBÉ CONFORT  \n",
       "SONO - DJ                                                 BEAMZ  \n",
       "SPORT (NEW)                                               CRAFT  \n",
       "TATOUAGE - PIERCING                                      AUCUNE  \n",
       "TELEPHONIE - GPS                                         AUCUNE  \n",
       "TENUE PROFESSIONNELLE                                   DIADORA  \n",
       "TV - VIDEO - SON                                         AUCUNE  \n",
       "VETEMENTS - LINGERIE                                     DISNEY  \n",
       "VIN - ALCOOL - LIQUIDES                                  CASINO  "
      ]
     },
     "execution_count": 6,
     "metadata": {},
     "output_type": "execute_result"
    }
   ],
   "source": [
    "data_train.groupby(\"Categorie1\").first()[[\"Description\",\"Libelle\",\"Marque\"]]"
   ]
  },
  {
   "cell_type": "markdown",
   "metadata": {},
   "source": [
    "### Distribution des classes"
   ]
  },
  {
   "cell_type": "code",
   "execution_count": 7,
   "metadata": {},
   "outputs": [
    {
     "data": {
      "image/png": "[encoded data removed]",
      "text/plain": [
       "<matplotlib.figure.Figure at 0x7f804c1b9e80>"
      ]
     },
     "metadata": {
      "needs_background": "light"
     },
     "output_type": "display_data"
    }
   ],
   "source": [
    "#Count occurence of each Categorie\n",
    "data_count = data_train[\"Categorie1\"].value_counts()\n",
    "#Rename index to add percentage\n",
    "new_index = [k+ \": %.2f%%\" %(v*100/N_train) for k,v in data_count.iteritems()]\n",
    "data_count.index= new_index\n",
    "\n",
    "fig=plt.figure(figsize= (10,10))\n",
    "ax = fig.add_subplot(1,1,1)\n",
    "data_count.plot.barh(logx = False)\n",
    "plt.show()"
   ]
  },
  {
   "cell_type": "markdown",
   "metadata": {},
   "source": [
    "**Q** Que peut-on dire sur la distribution de ces classes?"
   ]
  },
  {
   "cell_type": "markdown",
   "metadata": {},
   "source": [
    "### Sauvegarde des données\n",
    "\n",
    "On sauvegarde dans des csv les fichiers `train` et `validation` afin que ces mêmes fichiers soit ré-utilisés plus tard dans d'autre calepin"
   ]
  },
  {
   "cell_type": "code",
   "execution_count": 8,
   "metadata": {
    "collapsed": true
   },
   "outputs": [],
   "source": [
    "data_valid.to_csv(\"data/cdiscount_valid.csv\", index=False)\n",
    "data_train.to_csv(\"data/cdiscount_train_subset.csv\", index=False)"
   ]
  },
  {
   "cell_type": "markdown",
   "metadata": {},
   "source": [
    "##  Nettoyage des données\n",
    "\n",
    "Afin de limiter la dimension de l'espace des variables ou *features* (i.e les mots présents dans le document), tout en conservant les informations essentielles, il est nécessaire de nettoyer les données en appliquant plusieurs étapes:\n",
    "\n",
    "* Chaque mot est écrit en minuscule.\n",
    "* Les termes numériques, de ponctuation et autres symboles sont supprimés.\n",
    "* 155 mots-courants, et donc non informatifs, de la langue française sont supprimés (STOPWORDS). Ex: le, la, du, alors, etc...\n",
    "* Chaque mot est \"racinisé\", via la fonction `STEMMER.stem` de la librairie nltk. La racinisation transforme un mot en son radical ou sa racine. Par exemple, les mots: cheval, chevaux, chevalier, chevalerie, chevaucher sont tous remplacés par \"cheva\"."
   ]
  },
  {
   "cell_type": "markdown",
   "metadata": {},
   "source": [
    "### Exemple \n",
    "\n",
    "Observons dans un premier temps l'effet de ces différentes étapes sur un  exemple. \n",
    "\n",
    "**Ligne Originale**"
   ]
  },
  {
   "cell_type": "code",
   "execution_count": 9,
   "metadata": {},
   "outputs": [
    {
     "name": "stdout",
     "output_type": "stream",
     "text": [
      "Original Description : Coque de protection rigide pour iPhone 6plus - Le Dessin tribale d'Aztec Coloré   Coque pour iPhone 6plus…Voir la présentation\n"
     ]
    }
   ],
   "source": [
    "i = 0\n",
    "description = data_train.Description.values[i]\n",
    "print(\"Original Description : \" + description)"
   ]
  },
  {
   "cell_type": "markdown",
   "metadata": {},
   "source": [
    "**Suppression des posibles balises HTML dans la description**\n",
    "\n",
    "Les descriptions produits étant parfois extraites d'autres sites commerçant, des balises HTML peuvent être incluts dans la description. \n",
    "La librairie 'BeautifulSoup' permet de supprimer ces balises\n"
   ]
  },
  {
   "cell_type": "code",
   "execution_count": 10,
   "metadata": {},
   "outputs": [
    {
     "name": "stdout",
     "output_type": "stream",
     "text": [
      "Coque de protection rigide pour iPhone 6plus - Le Dessin tribale d'Aztec Coloré   Coque pour iPhone 6plus…Voir la présentation\n"
     ]
    },
    {
     "name": "stderr",
     "output_type": "stream",
     "text": [
      "/home/brendan.guillouet/anaconda3/envs/DEEL/lib/python3.5/site-packages/bs4/__init__.py:179: UserWarning: You provided Unicode markup but also provided a value for from_encoding. Your from_encoding will be ignored.\n",
      "  warnings.warn(\"You provided Unicode markup but also provided a value for from_encoding. Your from_encoding will be ignored.\")\n"
     ]
    }
   ],
   "source": [
    "from bs4 import BeautifulSoup #Nettoyage d'HTML\n",
    "txt = BeautifulSoup(description,\"html.parser\",from_encoding='utf-8').get_text()\n",
    "print(txt)"
   ]
  },
  {
   "cell_type": "markdown",
   "metadata": {},
   "source": [
    "**Conversion du texte en minuscule**\n",
    "\n",
    "Certaines mots peuvent être écrits en majuscule dans les descriptions textes, cela à pour conséquence de dupliquer le nombre de features et une perte d'information."
   ]
  },
  {
   "cell_type": "code",
   "execution_count": 11,
   "metadata": {},
   "outputs": [
    {
     "name": "stdout",
     "output_type": "stream",
     "text": [
      "coque de protection rigide pour iphone 6plus - le dessin tribale d'aztec coloré   coque pour iphone 6plus…voir la présentation\n"
     ]
    }
   ],
   "source": [
    "txt = txt.lower()\n",
    "print(txt)"
   ]
  },
  {
   "cell_type": "markdown",
   "metadata": {},
   "source": [
    "**Remplacement de caractères spéciaux**\n",
    "\n",
    "Certains caractères spéciaux sont supprimés comme par exemple :\n",
    "\n",
    "* `\\u2026`: `…`\n",
    "* `\\u00a0`: `NO-BREAK SPACE`\n",
    "\n",
    "Cette liste est non exhaustive et peut être etayée en fonction du jeu de donées étudié, de l'objectif souhaité ou encore du résultat de l'étude explorative."
   ]
  },
  {
   "cell_type": "code",
   "execution_count": 12,
   "metadata": {},
   "outputs": [
    {
     "name": "stdout",
     "output_type": "stream",
     "text": [
      "coque de protection rigide pour iphone 6plus - le dessin tribale d'aztec coloré   coque pour iphone 6plus.voir la présentation\n"
     ]
    }
   ],
   "source": [
    "txt = txt.replace(u'\\u2026','.')    \n",
    "txt = txt.replace(u'\\u00a0',' ')\n",
    "print(txt)"
   ]
  },
  {
   "cell_type": "markdown",
   "metadata": {},
   "source": [
    "**Suppression des accents**"
   ]
  },
  {
   "cell_type": "code",
   "execution_count": 13,
   "metadata": {},
   "outputs": [
    {
     "name": "stdout",
     "output_type": "stream",
     "text": [
      "coque de protection rigide pour iphone 6plus - le dessin tribale d'aztec colore   coque pour iphone 6plus.voir la presentation\n"
     ]
    }
   ],
   "source": [
    "txt = unicodedata.normalize('NFD', txt).encode('ascii', 'ignore').decode(\"utf-8\")\n",
    "print(txt)"
   ]
  },
  {
   "cell_type": "markdown",
   "metadata": {},
   "source": [
    "**Supprime les caractères qui ne sont ne sont pas des lettres minuscules**\n",
    "\n",
    "Une fois ces premières étapes passées, on supprime tous les caractères qui sont pas des lettres minusculres, c'est à dire les signes de ponctuation, les caractères numériques etc..."
   ]
  },
  {
   "cell_type": "code",
   "execution_count": 14,
   "metadata": {},
   "outputs": [
    {
     "name": "stdout",
     "output_type": "stream",
     "text": [
      "coque de protection rigide pour iphone  plus   le dessin tribale d aztec colore   coque pour iphone  plus voir la presentation\n"
     ]
    }
   ],
   "source": [
    "txt = re.sub('[^a-z_]', ' ', txt)\n",
    "print(txt)"
   ]
  },
  {
   "cell_type": "markdown",
   "metadata": {},
   "source": [
    "**Remplace la description par une liste de mots (tokens), supprime les mots de moins de 2 lettres ainsi que les stopwords**\n",
    "\n",
    "On va supprimer maintenant tous les mots considérés comme \"non-informatif\". Par exemple : \"le\", \"la\", \"de\" ...\n",
    "Des listes contenants ces mots sont proposés dans des libraires tels que *nltk* ou encore *lucène*."
   ]
  },
  {
   "cell_type": "code",
   "execution_count": 15,
   "metadata": {},
   "outputs": [
    {
     "data": {
      "text/plain": [
       "['avant',\n",
       " 'eu',\n",
       " 'quand',\n",
       " 'étante',\n",
       " 'va',\n",
       " 'ayante',\n",
       " 'ont',\n",
       " 'malgré',\n",
       " 'à',\n",
       " 'suis']"
      ]
     },
     "execution_count": 15,
     "metadata": {},
     "output_type": "execute_result"
    }
   ],
   "source": [
    "## listes de mots à supprimer dans la description des produits\n",
    "## Depuis NLTK\n",
    "nltk_stopwords = nltk.corpus.stopwords.words('french') \n",
    "## Depuis Un fichier externe.\n",
    "lucene_stopwords =open(\"data/lucene_stopwords.txt\",\"r\").read().split(\",\") #En local\n",
    "## Union des deux fichiers de stopwords \n",
    "stopwords = list(set(nltk_stopwords).union(set(lucene_stopwords)))\n",
    "\n",
    "stopwords[:10]"
   ]
  },
  {
   "cell_type": "markdown",
   "metadata": {},
   "source": [
    "On applique également la suppression des accents à cette liste"
   ]
  },
  {
   "cell_type": "code",
   "execution_count": 16,
   "metadata": {},
   "outputs": [
    {
     "data": {
      "text/plain": [
       "['avant',\n",
       " 'eu',\n",
       " 'quand',\n",
       " 'etante',\n",
       " 'va',\n",
       " 'ayante',\n",
       " 'ont',\n",
       " 'malgre',\n",
       " 'a',\n",
       " 'suis']"
      ]
     },
     "execution_count": 16,
     "metadata": {},
     "output_type": "execute_result"
    }
   ],
   "source": [
    "stopwords = [unicodedata.normalize('NFD', sw).encode('ascii', 'ignore').decode(\"utf-8\") for sw in stopwords]\n",
    "stopwords[:10]"
   ]
  },
  {
   "cell_type": "markdown",
   "metadata": {},
   "source": [
    "Enfin on crée des *tokens*, liste de mots dans la description produit, en supprimant les éléments de notre description produit qui sont présent dans la liste de stopword."
   ]
  },
  {
   "cell_type": "code",
   "execution_count": 17,
   "metadata": {},
   "outputs": [
    {
     "name": "stdout",
     "output_type": "stream",
     "text": [
      "['coque', 'protection', 'rigide', 'iphone', 'dessin', 'tribale', 'aztec', 'colore', 'coque', 'iphone', 'voir', 'presentation']\n",
      "['de', 'pour', 'plus', 'le', 'd', 'pour', 'plus', 'la']\n"
     ]
    }
   ],
   "source": [
    "tokens = [w for w in txt.split() if (len(w)>2) and (w not in stopwords)]\n",
    "remove_words = [w for w in txt.split() if (len(w)<2) or (w in stopwords)]\n",
    "\n",
    "print(tokens)\n",
    "print(remove_words)"
   ]
  },
  {
   "cell_type": "markdown",
   "metadata": {},
   "source": [
    "**Racinisation (Stem) chaque tokens**\n",
    "\n",
    "Pour chaque mot de notre liste de token, on va ramener ce mot à sa racine au sens de l'algorithme de Snowball présent dans la librairie **nltk**. \n",
    "\n",
    "Cette liste de mots néttoyé et racinisé va constitué les *features* de cette description produits."
   ]
  },
  {
   "cell_type": "code",
   "execution_count": 18,
   "metadata": {},
   "outputs": [
    {
     "name": "stdout",
     "output_type": "stream",
     "text": [
      "['coqu', 'protect', 'rigid', 'iphon', 'dessin', 'tribal', 'aztec', 'color', 'coqu', 'iphon', 'voir', 'present']\n"
     ]
    }
   ],
   "source": [
    "## Fonction de setmming de stemming permettant la racinisation\n",
    "stemmer=nltk.stem.SnowballStemmer('french')\n",
    "tokens_stem = [stemmer.stem(token) for token in tokens]\n",
    "print(tokens_stem)"
   ]
  },
  {
   "cell_type": "markdown",
   "metadata": {},
   "source": [
    "### Fonction de nettoyage de texte\n",
    "\n",
    "On définit une fonction `clean-txt` qui prend en entrée un texte de description produit et qui retourne le texte nettoyé en appliquant successivement les étapes présentés précedemment. \n",
    "\n",
    "On définit également une fonction `clean_marque` qui contient signifcativement moins d'étape de nettoyage. "
   ]
  },
  {
   "cell_type": "code",
   "execution_count": 19,
   "metadata": {
    "code_folding": [],
    "collapsed": true
   },
   "outputs": [],
   "source": [
    "# Fonction clean générale\n",
    "def clean_txt(txt):\n",
    "    ### remove html stuff\n",
    "    txt = BeautifulSoup(txt,\"html.parser\",from_encoding='utf-8').get_text()\n",
    "    ### lower case\n",
    "    txt = txt.lower()\n",
    "    ### special escaping character '...'\n",
    "    txt = txt.replace(u'\\u2026','.')\n",
    "    txt = txt.replace(u'\\u00a0',' ')\n",
    "    ### remove accent btw\n",
    "    txt = unicodedata.normalize('NFD', txt).encode('ascii', 'ignore').decode(\"utf-8\")\n",
    "    ###txt = unidecode(txt)\n",
    "    ### remove non alphanumeric char\n",
    "    txt = re.sub('[^a-z_]', ' ', txt)\n",
    "    ### remove french stop words\n",
    "    tokens = [w for w in txt.split() if (len(w)>2) and (w not in stopwords)]\n",
    "    ### french stemming\n",
    "    tokens_stem = [stemmer.stem(token) for token in tokens]\n",
    "    ### tokens = stemmer.stemWords(tokens)\n",
    "    return ' '.join(tokens), \" \".join(tokens_stem)\n",
    "\n",
    "def clean_marque(txt):\n",
    "    txt = re.sub('[^a-zA-Z0-9]', '_', txt).lower()\n",
    "    return txt"
   ]
  },
  {
   "cell_type": "markdown",
   "metadata": {},
   "source": [
    "Applique le nettoyage sur toutes les lignes de la DataFrame et créé deux nouvelles Dataframe (avant et sans l'étape de racinisation)."
   ]
  },
  {
   "cell_type": "code",
   "execution_count": 20,
   "metadata": {
    "code_folding": []
   },
   "outputs": [],
   "source": [
    "\n",
    "# fonction de nettoyage du fichier(stemming et liste de mots à supprimer)\n",
    "def clean_df(input_data, column_names= ['Description', 'Libelle', 'Marque']):\n",
    "\n",
    "    nb_line = input_data.shape[0]\n",
    "    print(\"Start Clean %d lines\" %nb_line)\n",
    "    \n",
    "    # Cleaning start for each columns\n",
    "    time_start = time.time()\n",
    "    clean_list=[]\n",
    "    clean_stem_list=[]\n",
    "    for column_name in column_names:\n",
    "        column = input_data[column_name].values\n",
    "        if column_name == \"Marque\":\n",
    "            array_clean = np.array(list(map(clean_marque,column)))\n",
    "            clean_list.append(array_clean)\n",
    "            clean_stem_list.append(array_clean)\n",
    "        else:\n",
    "            A = np.array(list(map(clean_txt,column)))\n",
    "            array_clean = A[:,0]\n",
    "            array_clean_stem = A[:,1]\n",
    "            clean_list.append(array_clean)\n",
    "            clean_stem_list.append(array_clean_stem)\n",
    "    time_end = time.time()\n",
    "    print(\"Cleaning time: %d secondes\"%(time_end-time_start))\n",
    "    \n",
    "    #Convert list to DataFrame\n",
    "    array_clean = np.array(clean_list).T\n",
    "    data_clean = pd.DataFrame(array_clean, columns = column_names)\n",
    "    \n",
    "    array_clean_stem = np.array(clean_stem_list).T\n",
    "    data_clean_stem = pd.DataFrame(array_clean_stem, columns = column_names)\n",
    "    return data_clean, data_clean_stem"
   ]
  },
  {
   "cell_type": "markdown",
   "metadata": {},
   "source": [
    "### Nettoyage des DataFrames"
   ]
  },
  {
   "cell_type": "code",
   "execution_count": 21,
   "metadata": {},
   "outputs": [
    {
     "name": "stdout",
     "output_type": "stream",
     "text": [
      "Start Clean 5000 lines\n",
      "Cleaning time: 5 secondes\n"
     ]
    }
   ],
   "source": [
    "# Take approximately 2 minutes fors 100.000 rows\n",
    "warnings.filterwarnings(\"ignore\")\n",
    "data_valid_clean, data_valid_clean_stem = clean_df(data_valid)"
   ]
  },
  {
   "cell_type": "code",
   "execution_count": 22,
   "metadata": {},
   "outputs": [
    {
     "name": "stdout",
     "output_type": "stream",
     "text": [
      "Start Clean 95000 lines\n",
      "Cleaning time: 101 secondes\n"
     ]
    }
   ],
   "source": [
    "warnings.filterwarnings(\"ignore\")\n",
    "data_train_clean, data_train_clean_stem = clean_df(data_train)"
   ]
  },
  {
   "cell_type": "markdown",
   "metadata": {},
   "source": [
    "Affiche les 5 premières lignes de la DataFrame d'apprentissage après nettoyage."
   ]
  },
  {
   "cell_type": "code",
   "execution_count": 23,
   "metadata": {},
   "outputs": [
    {
     "data": {
      "text/html": [
       "<div>\n",
       "<style scoped>\n",
       "    .dataframe tbody tr th:only-of-type {\n",
       "        vertical-align: middle;\n",
       "    }\n",
       "\n",
       "    .dataframe tbody tr th {\n",
       "        vertical-align: top;\n",
       "    }\n",
       "\n",
       "    .dataframe thead th {\n",
       "        text-align: right;\n",
       "    }\n",
       "</style>\n",
       "<table border=\"1\" class=\"dataframe\">\n",
       "  <thead>\n",
       "    <tr style=\"text-align: right;\">\n",
       "      <th></th>\n",
       "      <th>Description</th>\n",
       "      <th>Libelle</th>\n",
       "      <th>Marque</th>\n",
       "    </tr>\n",
       "  </thead>\n",
       "  <tbody>\n",
       "    <tr>\n",
       "      <th>0</th>\n",
       "      <td>coque protection rigide iphone dessin tribale ...</td>\n",
       "      <td>coque protection rigide iphone</td>\n",
       "      <td>aucune</td>\n",
       "    </tr>\n",
       "    <tr>\n",
       "      <th>1</th>\n",
       "      <td>gants shot mechanic noir gant specialement dev...</td>\n",
       "      <td>gants shot mechanic noir</td>\n",
       "      <td>aucune</td>\n",
       "    </tr>\n",
       "    <tr>\n",
       "      <th>2</th>\n",
       "      <td>coque sony xperia since bleu rigide made franc...</td>\n",
       "      <td>coque sony xperia since bleu rigide</td>\n",
       "      <td>aucune</td>\n",
       "    </tr>\n",
       "    <tr>\n",
       "      <th>3</th>\n",
       "      <td>coque rigide rose sony xperia motif drapeau no...</td>\n",
       "      <td>coque rigide rose sony xperia motif dra</td>\n",
       "      <td>muzzano</td>\n",
       "    </tr>\n",
       "    <tr>\n",
       "      <th>4</th>\n",
       "      <td>dalle ecran toshiba satellite wxga dalle ecran...</td>\n",
       "      <td>dalle ecran toshiba satellite</td>\n",
       "      <td>aucune</td>\n",
       "    </tr>\n",
       "  </tbody>\n",
       "</table>\n",
       "</div>"
      ],
      "text/plain": [
       "                                         Description  \\\n",
       "0  coque protection rigide iphone dessin tribale ...   \n",
       "1  gants shot mechanic noir gant specialement dev...   \n",
       "2  coque sony xperia since bleu rigide made franc...   \n",
       "3  coque rigide rose sony xperia motif drapeau no...   \n",
       "4  dalle ecran toshiba satellite wxga dalle ecran...   \n",
       "\n",
       "                                   Libelle   Marque  \n",
       "0           coque protection rigide iphone   aucune  \n",
       "1                 gants shot mechanic noir   aucune  \n",
       "2      coque sony xperia since bleu rigide   aucune  \n",
       "3  coque rigide rose sony xperia motif dra  muzzano  \n",
       "4            dalle ecran toshiba satellite   aucune  "
      ]
     },
     "execution_count": 23,
     "metadata": {},
     "output_type": "execute_result"
    }
   ],
   "source": [
    "data_train_clean.head(5)"
   ]
  },
  {
   "cell_type": "code",
   "execution_count": 24,
   "metadata": {},
   "outputs": [
    {
     "data": {
      "text/html": [
       "<div>\n",
       "<style scoped>\n",
       "    .dataframe tbody tr th:only-of-type {\n",
       "        vertical-align: middle;\n",
       "    }\n",
       "\n",
       "    .dataframe tbody tr th {\n",
       "        vertical-align: top;\n",
       "    }\n",
       "\n",
       "    .dataframe thead th {\n",
       "        text-align: right;\n",
       "    }\n",
       "</style>\n",
       "<table border=\"1\" class=\"dataframe\">\n",
       "  <thead>\n",
       "    <tr style=\"text-align: right;\">\n",
       "      <th></th>\n",
       "      <th>Description</th>\n",
       "      <th>Libelle</th>\n",
       "      <th>Marque</th>\n",
       "    </tr>\n",
       "  </thead>\n",
       "  <tbody>\n",
       "    <tr>\n",
       "      <th>0</th>\n",
       "      <td>coqu protect rigid iphon dessin tribal aztec c...</td>\n",
       "      <td>coqu protect rigid iphon</td>\n",
       "      <td>aucune</td>\n",
       "    </tr>\n",
       "    <tr>\n",
       "      <th>1</th>\n",
       "      <td>gant shot mechanic noir gant special developp ...</td>\n",
       "      <td>gant shot mechanic noir</td>\n",
       "      <td>aucune</td>\n",
       "    </tr>\n",
       "    <tr>\n",
       "      <th>2</th>\n",
       "      <td>coqu sony xperi sinc bleu rigid mad franc sony...</td>\n",
       "      <td>coqu sony xperi sinc bleu rigid</td>\n",
       "      <td>aucune</td>\n",
       "    </tr>\n",
       "    <tr>\n",
       "      <th>3</th>\n",
       "      <td>coqu rigid ros sony xperi motif drapeau norveg...</td>\n",
       "      <td>coqu rigid ros sony xperi motif dra</td>\n",
       "      <td>muzzano</td>\n",
       "    </tr>\n",
       "    <tr>\n",
       "      <th>4</th>\n",
       "      <td>dall ecran toshib satellit wxga dall ecran mat...</td>\n",
       "      <td>dall ecran toshib satellit</td>\n",
       "      <td>aucune</td>\n",
       "    </tr>\n",
       "  </tbody>\n",
       "</table>\n",
       "</div>"
      ],
      "text/plain": [
       "                                         Description  \\\n",
       "0  coqu protect rigid iphon dessin tribal aztec c...   \n",
       "1  gant shot mechanic noir gant special developp ...   \n",
       "2  coqu sony xperi sinc bleu rigid mad franc sony...   \n",
       "3  coqu rigid ros sony xperi motif drapeau norveg...   \n",
       "4  dall ecran toshib satellit wxga dall ecran mat...   \n",
       "\n",
       "                               Libelle   Marque  \n",
       "0             coqu protect rigid iphon   aucune  \n",
       "1              gant shot mechanic noir   aucune  \n",
       "2      coqu sony xperi sinc bleu rigid   aucune  \n",
       "3  coqu rigid ros sony xperi motif dra  muzzano  \n",
       "4           dall ecran toshib satellit   aucune  "
      ]
     },
     "execution_count": 24,
     "metadata": {},
     "output_type": "execute_result"
    }
   ],
   "source": [
    "data_train_clean_stem.head(5)"
   ]
  },
  {
   "cell_type": "markdown",
   "metadata": {},
   "source": [
    "Taille du dictionnaire de mots pour le dataset avant et après la racinisation."
   ]
  },
  {
   "cell_type": "code",
   "execution_count": 25,
   "metadata": {},
   "outputs": [
    {
     "name": "stdout",
     "output_type": "stream",
     "text": [
      "72762\n"
     ]
    }
   ],
   "source": [
    "concatenate_text = \" \".join(data_train_clean[\"Description\"].values)\n",
    "list_of_word = concatenate_text.split(\" \")\n",
    "N = len(set(list_of_word))\n",
    "print(N)"
   ]
  },
  {
   "cell_type": "code",
   "execution_count": 26,
   "metadata": {},
   "outputs": [
    {
     "name": "stdout",
     "output_type": "stream",
     "text": [
      "56591\n"
     ]
    }
   ],
   "source": [
    "concatenate_text = \" \".join(data_train_clean_stem[\"Description\"].values)\n",
    "list_of_word_stem = concatenate_text.split(\" \")\n",
    "N = len(set(list_of_word_stem))\n",
    "print(N)"
   ]
  },
  {
   "cell_type": "markdown",
   "metadata": {},
   "source": [
    "### Wordcloud"
   ]
  },
  {
   "cell_type": "code",
   "execution_count": 27,
   "metadata": {
    "collapsed": true
   },
   "outputs": [
    {
     "ename": "ImportError",
     "evalue": "No module named 'wordcloud'",
     "output_type": "error",
     "traceback": [
      "\u001b[0;31m---------------------------------------------------------------------------\u001b[0m",
      "\u001b[0;31mImportError\u001b[0m                               Traceback (most recent call last)",
      "\u001b[0;32m<ipython-input-27-021e0a03a31f>\u001b[0m in \u001b[0;36m<module>\u001b[0;34m()\u001b[0m\n\u001b[0;32m----> 1\u001b[0;31m \u001b[0;32mfrom\u001b[0m \u001b[0mwordcloud\u001b[0m \u001b[0;32mimport\u001b[0m \u001b[0mWordCloud\u001b[0m\u001b[0;34m\u001b[0m\u001b[0m\n\u001b[0m",
      "\u001b[0;31mImportError\u001b[0m: No module named 'wordcloud'"
     ]
    }
   ],
   "source": [
    "from wordcloud import WordCloud"
   ]
  },
  {
   "cell_type": "code",
   "execution_count": null,
   "metadata": {},
   "outputs": [],
   "source": [
    "all_descr = \" \".join(data_valid.Description.values)\n",
    "wordcloud_word = WordCloud(background_color=\"black\").generate_from_text(all_descr)\n",
    "\n",
    "plt.figure()\n",
    "plt.imshow(wordcloud_word,cmap=plt.cm.Paired)\n",
    "plt.axis(\"off\")\n",
    "plt.show()"
   ]
  },
  {
   "cell_type": "code",
   "execution_count": null,
   "metadata": {},
   "outputs": [],
   "source": [
    "all_descr_clean_stem = \" \".join(data_valid_clean_stem.Description.values)\n",
    "wordcloud_word = WordCloud(background_color=\"black\").generate_from_text(all_descr_clean_stem)\n",
    "\n",
    "plt.figure()\n",
    "plt.imshow(wordcloud_word,cmap=plt.cm.Paired)\n",
    "plt.axis(\"off\")\n",
    "plt.show()"
   ]
  },
  {
   "cell_type": "markdown",
   "metadata": {},
   "source": [
    "## Sauvegarde des jeux de données nettoyés dans des fichiers csv."
   ]
  },
  {
   "cell_type": "code",
   "execution_count": null,
   "metadata": {
    "collapsed": true
   },
   "outputs": [],
   "source": [
    "data_valid_clean.to_csv(\"data/cdiscount_valid_clean.csv\", index=False)\n",
    "data_train_clean.to_csv(\"data/cdiscount_train_clean.csv\", index=False)\n",
    "\n",
    "data_valid_clean_stem.to_csv(\"data/cdiscount_valid_clean_stem.csv\", index=False)\n",
    "data_train_clean_stem.to_csv(\"data/cdiscount_train_clean_stem.csv\", index=False)"
   ]
  }
 ],
 "metadata": {
  "anaconda-cloud": {},
  "hide_input": false,
  "kernelspec": {
   "display_name": "Environment (conda_deel)",
   "language": "python",
   "name": "conda_deel"
  },
  "language_info": {
   "codemirror_mode": {
    "name": "ipython",
    "version": 3
   },
   "file_extension": ".py",
   "mimetype": "text/x-python",
   "name": "python",
   "nbconvert_exporter": "python",
   "pygments_lexer": "ipython3",
   "version": "3.5.2"
  },
  "toc": {
   "nav_menu": {
    "height": "279px",
    "width": "252px"
   },
   "number_sections": true,
   "sideBar": true,
   "skip_h1_title": false,
   "toc_cell": false,
   "toc_position": {},
   "toc_section_display": "block",
   "toc_window_display": true
  },
  "toc-autonumbering": true,
  "toc-showtags": true
 },
 "nbformat": 4,
 "nbformat_minor": 2
}
