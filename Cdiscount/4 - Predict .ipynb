{
 "cells": [
  {
   "cell_type": "code",
   "execution_count": 1,
   "metadata": {},
   "outputs": [
    {
     "name": "stderr",
     "output_type": "stream",
     "text": [
      "/Users/bguillouet/anaconda/envs/TPInsa/lib/python3.5/site-packages/sklearn/cross_validation.py:41: DeprecationWarning: This module was deprecated in version 0.18 in favor of the model_selection module into which all the refactored classes and functions are moved. Also note that the interface of the new CV iterators are different from that of this module. This module will be removed in 0.20.\n",
      "  \"This module will be removed in 0.20.\", DeprecationWarning)\n"
     ]
    }
   ],
   "source": [
    "#Importation des librairies utilisées\n",
    "import unicodedata \n",
    "import time\n",
    "import pandas as pd\n",
    "import numpy as np\n",
    "import random\n",
    "import nltk\n",
    "import collections\n",
    "import itertools\n",
    "import csv\n",
    "import warnings\n",
    "import pickle\n",
    "import scipy\n",
    "\n",
    "import os\n",
    "from sklearn.cross_validation import train_test_split\n",
    "from sklearn.linear_model import LogisticRegression"
   ]
  },
  {
   "cell_type": "code",
   "execution_count": 2,
   "metadata": {
    "collapsed": true
   },
   "outputs": [],
   "source": [
    "DATA_DIR = \"/Users/bguillouet/Insa/TP_Insa/data/cdiscount_NLP/\"\n",
    "DATA_WORD2VEC_DIR = \"/Users/bguillouet/Insa/TP_Insa/data/cdiscount_NLP/word2vec/\"\n",
    "DATA_PREDICT_DIR =  \"/Users/bguillouet/Insa/TP_Insa/data/cdiscount_NLP/classif_predict/\""
   ]
  },
  {
   "cell_type": "code",
   "execution_count": 3,
   "metadata": {
    "collapsed": true
   },
   "outputs": [],
   "source": [
    "Y_train = pd.read_csv(DATA_DIR + \"Categorie_reduit_train.csv\").fillna(\"\")[\"Categorie1\"]\n",
    "Y_valid = pd.read_csv(DATA_DIR + \"Categorie_reduit_valid.csv\").fillna(\"\")[\"Categorie1\"]"
   ]
  },
  {
   "cell_type": "markdown",
   "metadata": {},
   "source": [
    "# Tfidf"
   ]
  },
  {
   "cell_type": "code",
   "execution_count": 3,
   "metadata": {},
   "outputs": [
    {
     "name": "stdout",
     "output_type": "stream",
     "text": [
      "300\n",
      "{'score_train': 0.71880444444444447, 'learning_predict': 1.0798249244689941, 'learning_time': 486.360563993454, 'score_valid': 0.71255000000000002}\n",
      "1000\n",
      "{'score_train': 0.83418999999999999, 'learning_predict': 1.0395121574401855, 'learning_time': 761.1325850486755, 'score_valid': 0.82089000000000001}\n",
      "10000\n",
      "{'score_train': 0.95635999999999999, 'learning_predict': 1.1606178283691406, 'learning_time': 1513.6527609825134, 'score_valid': 0.91496999999999995}\n",
      "100000\n",
      "{'score_train': 0.98450333333333329, 'learning_predict': 1.2050678730010986, 'learning_time': 1665.1327738761902, 'score_valid': 0.93249000000000004}\n",
      "None\n",
      "{'score_train': 0.98707999999999996, 'learning_predict': 1.2074460983276367, 'learning_time': 1647.153972864151, 'score_valid': 0.94357000000000002}\n"
     ]
    }
   ],
   "source": [
    "for nb_hash in [300, 1000, 10000, 100000, None]:\n",
    "    print(nb_hash)\n",
    "    if os.path.isfile(DATA_DIR+\"metadata_predict_idf_N_hash_\"+str(nb_hash)+\".pkl\"):\n",
    "        metadata = pickle.load(open(DATA_DIR+\"metadata_predict_idf_N_hash_\"+str(nb_hash)+\".pkl\", \"rb\"))\n",
    "        print(metadata)\n",
    "    else:\n",
    "        X_train =  scipy.sparse.load_npz(DATA_DIR + \"Embedded_idf_Categorie_reduit_train_clean_N_hash_\"+str(nb_hash)+\".npz\")\n",
    "        X_valid =  scipy.sparse.load_npz(DATA_DIR + \"Embedded_idf_Categorie_reduit_valid_clean_N_hash_\"+str(nb_hash)+\".npz\")\n",
    "        ts = time.time()\n",
    "        cla = LogisticRegression(C=100)\n",
    "        cla.fit(X_train,Y_train.values)\n",
    "        te=time.time()\n",
    "        t_learning = te-ts\n",
    "        ts = time.time()\n",
    "        score_train=cla.score(X_train,Y_train)\n",
    "        score_valid=cla.score(X_valid,Y_valid)\n",
    "        te=time.time()\n",
    "        t_predict = te-ts\n",
    "        metadata = {\"learning_time\" : t_learning, \"learning_predict\":t_predict, \"score_train\": score_train, \"score_valid\": score_valid}\n",
    "        print(metadata)\n",
    "        pickle.dump(metadata, open(DATA_DIR+\"metadata_predict_idf_N_hash_\"+str(nb_hash)+\".pkl\", \"wb\"))\n",
    "        pickle.dump(cla, open(DATA_DIR+\"model_predict_idf_N_hash_\"+str(nb_hash)+\".pkl\", \"wb\"))"
   ]
  },
  {
   "cell_type": "markdown",
   "metadata": {},
   "source": [
    "# Word2Vec\n",
    "## Logistic Regression"
   ]
  },
  {
   "cell_type": "code",
   "execution_count": null,
   "metadata": {},
   "outputs": [
    {
     "name": "stdout",
     "output_type": "stream",
     "text": [
      "D0 IT\n",
      "{'score_valid': 0.88010999999999995, 'learning_time': 24104.54398393631, 'score_train': 0.88071888888888894, 'method': 'LR', 'learning_predict': 11.639877796173096}\n",
      "D0 IT\n",
      "{'score_valid': 0.88382000000000005, 'learning_time': 24844.243525981903, 'score_train': 0.88444, 'method': 'LR', 'learning_predict': 3.5653059482574463}\n",
      "D0 IT\n",
      "{'score_valid': 0.88361000000000001, 'learning_time': 4305.716662168503, 'score_train': 0.88358777777777775, 'method': 'LR', 'learning_predict': 2.4296481609344482}\n",
      "D0 IT\n",
      "{'score_valid': 0.88010999999999995, 'learning_time': 10637.787837982178, 'score_train': 0.87941333333333338, 'method': 'LR', 'learning_predict': 10.837134838104248}\n",
      "D0 IT\n",
      "{'score_valid': 0.89639999999999997, 'learning_time': 4538.617910146713, 'score_train': 0.8963955555555555, 'method': 'LR', 'learning_predict': 11.722014904022217}\n",
      "D0 IT\n",
      "{'score_valid': 0.89505999999999997, 'learning_time': 6694.700141906738, 'score_train': 0.89502111111111116, 'method': 'LR', 'learning_predict': 10.845667123794556}\n",
      "D0 IT\n",
      "{'score_valid': 0.89524000000000004, 'learning_time': 3667.1466150283813, 'score_train': 0.89551999999999998, 'method': 'LR', 'learning_predict': 9.908299207687378}\n",
      "D0 IT\n"
     ]
    }
   ],
   "source": [
    "metadata_dir_list = [DATA_WORD2VEC_DIR+x for x in os.listdir(DATA_WORD2VEC_DIR) if \"Embedded_metadata\" in x ]\n",
    "\n",
    "for metadata_dir in metadata_dir_list:\n",
    "    print(\"D0 IT\")\n",
    "    metadata_output_dir = metadata_dir.replace(DATA_WORD2VEC_DIR, DATA_PREDICT_DIR)\n",
    "    model_dir = metadata_dir.replace(\"metadata\",\"model_lr\")\n",
    "    \n",
    "    metadata = pickle.load(open(metadata_dir,\"rb\"))\n",
    "    metadata\n",
    "    X_train = np.load(metadata[\"train_dir\"]+\".npy\")\n",
    "    X_valid = np.load(metadata[\"valid_dir\"]+\".npy\")\n",
    "\n",
    "    ts = time.time()\n",
    "    cla = LogisticRegression()\n",
    "    cla.fit(X_train,Y_train)\n",
    "    te=time.time()\n",
    "    t_learning = te-ts\n",
    "    ts = time.time()\n",
    "    score_train=cla.score(X_train,Y_train.values)\n",
    "    score_valid=cla.score(X_valid,Y_valid.values)\n",
    "    te=time.time()\n",
    "    t_predict = te-ts\n",
    "    metadata = {\"method\" : \"LR\", \"learning_time\" : t_learning, \"learning_predict\":t_predict, \"score_train\": score_train, \"score_valid\": score_valid}\n",
    "    print(metadata)\n",
    "    pickle.dump(metadata, open(metadata_output_dir, \"wb\"))\n",
    "    pickle.dump(cla, open(model_dir, \"wb\"))\n",
    "    "
   ]
  },
  {
   "cell_type": "markdown",
   "metadata": {
    "collapsed": true
   },
   "source": [
    "## Random Forest"
   ]
  },
  {
   "cell_type": "code",
   "execution_count": 10,
   "metadata": {},
   "outputs": [
    {
     "name": "stdout",
     "output_type": "stream",
     "text": [
      "{'score_train': 0.99801777777777778, 'learning_predict': 93.87718105316162, 'learning_time': 5938.667154073715, 'score_valid': 0.90727000000000002}\n"
     ]
    },
    {
     "ename": "OSError",
     "evalue": "[Errno 22] Invalid argument",
     "output_type": "error",
     "traceback": [
      "\u001b[0;31m---------------------------------------------------------------------------\u001b[0m",
      "\u001b[0;31mOSError\u001b[0m                                   Traceback (most recent call last)",
      "\u001b[0;32m<ipython-input-10-df3eee73bee7>\u001b[0m in \u001b[0;36m<module>\u001b[0;34m()\u001b[0m\n\u001b[1;32m     19\u001b[0m     \u001b[0mprint\u001b[0m\u001b[0;34m(\u001b[0m\u001b[0mmetadata\u001b[0m\u001b[0;34m)\u001b[0m\u001b[0;34m\u001b[0m\u001b[0m\n\u001b[1;32m     20\u001b[0m     \u001b[0mpickle\u001b[0m\u001b[0;34m.\u001b[0m\u001b[0mdump\u001b[0m\u001b[0;34m(\u001b[0m\u001b[0mmetadata\u001b[0m\u001b[0;34m,\u001b[0m \u001b[0mopen\u001b[0m\u001b[0;34m(\u001b[0m\u001b[0mDATA_DIR\u001b[0m\u001b[0;34m+\u001b[0m\u001b[0;34m\"metadata_predict_word2vec_RF.pkl\"\u001b[0m\u001b[0;34m,\u001b[0m \u001b[0;34m\"wb\"\u001b[0m\u001b[0;34m)\u001b[0m\u001b[0;34m)\u001b[0m\u001b[0;34m\u001b[0m\u001b[0m\n\u001b[0;32m---> 21\u001b[0;31m     \u001b[0mpickle\u001b[0m\u001b[0;34m.\u001b[0m\u001b[0mdump\u001b[0m\u001b[0;34m(\u001b[0m\u001b[0mrf\u001b[0m\u001b[0;34m,\u001b[0m \u001b[0mopen\u001b[0m\u001b[0;34m(\u001b[0m\u001b[0mDATA_DIR\u001b[0m\u001b[0;34m+\u001b[0m\u001b[0;34m\"model_predict_word2vec_RF.pkl\"\u001b[0m\u001b[0;34m,\u001b[0m \u001b[0;34m\"wb\"\u001b[0m\u001b[0;34m)\u001b[0m\u001b[0;34m)\u001b[0m\u001b[0;34m\u001b[0m\u001b[0m\n\u001b[0m",
      "\u001b[0;31mOSError\u001b[0m: [Errno 22] Invalid argument"
     ]
    }
   ],
   "source": [
    "from sklearn.ensemble import RandomForestClassifier\n",
    "if os.path.isfile(DATA_DIR+\"metadata_predict_word2vec_RF.pkl\"):\n",
    "    metadata = pickle.load(open(DATA_DIR+\"metadata_predict_word2vec_RF.pkl\", \"rb\"))\n",
    "    print(metadata)\n",
    "else:\n",
    "    X_valid = np.load(DATA_DIR + \"Embedded_Categorie_reduit_v alid_clean_Word2Vec_clean_min_count_1_size_%d_N_lines_%d.npy\"%(Features_dimension, N_train))\n",
    "    X_train = np.load(DATA_DIR + \"Embedded_Categorie_reduit_train_clean_Word2Vec_clean_min_count_1_size_%d_N_lines_%d.npy\"%(Features_dimension, N_train))\n",
    "    ts = time.time()\n",
    "    rf = RandomForestClassifier(n_estimators=100)\n",
    "    rf.fit(X_train,Y_train.values)\n",
    "    te=time.time()\n",
    "    t_learning = te-ts\n",
    "    ts = time.time()\n",
    "    score_train=rf.score(X_train,Y_train)\n",
    "    score_valid=rf.score(X_valid,Y_valid)\n",
    "    te=time.time()\n",
    "    t_predict = te-ts\n",
    "    metadata = {\"learning_time\" : t_learning, \"learning_predict\":t_predict, \"score_train\": score_train, \"score_valid\": score_valid}\n",
    "    print(metadata)\n",
    "    pickle.dump(metadata, open(DATA_DIR+\"metadata_predict_word2vec_RF.pkl\", \"wb\"))\n",
    "    pickle.dump(rf, open(DATA_DIR+\"model_predict_word2vec_RF.pkl\", \"wb\"))"
   ]
  },
  {
   "cell_type": "code",
   "execution_count": null,
   "metadata": {
    "collapsed": true
   },
   "outputs": [],
   "source": []
  }
 ],
 "metadata": {
  "hide_input": false,
  "kernelspec": {
   "display_name": "Python [TPInsa]",
   "language": "python",
   "name": "Python [TPInsa]"
  },
  "language_info": {
   "codemirror_mode": {
    "name": "ipython",
    "version": 3
   },
   "file_extension": ".py",
   "mimetype": "text/x-python",
   "name": "python",
   "nbconvert_exporter": "python",
   "pygments_lexer": "ipython3",
   "version": "3.5.3"
  },
  "toc": {
   "nav_menu": {},
   "number_sections": true,
   "sideBar": true,
   "skip_h1_title": false,
   "toc_cell": false,
   "toc_position": {},
   "toc_section_display": "block",
   "toc_window_display": true
  }
 },
 "nbformat": 4,
 "nbformat_minor": 2
}
