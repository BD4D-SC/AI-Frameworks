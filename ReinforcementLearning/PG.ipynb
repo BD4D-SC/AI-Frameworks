{
 "cells": [
  {
   "cell_type": "markdown",
   "metadata": {},
   "source": [
    "# AI-Frameworks"
   ]
  },
  {
   "cell_type": "markdown",
   "metadata": {},
   "source": [
    "<center>\n",
    "<a href=\"http://www.insa-toulouse.fr/\" ><img src=\"http://www.math.univ-toulouse.fr/~besse/Wikistat/Images/logo-insa.jpg\" style=\"float:left; max-width: 120px; display: inline\" alt=\"INSA\"/></a> \n",
    "<a href=\"http://wikistat.fr/\" ><img src=\"http://www.math.univ-toulouse.fr/~besse/Wikistat/Images/wikistat.jpg\" width=400, style=\"max-width: 150px; display: inline\"  alt=\"Wikistat\"/></a>\n",
    "<a href=\"http://www.math.univ-toulouse.fr/\" ><img src=\"http://www.math.univ-toulouse.fr/~besse/Wikistat/Images/logo_imt.jpg\" width=400,  style=\"float:right;  display: inline\" alt=\"IMT\"/> </a>\n",
    "    \n",
    "</center>"
   ]
  },
  {
   "cell_type": "markdown",
   "metadata": {},
   "source": [
    "# LAB 4 Introduction to Reinforcement Learning  -  Part 1 : Policy Gradient Algorithm\n",
    "\n",
    "The objectives of this notebook are the following : \n",
    "\n",
    "* Discover AI Gym library and environment tough *CartPole* game.\n",
    "* Implement Hard-Coded & And Neural network policy to solve the *CartPole* Game \n",
    "* Implement Policy gradient algorithm to solve the *CartPole* Game \n",
    " \n",
    "Source : [https://github.com/ageron/handson-ml](https://github.com/ageron/handson-ml) and https://github.com/breeko/Simple-Reinforcement-Learning-with-Tensorflow/blob/master/Part%202%20-%20Policy-based%20Agents%20with%20Keras.ipynb"
   ]
  },
  {
   "cell_type": "markdown",
   "metadata": {},
   "source": [
    "# Import librairies"
   ]
  },
  {
   "cell_type": "code",
   "execution_count": 1,
   "metadata": {},
   "outputs": [
    {
     "name": "stderr",
     "output_type": "stream",
     "text": [
      "/Users/brendanguillouet/anaconda3/envs/INSA/lib/python3.6/site-packages/tensorflow/python/framework/dtypes.py:526: FutureWarning: Passing (type, 1) or '1type' as a synonym of type is deprecated; in a future version of numpy, it will be understood as (type, (1,)) / '(1,)type'.\n",
      "  _np_qint8 = np.dtype([(\"qint8\", np.int8, 1)])\n",
      "/Users/brendanguillouet/anaconda3/envs/INSA/lib/python3.6/site-packages/tensorflow/python/framework/dtypes.py:527: FutureWarning: Passing (type, 1) or '1type' as a synonym of type is deprecated; in a future version of numpy, it will be understood as (type, (1,)) / '(1,)type'.\n",
      "  _np_quint8 = np.dtype([(\"quint8\", np.uint8, 1)])\n",
      "/Users/brendanguillouet/anaconda3/envs/INSA/lib/python3.6/site-packages/tensorflow/python/framework/dtypes.py:528: FutureWarning: Passing (type, 1) or '1type' as a synonym of type is deprecated; in a future version of numpy, it will be understood as (type, (1,)) / '(1,)type'.\n",
      "  _np_qint16 = np.dtype([(\"qint16\", np.int16, 1)])\n",
      "/Users/brendanguillouet/anaconda3/envs/INSA/lib/python3.6/site-packages/tensorflow/python/framework/dtypes.py:529: FutureWarning: Passing (type, 1) or '1type' as a synonym of type is deprecated; in a future version of numpy, it will be understood as (type, (1,)) / '(1,)type'.\n",
      "  _np_quint16 = np.dtype([(\"quint16\", np.uint16, 1)])\n",
      "/Users/brendanguillouet/anaconda3/envs/INSA/lib/python3.6/site-packages/tensorflow/python/framework/dtypes.py:530: FutureWarning: Passing (type, 1) or '1type' as a synonym of type is deprecated; in a future version of numpy, it will be understood as (type, (1,)) / '(1,)type'.\n",
      "  _np_qint32 = np.dtype([(\"qint32\", np.int32, 1)])\n",
      "/Users/brendanguillouet/anaconda3/envs/INSA/lib/python3.6/site-packages/tensorflow/python/framework/dtypes.py:535: FutureWarning: Passing (type, 1) or '1type' as a synonym of type is deprecated; in a future version of numpy, it will be understood as (type, (1,)) / '(1,)type'.\n",
      "  np_resource = np.dtype([(\"resource\", np.ubyte, 1)])\n"
     ]
    }
   ],
   "source": [
    "import numpy as np\n",
    "import random\n",
    "import os\n",
    "\n",
    "# to make this notebook's output stable across runs\n",
    "def reset_graph(seed=42):\n",
    "    tf.reset_default_graph()\n",
    "    tf.set_random_seed(seed)\n",
    "    np.random.seed(seed)\n",
    "\n",
    "# To plot figures and animations\n",
    "%matplotlib inline\n",
    "%matplotlib nbagg\n",
    "import matplotlib\n",
    "import matplotlib.animation as animation\n",
    "import matplotlib.pyplot as plt\n",
    "from IPython.display import HTML\n",
    "\n",
    "plt.rcParams['axes.labelsize'] = 14\n",
    "plt.rcParams['xtick.labelsize'] = 12\n",
    "plt.rcParams['ytick.labelsize'] = 12\n",
    "\n",
    "#Tensorflow/Keras utils\n",
    "import tensorflow.keras.models as km\n",
    "import tensorflow.keras.layers as kl\n",
    "import tensorflow.keras.initializers as ki\n",
    "import tensorflow.keras.optimizers as ko\n",
    "import tensorflow.keras.losses as klo\n",
    "import tensorflow.keras.backend as K\n",
    "\n",
    "\n",
    "# Gym Library\n",
    "import gym"
   ]
  },
  {
   "cell_type": "markdown",
   "metadata": {
    "toc-hr-collapsed": true,
    "toc-nb-collapsed": true
   },
   "source": [
    "# AI Gym Librairie\n",
    "<a href=\"https://gym.openai.com/\" ><img src=\"https://gym.openai.com/assets/dist/home/header/home-icon-54c30e2345.svg\" style=\"float:left; max-width: 120px; display: inline\" alt=\"INSA\"/></a> "
   ]
  },
  {
   "cell_type": "markdown",
   "metadata": {},
   "source": [
    "In this notebook we will be using [OpenAI gym](https://gym.openai.com/), a great toolkit for developing and comparing Reinforcement Learning algorithms. It provides many environments for your learning *agents* to interact with."
   ]
  },
  {
   "cell_type": "markdown",
   "metadata": {},
   "source": [
    "# A simple environment: the Cart-Pole"
   ]
  },
  {
   "cell_type": "markdown",
   "metadata": {},
   "source": [
    "## Description\n",
    "A pole is attached by an un-actuated joint to a cart, which moves along a frictionless track. The pendulum starts upright, and the goal is to prevent it from falling over by increasing and reducing the cart's velocity.\n",
    "\n",
    "### Observation\n",
    "\n",
    "Num | Observation | Min | Max\n",
    "---|---|---|---\n",
    "0 | Cart Position | -2.4 | 2.4\n",
    "1 | Cart Velocity | -Inf | Inf\n",
    "2 | Pole Angle | ~ -41.8&deg; | ~ 41.8&deg;\n",
    "3 | Pole Velocity At Tip | -Inf | Inf\n",
    "\n",
    "### Actions\n",
    "\n",
    "Num | Action\n",
    "--- | ---\n",
    "0 | Push cart to the left\n",
    "1 | Push cart to the righ&t\n",
    "\n",
    "Note: The amount the velocity is reduced or increased is not fixed as it depends on the angle the pole is pointing. This is because the center of gravity of the pole increases the amount of energy needed to move the cart underneath it\n",
    "\n",
    "### Reward\n",
    "Reward is 1 for every step taken, including the termination step\n",
    "\n",
    "### Starting State\n",
    "All observations are assigned a uniform random value between ±0.05\n",
    "\n",
    "### Episode Termination\n",
    "1. Pole Angle is more than ±12°\n",
    "2. Cart Position is more than ±2.4 (center of the cart reaches the edge of the display)\n",
    "3. Episode length is greater than 200\n",
    "\n",
    "### Solved Requirements\n",
    "Considered solved when the average reward is greater than or equal to 195.0 over 100 consecutive trials.\n",
    "\n",
    "The description above if part of the official description of this environemtn. Read full description [here](https://github.com/openai/gym/wiki/CartPole-v0).\n",
    "\n",
    "The following command will load the `CartPole` environment."
   ]
  },
  {
   "cell_type": "code",
   "execution_count": 3,
   "metadata": {},
   "outputs": [],
   "source": [
    "env = gym.make(\"CartPole-v0\")"
   ]
  },
  {
   "cell_type": "markdown",
   "metadata": {},
   "source": [
    "The `reset` command initialize the environement and return the first observation which are a 1D array of size 4."
   ]
  },
  {
   "cell_type": "code",
   "execution_count": 4,
   "metadata": {},
   "outputs": [
    {
     "data": {
      "text/plain": [
       "(Box(4,), array([-0.0121021 , -0.02342892,  0.03885705,  0.02318415]))"
      ]
     },
     "execution_count": 4,
     "metadata": {},
     "output_type": "execute_result"
    }
   ],
   "source": [
    "obs = env.reset()\n",
    "env.observation_space, obs"
   ]
  },
  {
   "cell_type": "markdown",
   "metadata": {},
   "source": [
    "**Q:** What are the four outputs above?"
   ]
  },
  {
   "cell_type": "markdown",
   "metadata": {},
   "source": [
    "The `render` command allows to generate the environment which is here a 400X600 pixels with RGB channels. \n",
    "\n",
    "The `render` command for the `CartPole`environment also open another window that we will close directly with the `env.close`command. It can produce disturbing behaviour."
   ]
  },
  {
   "cell_type": "code",
   "execution_count": 5,
   "metadata": {},
   "outputs": [
    {
     "name": "stdout",
     "output_type": "stream",
     "text": [
      "Environemnt is a 800x1200x3 images\n"
     ]
    }
   ],
   "source": [
    "img = env.render(mode = \"rgb_array\")\n",
    "env.close()\n",
    "print(\"Environemnt is a %dx%dx%d images\" %img.shape)"
   ]
  },
  {
   "cell_type": "markdown",
   "metadata": {},
   "source": [
    "The environment can then easily be displayed with matplotlib function. "
   ]
  },
  {
   "cell_type": "code",
   "execution_count": 6,
   "metadata": {},
   "outputs": [
    {
     "data": {
      "text/plain": [
       "(-0.5, 1199.5, 799.5, -0.5)"
      ]
     },
     "execution_count": 6,
     "metadata": {},
     "output_type": "execute_result"
    },
    {
     "data": {
      "image/png": "[encoded data removed]",
      "text/plain": [
       "<Figure size 432x288 with 1 Axes>"
      ]
     },
     "metadata": {
      "needs_background": "light"
     },
     "output_type": "display_data"
    }
   ],
   "source": [
    "plt.imshow(img)\n",
    "plt.axis(\"off\")"
   ]
  },
  {
   "cell_type": "markdown",
   "metadata": {},
   "source": [
    "The action space is composed of two actions push to the left (0), push to the right (1)."
   ]
  },
  {
   "cell_type": "code",
   "execution_count": 7,
   "metadata": {},
   "outputs": [
    {
     "data": {
      "text/plain": [
       "Discrete(2)"
      ]
     },
     "execution_count": 7,
     "metadata": {},
     "output_type": "execute_result"
    }
   ],
   "source": [
    "env.action_space"
   ]
  },
  {
   "cell_type": "markdown",
   "metadata": {},
   "source": [
    "The `step function` enables to apply one of this actions and return several information : \n",
    "\n",
    "* The new observation after applying this action\n",
    "* The reward this action has produced\n",
    "* A boolean that indicates if the experience is over or not.\n",
    "* Extra information that depend of the environment (CartPole environment does not provide anything).\n",
    "\n",
    "Let's push the cart pole to the left!"
   ]
  },
  {
   "cell_type": "code",
   "execution_count": 8,
   "metadata": {},
   "outputs": [
    {
     "name": "stdout",
     "output_type": "stream",
     "text": [
      "New observation : [-0.01257067 -0.21908595  0.03932073  0.32786926]\n",
      "Reward : 1.0\n",
      "Is the experience over? : False\n",
      "Extra information : {}\n"
     ]
    }
   ],
   "source": [
    "obs, reward, done, info = env.step(0)\n",
    "print(\"New observation : %s\" %str(obs))\n",
    "print(\"Reward : %s\" %str(reward))\n",
    "print(\"Is the experience over? : %s\" %str(done))\n",
    "print(\"Extra information : %s\" %str(info))\n"
   ]
  },
  {
   "cell_type": "markdown",
   "metadata": {},
   "source": [
    "Let's visualize the environment"
   ]
  },
  {
   "cell_type": "code",
   "execution_count": 9,
   "metadata": {},
   "outputs": [
    {
     "data": {
      "image/png": "[encoded data removed]",
      "text/plain": [
       "<Figure size 432x288 with 1 Axes>"
      ]
     },
     "metadata": {
      "needs_background": "light"
     },
     "output_type": "display_data"
    }
   ],
   "source": [
    "img = env.render(mode = \"rgb_array\")\n",
    "env.close()\n",
    "plt.imshow(img)\n",
    "axs =  plt.axis(\"off\")"
   ]
  },
  {
   "cell_type": "markdown",
   "metadata": {},
   "source": [
    "**Q** : What can you see? Does it seems normal to you?"
   ]
  },
  {
   "cell_type": "markdown",
   "metadata": {},
   "source": [
    "**Exercise** : Reset the environment, and push the car to the left untill the experience is over then display the final environment. \n",
    "**Q** : Why do the environment ends? "
   ]
  },
  {
   "cell_type": "code",
   "execution_count": 12,
   "metadata": {},
   "outputs": [
    {
     "data": {
      "image/png": "[encoded data removed]",
      "text/plain": [
       "<Figure size 432x288 with 1 Axes>"
      ]
     },
     "metadata": {
      "needs_background": "light"
     },
     "output_type": "display_data"
    }
   ],
   "source": [
    "# %load solutions/exercise_1_1.py"
   ]
  },
  {
   "cell_type": "markdown",
   "metadata": {},
   "source": [
    "## Hard coded policy\n",
    "\n",
    "How can we make the poll remain upright? We will need to define a _policy_ for that. This is the strategy that the agent will use to select an action at each step. It can use all the past actions and observations to decide what to do."
   ]
  },
  {
   "cell_type": "markdown",
   "metadata": {},
   "source": [
    "### Random policy"
   ]
  },
  {
   "cell_type": "markdown",
   "metadata": {},
   "source": [
    "Let's start with a completly random policy and see how much time the poll will remain upright over 100 episodes."
   ]
  },
  {
   "cell_type": "code",
   "execution_count": 13,
   "metadata": {},
   "outputs": [
    {
     "name": "stdout",
     "output_type": "stream",
     "text": [
      "Game played : 0. Reward for the last 10 episode: []\n",
      "Game played : 10. Reward for the last 10 episode: [13.0, 16.0, 32.0, 11.0, 27.0, 43.0, 60.0, 28.0, 13.0, 39.0]\n",
      "Game played : 20. Reward for the last 10 episode: [22.0, 10.0, 21.0, 30.0, 13.0, 9.0, 73.0, 10.0, 15.0, 10.0]\n",
      "Game played : 30. Reward for the last 10 episode: [17.0, 16.0, 15.0, 16.0, 22.0, 9.0, 11.0, 12.0, 25.0, 17.0]\n",
      "Game played : 40. Reward for the last 10 episode: [27.0, 9.0, 16.0, 14.0, 11.0, 13.0, 14.0, 10.0, 17.0, 15.0]\n",
      "Game played : 50. Reward for the last 10 episode: [19.0, 14.0, 11.0, 30.0, 20.0, 21.0, 31.0, 14.0, 18.0, 17.0]\n",
      "Game played : 60. Reward for the last 10 episode: [48.0, 18.0, 9.0, 34.0, 54.0, 11.0, 15.0, 9.0, 25.0, 20.0]\n",
      "Game played : 70. Reward for the last 10 episode: [44.0, 32.0, 16.0, 15.0, 21.0, 18.0, 58.0, 15.0, 22.0, 28.0]\n",
      "Game played : 80. Reward for the last 10 episode: [16.0, 16.0, 17.0, 10.0, 20.0, 11.0, 25.0, 14.0, 18.0, 47.0]\n",
      "Game played : 90. Reward for the last 10 episode: [12.0, 41.0, 13.0, 42.0, 78.0, 23.0, 12.0, 21.0, 11.0, 14.0]\n",
      "Over 100 episodes, mean reward: 22, std : 14\n"
     ]
    }
   ],
   "source": [
    "env.reset()           \n",
    "num_games = 100       \n",
    "reward_sum = 0        \n",
    "all_reward_sum = []   \n",
    "num_game = 0          \n",
    "while num_game < num_games:\n",
    "    observation, reward, done, _ = env.step(env.action_space.sample())\n",
    "    reward_sum += reward\n",
    "    if done:\n",
    "        if num_game %10 == 0:\n",
    "            print(\"Game played : %d. Reward for the last 10 episode: %s\" %(num_game,all_reward_sum[-10:]) )\n",
    "        all_reward_sum.append(reward_sum)\n",
    "        reward_sum = 0\n",
    "        num_game += 1\n",
    "        env.reset()\n",
    "        \n",
    "print(\"Over %d episodes, mean reward: %d, std : %d\" %(num_games, np.mean(all_reward_sum), np.std(all_reward_sum)))"
   ]
  },
  {
   "cell_type": "markdown",
   "metadata": {},
   "source": [
    "#### Visualize a complete game\n",
    "\n",
    "Let's run one pisode with his random policy and save all images representing the environment at each step."
   ]
  },
  {
   "cell_type": "code",
   "execution_count": 14,
   "metadata": {},
   "outputs": [],
   "source": [
    "frames = []\n",
    "\n",
    "env.reset()    \n",
    "observation, reward, done, _ = env.step(env.action_space.sample())\n",
    "reward_sum = 0        \n",
    "while not(done):\n",
    "    img = env.render(mode = \"rgb_array\")\n",
    "    env.close()\n",
    "    frames.append(img)\n",
    "    reward_sum += reward\n",
    "    observation, reward, done, _ = env.step(env.action_space.sample())"
   ]
  },
  {
   "cell_type": "code",
   "execution_count": 15,
   "metadata": {},
   "outputs": [],
   "source": [
    "def update_scene(num, frames, patch):\n",
    "    patch.set_data(frames[num])\n",
    "    return patch,\n",
    "\n",
    "def plot_animation(frames, repeat=False, interval=40):\n",
    "    plt.close()  # or else nbagg sometimes plots in the previous cell\n",
    "    fig = plt.figure()\n",
    "    patch = plt.imshow(frames[0])\n",
    "    plt.axis('off')\n",
    "    return animation.FuncAnimation(fig, update_scene, fargs=(frames, patch), frames=len(frames), repeat=repeat, interval=interval)"
   ]
  },
  {
   "cell_type": "code",
   "execution_count": 16,
   "metadata": {},
   "outputs": [
    {
     "data": {
      "text/html": [
       "<video width=\"432\" height=\"288\" controls autoplay>\n",
       "  <source type=\"video/mp4\" src=\"data:video/mp4;base64,AAAAHGZ0eXBNNFYgAAACAGlzb21pc28yYXZjMQAAAAhmcmVlAAAGKG1kYXQAAAKgBgX//5zcRem9\n",
       "5tlIt5Ys2CDZI+7veDI2NCAtIGNvcmUgMTUyIC0gSC4yNjQvTVBFRy00IEFWQyBjb2RlYyAtIENv\n",
       "cHlsZWZ0IDIwMDMtMjAxNyAtIGh0dHA6Ly93d3cudmlkZW9sYW4ub3JnL3gyNjQuaHRtbCAtIG9w\n",
       "dGlvbnM6IGNhYmFjPTEgcmVmPTMgZGVibG9jaz0xOjA6MCBhbmFseXNlPTB4MzoweDExMyBtZT1o\n",
       "ZXggc3VibWU9NyBwc3k9MSBwc3lfcmQ9MS4wMDowLjAwIG1peGVkX3JlZj0xIG1lX3JhbmdlPTE2\n",
       "IGNocm9tYV9tZT0xIHRyZWxsaXM9MSA4eDhkY3Q9MSBjcW09MCBkZWFkem9uZT0yMSwxMSBmYXN0\n",
       "X3Bza2lwPTEgY2hyb21hX3FwX29mZnNldD0tMiB0aHJlYWRzPTkgbG9va2FoZWFkX3RocmVhZHM9\n",
       "MSBzbGljZWRfdGhyZWFkcz0wIG5yPTAgZGVjaW1hdGU9MSBpbnRlcmxhY2VkPTAgYmx1cmF5X2Nv\n",
       "bXBhdD0wIGNvbnN0cmFpbmVkX2ludHJhPTAgYmZyYW1lcz0zIGJfcHlyYW1pZD0yIGJfYWRhcHQ9\n",
       "MSBiX2JpYXM9MCBkaXJlY3Q9MSB3ZWlnaHRiPTEgb3Blbl9nb3A9MCB3ZWlnaHRwPTIga2V5aW50\n",
       "PTI1MCBrZXlpbnRfbWluPTI1IHNjZW5lY3V0PTQwIGludHJhX3JlZnJlc2g9MCByY19sb29rYWhl\n",
       "YWQ9NDAgcmM9Y3JmIG1idHJlZT0xIGNyZj0yMy4wIHFjb21wPTAuNjAgcXBtaW49MCBxcG1heD02\n",
       "OSBxcHN0ZXA9NCBpcF9yYXRpbz0xLjQwIGFxPTE6MS4wMACAAAAA8mWIhAA3//728P4FNjuY0JcR\n",
       "zeidMx+/Fbi6NDe9zgAAAwAAN9zmRP7KkwbmwAAC4AAJ4RFNXc1XlmlIFGx2YAa/VxlJQWVjNN4H\n",
       "GNhqKc5RX3V46o+1VNMv3dJRPq0TdE3XIN7701poTpyQqyImQjK/blXpYbA3gOjqNNHiv7L3XGDX\n",
       "GZ4rSXQPM/hk9gKb12RJQJNeMscJYG4ucju5nY5drboJUm1H+OpwdVj978Jg6qp/34LMkIL8dam5\n",
       "VOLCE7RkeJ48v78UfS+Okd5NheEjyKljQ4uqlDHw3UmvWCjWPDF9oYk+b/CvCGkTI8AAAF5BAAAA\n",
       "aEGaJGxDf/6nhAAFaZujHACauCZdU1cjSMn2X76L9MydbXtiw/sRVCRy7H/udx63gRqxb2Brx2Qx\n",
       "EJrFlOUHnpC81xByAeDHEAZs+WCGHaI6C+DiDoQVYIdRuclEpQWPaLaU/u97g9rQAAAAKkGeQniF\n",
       "/wADNpHlLGwYhmjRWbRDiB9s8rAAGq4I7d9bx8JJDvlCX4+qwQAAACYBnmF0Qr8ABFfFC/HlHyAz\n",
       "ovVbkBQgaUmL7kQwADJKkoXkuntMmAAAACYBnmNqQr8ABFbTjAWlIu7vw9Pw9AA7Q0oa7AGOzqQR\n",
       "DpSGZQ8dYQAAAH9BmmhJqEFomUwIX//+jLAAFSaHQlrYQLgAJEqKvN3CBS1ajJ9uqNQVop9NsH87\n",
       "yo2aS34DpqtHPp1KbGPic9lqL7FOwwoc0vCmgVgtuhxXGuGx+AETllhyKZyqfZXCuov2dqDj9lFX\n",
       "2+dZkpJA4SlCD9PuRqh5JgBbVAtNO1PhAAAATkGehkURLC//AAM4l5iacABIrCOyE0Kby7q8222c\n",
       "tr7Eo1f2sdsqRWuL7f06MwqZD+rA3GO2T2+ifYPBXGS5tmoFYYQwdLCMZoj7RjcOQwAAACcBnqV0\n",
       "Qr8ABFQ+LmeQa3EXJczyBk59p9GLib3Eg1THSfsAN2vWvncAAAAyAZ6nakK/AARRPlSMCDRQ2AEr\n",
       "co62DC21Wr3snaMcp3cx7CxdVdjqiHZ5zmiXsvJsYYAAAABeQZqpSahBbJlMCFf//jhAAFIKib7+\n",
       "53ABOOe39NsB8HaDYYjqVtWyVQR7M20Hgg2d/2rBSubDr4jwnjsgNTnhxkOf+BMk2NZ8aw7PIg/V\n",
       "dTVmiOgqC4D9Kb/8jeij/gAAA6Ztb292AAAAbG12aGQAAAAAAAAAAAAAAAAAAAPoAAABkAABAAAB\n",
       "AAAAAAAAAAAAAAAAAQAAAAAAAAAAAAAAAAAAAAEAAAAAAAAAAAAAAAAAAEAAAAAAAAAAAAAAAAAA\n",
       "AAAAAAAAAAAAAAAAAAAAAAACAAAC0HRyYWsAAABcdGtoZAAAAAMAAAAAAAAAAAAAAAEAAAAAAAAB\n",
       "kAAAAAAAAAAAAAAAAAAAAAAAAQAAAAAAAAAAAAAAAAAAAAEAAAAAAAAAAAAAAAAAAEAAAAABsAAA\n",
       "ASAAAAAAACRlZHRzAAAAHGVsc3QAAAAAAAAAAQAAAZAAAAQAAAEAAAAAAkhtZGlhAAAAIG1kaGQA\n",
       "AAAAAAAAAAAAAAAAADIAAAAUAFXEAAAAAAAtaGRscgAAAAAAAAAAdmlkZQAAAAAAAAAAAAAAAFZp\n",
       "ZGVvSGFuZGxlcgAAAAHzbWluZgAAABR2bWhkAAAAAQAAAAAAAAAAAAAAJGRpbmYAAAAcZHJlZgAA\n",
       "AAAAAAABAAAADHVybCAAAAABAAABs3N0YmwAAACzc3RzZAAAAAAAAAABAAAAo2F2YzEAAAAAAAAA\n",
       "AQAAAAAAAAAAAAAAAAAAAAABsAEgAEgAAABIAAAAAAAAAAEAAAAAAAAAAAAAAAAAAAAAAAAAAAAA\n",
       "AAAAAAAAAAAAAAAY//8AAAAxYXZjQwFkABX/4QAYZ2QAFazZQbCWhAAAAwAEAAADAMg8WLZYAQAG\n",
       "aOvjyyLAAAAAHHV1aWRraEDyXyRPxbo5pRvPAyPzAAAAAAAAABhzdHRzAAAAAAAAAAEAAAAKAAAC\n",
       "AAAAABRzdHNzAAAAAAAAAAEAAAABAAAAYGN0dHMAAAAAAAAACgAAAAEAAAQAAAAAAQAACgAAAAAB\n",
       "AAAEAAAAAAEAAAAAAAAAAQAAAgAAAAABAAAKAAAAAAEAAAQAAAAAAQAAAAAAAAABAAACAAAAAAEA\n",
       "AAQAAAAAHHN0c2MAAAAAAAAAAQAAAAEAAAAKAAAAAQAAADxzdHN6AAAAAAAAAAAAAAAKAAADmgAA\n",
       "AGwAAAAuAAAAKgAAACoAAACDAAAAUgAAACsAAAA2AAAAYgAAABRzdGNvAAAAAAAAAAEAAAAsAAAA\n",
       "YnVkdGEAAABabWV0YQAAAAAAAAAhaGRscgAAAAAAAAAAbWRpcmFwcGwAAAAAAAAAAAAAAAAtaWxz\n",
       "dAAAACWpdG9vAAAAHWRhdGEAAAABAAAAAExhdmY1OC4yMC4xMDA=\n",
       "\">\n",
       "  Your browser does not support the video tag.\n",
       "</video>"
      ],
      "text/plain": [
       "<IPython.core.display.HTML object>"
      ]
     },
     "execution_count": 16,
     "metadata": {},
     "output_type": "execute_result"
    },
    {
     "data": {
      "image/png": "[encoded data removed]",
      "text/plain": [
       "<Figure size 432x288 with 1 Axes>"
      ]
     },
     "metadata": {
      "needs_background": "light"
     },
     "output_type": "display_data"
    }
   ],
   "source": [
    "HTML(plot_animation(frames).to_html5_video())"
   ]
  },
  {
   "cell_type": "markdown",
   "metadata": {},
   "source": [
    "### Simple strategy"
   ]
  },
  {
   "cell_type": "markdown",
   "metadata": {},
   "source": [
    "Let's hard code a simple strategy: if the pole is tilting to the left, then push the cart to the left, and _vice versa_. Let's see if that works.\n",
    "\n",
    "**Exercise** implement this policy and play 100 games with this policy. What are the means and std deviation of the reward sum over the 100 games?"
   ]
  },
  {
   "cell_type": "code",
   "execution_count": 21,
   "metadata": {},
   "outputs": [],
   "source": [
    "# %load solutions/exercise_1_2.py"
   ]
  },
  {
   "cell_type": "markdown",
   "metadata": {},
   "source": [
    "**Exercise** Vizualize a complete game:"
   ]
  },
  {
   "cell_type": "code",
   "execution_count": 22,
   "metadata": {},
   "outputs": [],
   "source": [
    "# %load solutions/exercise_1_3.py"
   ]
  },
  {
   "cell_type": "markdown",
   "metadata": {},
   "source": [
    "**Q** What can you say about this strategy?"
   ]
  },
  {
   "cell_type": "markdown",
   "metadata": {},
   "source": [
    "## Neural Network Policies"
   ]
  },
  {
   "cell_type": "markdown",
   "metadata": {},
   "source": [
    "Let's create a neural network to build a better policy. <br> \n",
    "This network will take the observations as inputs, and output the probability of the action to take for each observation. <br>\n",
    "In the case of the Cart-Pole environment, there are just two possible actions (left or right), so we only need one output neuron: it will output the probability `p` of the action 0 (left), and of course the probability of action 1 (right) will be `1 - p`."
   ]
  },
  {
   "cell_type": "markdown",
   "metadata": {},
   "source": [
    "### The architecture"
   ]
  },
  {
   "cell_type": "markdown",
   "metadata": {},
   "source": [
    "Because this problem is simple, we can define a very simple architecture for our neural network.<bR> Here it's simple MLP with 1 hidden layer and four neurons."
   ]
  },
  {
   "cell_type": "code",
   "execution_count": 23,
   "metadata": {},
   "outputs": [
    {
     "name": "stdout",
     "output_type": "stream",
     "text": [
      "WARNING:tensorflow:From /Users/brendanguillouet/anaconda3/envs/INSA/lib/python3.6/site-packages/tensorflow/python/ops/resource_variable_ops.py:435: colocate_with (from tensorflow.python.framework.ops) is deprecated and will be removed in a future version.\n",
      "Instructions for updating:\n",
      "Colocations handled automatically by placer.\n",
      "_________________________________________________________________\n",
      "Layer (type)                 Output Shape              Param #   \n",
      "=================================================================\n",
      "dense (Dense)                (None, 4)                 20        \n",
      "_________________________________________________________________\n",
      "dense_1 (Dense)              (None, 1)                 5         \n",
      "=================================================================\n",
      "Total params: 25\n",
      "Trainable params: 25\n",
      "Non-trainable params: 0\n",
      "_________________________________________________________________\n"
     ]
    }
   ],
   "source": [
    "# Specify the network architecture\n",
    "n_inputs = 4  # == env.observation_space.shape[0]\n",
    "n_hidden = 4  # it's a simple task, we don't need more than this\n",
    "n_outputs = 1 # only outputs the probability of accelerating left\n",
    "initializer = ki.VarianceScaling()\n",
    "\n",
    "# Build the neural network\n",
    "policy_network=km.Sequential()\n",
    "policy_network.add(kl.Dense(n_hidden, input_shape = (n_inputs,), activation = \"relu\", kernel_initializer = initializer))\n",
    "policy_network.add(kl.Dense(n_outputs, activation = \"sigmoid\", kernel_initializer = initializer))\n",
    "\n",
    "policy_network.summary()"
   ]
  },
  {
   "cell_type": "markdown",
   "metadata": {},
   "source": [
    "### Predict the action\n",
    "We can now easily predict the probability of both actions given the observation:"
   ]
  },
  {
   "cell_type": "code",
   "execution_count": 25,
   "metadata": {},
   "outputs": [],
   "source": [
    "obs = env.reset()\n",
    "p_left = policy_network.predict(np.expand_dims(obs,axis=0))\n",
    "# Choose and action according to the previously generated probability\n",
    "action = 0 if p_left>0.5 else 1 "
   ]
  },
  {
   "cell_type": "markdown",
   "metadata": {},
   "source": [
    "***NB*** : \n",
    "\n",
    "* In this particular environment, the past actions and observations can safely be ignored, since each observation contains the environment's full state. If there were some hidden state then you may need to consider past actions and observations in order to try to infer the hidden state of the environment. \n",
    "\n",
    "For example, if the environment only revealed the position of the cart but not its velocity, you would have to consider not only the current observation but also the previous observation in order to estimate the current velocity. Another example is if the observations are noisy: you may want to use the past few observations to estimate the most likely current state. Our problem is thus as simple as can be: the current observation is noise-free and contains the environment's full state."
   ]
  },
  {
   "cell_type": "markdown",
   "metadata": {},
   "source": [
    "### Random neural network policy.\n",
    "Let's see how this neural network policy perform.\n",
    "\n"
   ]
  },
  {
   "cell_type": "code",
   "execution_count": 26,
   "metadata": {},
   "outputs": [
    {
     "name": "stdout",
     "output_type": "stream",
     "text": [
      "Game played : 0. Reward for the last 10 episode: []\n",
      "Game played : 10. Reward for the last 10 episode: [9.0, 9.0, 10.0, 34.0, 36.0, 42.0, 10.0, 42.0, 10.0, 26.0]\n",
      "Game played : 20. Reward for the last 10 episode: [9.0, 9.0, 10.0, 10.0, 10.0, 9.0, 10.0, 12.0, 12.0, 26.0]\n",
      "Game played : 30. Reward for the last 10 episode: [9.0, 40.0, 10.0, 16.0, 9.0, 35.0, 38.0, 10.0, 36.0, 38.0]\n",
      "Game played : 40. Reward for the last 10 episode: [9.0, 9.0, 24.0, 9.0, 10.0, 14.0, 10.0, 10.0, 44.0, 10.0]\n",
      "Game played : 50. Reward for the last 10 episode: [15.0, 10.0, 9.0, 12.0, 9.0, 14.0, 10.0, 9.0, 9.0, 8.0]\n",
      "Game played : 60. Reward for the last 10 episode: [14.0, 9.0, 12.0, 10.0, 12.0, 10.0, 44.0, 40.0, 10.0, 14.0]\n",
      "Game played : 70. Reward for the last 10 episode: [9.0, 12.0, 9.0, 10.0, 10.0, 9.0, 34.0, 10.0, 9.0, 11.0]\n",
      "Game played : 80. Reward for the last 10 episode: [22.0, 10.0, 9.0, 9.0, 12.0, 34.0, 9.0, 9.0, 9.0, 10.0]\n",
      "Game played : 90. Reward for the last 10 episode: [9.0, 9.0, 8.0, 12.0, 36.0, 10.0, 10.0, 13.0, 32.0, 12.0]\n",
      "Over 100 episodes, mean reward: 15, std : 10\n"
     ]
    }
   ],
   "source": [
    "reward_sum = 0\n",
    "num_games = 100       \n",
    "num_game = 0\n",
    "all_reward_sum = []\n",
    "obs = env.reset()\n",
    "reward\n",
    "while num_game < num_games:\n",
    "    p_left = policy_network.predict(np.expand_dims(obs,axis=0))\n",
    "    action = 0 if p_left>0.5 else 1 \n",
    "    obs, reward, done, info = env.step(action)\n",
    "    reward_sum += reward\n",
    "    if done:\n",
    "        if num_game %10 == 0:\n",
    "            print(\"Game played : %d. Reward for the last 10 episode: %s\" %(num_game,all_reward_sum[-10:]) )\n",
    "        all_reward_sum.append(reward_sum)\n",
    "        reward_sum = 0\n",
    "        num_game += 1\n",
    "        env.reset()\n",
    "print(\"Over %d episodes, mean reward: %d, std : %d\" %(num_games, np.mean(all_reward_sum), np.std(all_reward_sum)))"
   ]
  },
  {
   "cell_type": "markdown",
   "metadata": {},
   "source": [
    "Let's randomly initialize this policy neural network and use it to play one game:"
   ]
  },
  {
   "cell_type": "code",
   "execution_count": 27,
   "metadata": {},
   "outputs": [
    {
     "data": {
      "text/html": [
       "<video width=\"432\" height=\"288\" controls autoplay>\n",
       "  <source type=\"video/mp4\" src=\"data:video/mp4;base64,AAAAHGZ0eXBNNFYgAAACAGlzb21pc28yYXZjMQAAAAhmcmVlAAAHc21kYXQAAAKgBgX//5zcRem9\n",
       "5tlIt5Ys2CDZI+7veDI2NCAtIGNvcmUgMTUyIC0gSC4yNjQvTVBFRy00IEFWQyBjb2RlYyAtIENv\n",
       "cHlsZWZ0IDIwMDMtMjAxNyAtIGh0dHA6Ly93d3cudmlkZW9sYW4ub3JnL3gyNjQuaHRtbCAtIG9w\n",
       "dGlvbnM6IGNhYmFjPTEgcmVmPTMgZGVibG9jaz0xOjA6MCBhbmFseXNlPTB4MzoweDExMyBtZT1o\n",
       "ZXggc3VibWU9NyBwc3k9MSBwc3lfcmQ9MS4wMDowLjAwIG1peGVkX3JlZj0xIG1lX3JhbmdlPTE2\n",
       "IGNocm9tYV9tZT0xIHRyZWxsaXM9MSA4eDhkY3Q9MSBjcW09MCBkZWFkem9uZT0yMSwxMSBmYXN0\n",
       "X3Bza2lwPTEgY2hyb21hX3FwX29mZnNldD0tMiB0aHJlYWRzPTkgbG9va2FoZWFkX3RocmVhZHM9\n",
       "MSBzbGljZWRfdGhyZWFkcz0wIG5yPTAgZGVjaW1hdGU9MSBpbnRlcmxhY2VkPTAgYmx1cmF5X2Nv\n",
       "bXBhdD0wIGNvbnN0cmFpbmVkX2ludHJhPTAgYmZyYW1lcz0zIGJfcHlyYW1pZD0yIGJfYWRhcHQ9\n",
       "MSBiX2JpYXM9MCBkaXJlY3Q9MSB3ZWlnaHRiPTEgb3Blbl9nb3A9MCB3ZWlnaHRwPTIga2V5aW50\n",
       "PTI1MCBrZXlpbnRfbWluPTI1IHNjZW5lY3V0PTQwIGludHJhX3JlZnJlc2g9MCByY19sb29rYWhl\n",
       "YWQ9NDAgcmM9Y3JmIG1idHJlZT0xIGNyZj0yMy4wIHFjb21wPTAuNjAgcXBtaW49MCBxcG1heD02\n",
       "OSBxcHN0ZXA9NCBpcF9yYXRpbz0xLjQwIGFxPTE6MS4wMACAAAAA9mWIhAA7//73Tr8Cm0WXagOS\n",
       "Vwr2yqQmWblSawHypgAAAwAAEbBufJcNeavSJAAArYACODOPhbL0jZk1zmvHk78xf6x+fbgAY1DG\n",
       "vfn9Zo0MCoMcJMvLgf/ef/QX+Ufz84z3DdmLACCfiO+PMmlNrJlCJ+JFmZUQ1/X81pLcFBR1DWEw\n",
       "nQOHEeePw2sxkkHOOvBfx/jhZfNgZvA3UMBO4MxEGsP+rrbn764yHZMd3HL5mj3m3tCj/9qH8411\n",
       "LYXR4sHQdIAIUti/HdAQzlZM9Wgfccnmo9rDBgS8Wvo9XOaCpU/xOZY1eAkCNrZ3ekSKgNZoAAAM\n",
       "2QAAAFpBmiRsQ3/+p4QAAVr+RhEBjr7lFBeq/ZDF6r558fbcnywY8p9vLZDO+CzK+ZnPtOJPEaMI\n",
       "0PiJQ+ngc80v0DdbupeMrFh3hzfaTEF9EBnpm9qqft7+JvYsTO4AAAAgQZ5CeIX/AADOBqOOBEV5\n",
       "7ZYAIb3LVp5udSrWFjmj738AAAAhAZ5hdEK/AAEVs9MXo5SFAByiPsQpvzDIpQtIZvccnXOmAAAA\n",
       "GAGeY2pCvwAAjsfafHgA5TJqyeeGKNRCPwAAAHlBmmhJqEFomUwIb//+p4QABWi+7DyAEqe4SMKi\n",
       "rnUK6qedjkhhNmf2k1W///ljnyql6G6ICFexYINL2UsaF1O8cldrl1zPpBqokLBvn9useiha7XZ8\n",
       "YjK3+zWM6xbGFdruBRRa5LCl7eamfzOghgMGTWuh6mCMJ9W7AAAAMkGehkURLC//AAM2Q6UprDQJ\n",
       "BLYuHVtPkqOFEFtTEpYMKz1hqNJX4AByHNhVdYO5rwBBAAAAIwGepXRCvwAEV8RVOBrkvgtvKZAB\n",
       "dIxeKivBX6NqNiaFz4OhAAAALgGep2pCvwAEVH7rFFa9ZRVrq9EknhdU45YGABz4gaYEnSV75G71\n",
       "3DqkNGSfZaQAAAB5QZqqSahBbJlMFEwz//6eEAAVEvKQoGkvMAHB5hUx3eifrHUJ/IfvXYcABLOl\n",
       "ZbF8LQLGmlpOLWIEtkbQSn9w1CRA6DMZDGmC7aN2SU0oJzea4dj+3bEVkt7HhxlBZztDBcak7psv\n",
       "DtuTRxPgxjDj7lgJLSgp/7GdyAAAADABnslqQr8ACK6/TFb8ePofdpCdxMsjBg8bpUNmC9EpAAC4\n",
       "cw4KY9zFi7L6sIdxnzEAAABkQZrOSeEKUmUwIV/+OEAAUdSAnpm2nusAJiPH45wOb+XnpWFJ/UVv\n",
       "UurspCDQp3QCRXET7YGSFXfWe6AZrbURrIsp/67ShEQcK4vp5uN4AnqouFweVh3qcQUULt6y/qic\n",
       "/90z/AAAAFpBnuxFNEwv/wAGciLgzv1JMVSZ9qABJzYo9Xw1AVqzkilef0bKaPBDantI9Y6pSkCi\n",
       "NEwKGcgm0QoE3nOunoqsK+gA0GgGymD+6l9mB9jZ6wMgKj6uASIl8sAAAAA1AZ8LdEK/AAiviFY5\n",
       "TKvACZQpzJsWhznxsEuIjybTnB2yQouVqnFDBDbNPEFUXhsnlS7Zv0EAAABKAZ8NakK/AAiwZerr\n",
       "xFw3K81heq8AJlzTs2R8hDUWBSsSslV+4MI3aKO+eOOyE96plqTCKWuVKZRHOT23w7Ob58ASds1Y\n",
       "ZcnaeFEAAAPibW9vdgAAAGxtdmhkAAAAAAAAAAAAAAAAAAAD6AAAAlgAAQAAAQAAAAAAAAAAAAAA\n",
       "AAEAAAAAAAAAAAAAAAAAAAABAAAAAAAAAAAAAAAAAABAAAAAAAAAAAAAAAAAAAAAAAAAAAAAAAAA\n",
       "AAAAAAAAAgAAAwx0cmFrAAAAXHRraGQAAAADAAAAAAAAAAAAAAABAAAAAAAAAlgAAAAAAAAAAAAA\n",
       "AAAAAAAAAAEAAAAAAAAAAAAAAAAAAAABAAAAAAAAAAAAAAAAAABAAAAAAbAAAAEgAAAAAAAkZWR0\n",
       "cwAAABxlbHN0AAAAAAAAAAEAAAJYAAAEAAABAAAAAAKEbWRpYQAAACBtZGhkAAAAAAAAAAAAAAAA\n",
       "AAAyAAAAHgBVxAAAAAAALWhkbHIAAAAAAAAAAHZpZGUAAAAAAAAAAAAAAABWaWRlb0hhbmRsZXIA\n",
       "AAACL21pbmYAAAAUdm1oZAAAAAEAAAAAAAAAAAAAACRkaW5mAAAAHGRyZWYAAAAAAAAAAQAAAAx1\n",
       "cmwgAAAAAQAAAe9zdGJsAAAAs3N0c2QAAAAAAAAAAQAAAKNhdmMxAAAAAAAAAAEAAAAAAAAAAAAA\n",
       "AAAAAAAAAbABIABIAAAASAAAAAAAAAABAAAAAAAAAAAAAAAAAAAAAAAAAAAAAAAAAAAAAAAAAAAA\n",
       "GP//AAAAMWF2Y0MBZAAV/+EAGGdkABWs2UGwloQAAAMABAAAAwDIPFi2WAEABmjr48siwAAAABx1\n",
       "dWlka2hA8l8kT8W6OaUbzwMj8wAAAAAAAAAYc3R0cwAAAAAAAAABAAAADwAAAgAAAAAUc3RzcwAA\n",
       "AAAAAAABAAAAAQAAAIhjdHRzAAAAAAAAAA8AAAABAAAEAAAAAAEAAAoAAAAAAQAABAAAAAABAAAA\n",
       "AAAAAAEAAAIAAAAAAQAACgAAAAABAAAEAAAAAAEAAAAAAAAAAQAAAgAAAAABAAAGAAAAAAEAAAIA\n",
       "AAAAAQAACgAAAAABAAAEAAAAAAEAAAAAAAAAAQAAAgAAAAAcc3RzYwAAAAAAAAABAAAAAQAAAA8A\n",
       "AAABAAAAUHN0c3oAAAAAAAAAAAAAAA8AAAOeAAAAXgAAACQAAAAlAAAAHAAAAH0AAAA2AAAAJwAA\n",
       "ADIAAAB9AAAANAAAAGgAAABeAAAAOQAAAE4AAAAUc3RjbwAAAAAAAAABAAAALAAAAGJ1ZHRhAAAA\n",
       "Wm1ldGEAAAAAAAAAIWhkbHIAAAAAAAAAAG1kaXJhcHBsAAAAAAAAAAAAAAAALWlsc3QAAAAlqXRv\n",
       "bwAAAB1kYXRhAAAAAQAAAABMYXZmNTguMjAuMTAw\n",
       "\">\n",
       "  Your browser does not support the video tag.\n",
       "</video>"
      ],
      "text/plain": [
       "<IPython.core.display.HTML object>"
      ]
     },
     "execution_count": 27,
     "metadata": {},
     "output_type": "execute_result"
    },
    {
     "data": {
      "image/png": "[encoded data removed]",
      "text/plain": [
       "<Figure size 432x288 with 1 Axes>"
      ]
     },
     "metadata": {
      "needs_background": "light"
     },
     "output_type": "display_data"
    }
   ],
   "source": [
    "frames = []\n",
    "\n",
    "env.reset()    \n",
    "observation, reward, done, _ = env.step(env.action_space.sample())\n",
    "reward_sum = 0        \n",
    "while not(done):\n",
    "    img = env.render(mode = \"rgb_array\")\n",
    "    env.close()\n",
    "    frames.append(img)\n",
    "    reward_sum += reward\n",
    "    p_left = policy_network.predict(np.expand_dims(observation,axis=0))\n",
    "    action = 0 if random.uniform(0,1)< p_left else 1 \n",
    "    observation, reward, done, _ = env.step(action)\n",
    "plt.close()\n",
    "HTML(plot_animation(frames).to_html5_video())"
   ]
  },
  {
   "cell_type": "markdown",
   "metadata": {},
   "source": [
    "The neural network is working. But it's still acting randomly because we do not train the neural network. Let's try to make it learn better policy."
   ]
  },
  {
   "cell_type": "markdown",
   "metadata": {},
   "source": [
    "### Learn a given policy\n",
    "\n",
    "In this part we will train the neural network in order that it learns the simple strategy we hard coded before : if the pole is tilting to the left, then push the cart to the left, and _vice versa_.\n",
    "\n",
    "We start by defining the neural network policy with the same architecture than before. <br>\n",
    "This time we compile this network in order to learn the wanted behaviour"
   ]
  },
  {
   "cell_type": "code",
   "execution_count": 33,
   "metadata": {},
   "outputs": [],
   "source": [
    "policy_network=km.Sequential()\n",
    "policy_network.add(kl.Dense(n_hidden, input_shape = (n_inputs,), activation = \"relu\", kernel_initializer = initializer))\n",
    "policy_network.add(kl.Dense(n_outputs, activation = \"sigmoid\", kernel_initializer = initializer))\n",
    "\n",
    "# apprentissage\n",
    "learning_rate = 0.01\n",
    "adam = ko.Adam(lr = learning_rate)\n",
    "policy_network.compile(loss='binary_crossentropy',optimizer=ko.Adam(lr = learning_rate),metrics=['accuracy'])\n"
   ]
  },
  {
   "cell_type": "markdown",
   "metadata": {},
   "source": [
    "In order to learn this policy we will first define 10 environment that we will play in parallel at each iterations"
   ]
  },
  {
   "cell_type": "code",
   "execution_count": 34,
   "metadata": {},
   "outputs": [],
   "source": [
    "n_environments = 10\n",
    "\n",
    "envs = [gym.make(\"CartPole-v0\") for _ in range(n_environments)]\n",
    "observations = np.array([env.reset() for env in envs])"
   ]
  },
  {
   "cell_type": "markdown",
   "metadata": {},
   "source": [
    "At each iteration we will :\n",
    "\n",
    "* Train the network over observations we have.\n",
    "    *  These observation will be the inputs, and the target will be the expected behavior.\n",
    "* Predict the action according to the neural network policy.\n",
    "\n",
    "**Question** : On the code below, looks how the actions is chosen. Why do we follow this method?"
   ]
  },
  {
   "cell_type": "code",
   "execution_count": 35,
   "metadata": {},
   "outputs": [
    {
     "name": "stdout",
     "output_type": "stream",
     "text": [
      "WARNING:tensorflow:From /Users/brendanguillouet/anaconda3/envs/INSA/lib/python3.6/site-packages/tensorflow/python/ops/math_ops.py:3066: to_int32 (from tensorflow.python.ops.math_ops) is deprecated and will be removed in a future version.\n",
      "Instructions for updating:\n",
      "Use tf.cast instead.\n"
     ]
    }
   ],
   "source": [
    "n_iterations = 2000\n",
    "for iteration in range(n_iterations):\n",
    "    target_probas = np.array([(1 if obs[2] < 0 else 0) for obs in observations]) # if angle<0 we want proba(left)=1., or else proba(left)=0.\n",
    "    policy_network.train_on_batch(observations, target_probas)  # one batch iteration\n",
    "    \n",
    "    # Generate probablity and observation on ntext step\n",
    "    p_lefts = policy_network.predict(observations)\n",
    "    actions = [0 if random.uniform(0,1)< p_left else 1 for p_left in p_lefts]\n",
    "    \n",
    "    # Compute next state\n",
    "    for env_index, env in enumerate(envs):\n",
    "        obs, reward, done, info = env.step(actions[env_index])\n",
    "        observations[env_index] = obs if not done else env.reset()\n",
    "\n",
    "for env in envs:\n",
    "    env.close()"
   ]
  },
  {
   "cell_type": "code",
   "execution_count": 36,
   "metadata": {},
   "outputs": [
    {
     "name": "stdout",
     "output_type": "stream",
     "text": [
      "Game played : 0. Reward for the last 10 episode: []\n",
      "Game played : 10. Reward for the last 10 episode: [35.0, 52.0, 44.0, 81.0, 35.0, 42.0, 52.0, 40.0, 49.0, 49.0]\n",
      "Game played : 20. Reward for the last 10 episode: [44.0, 57.0, 43.0, 37.0, 62.0, 53.0, 56.0, 25.0, 29.0, 40.0]\n",
      "Game played : 30. Reward for the last 10 episode: [30.0, 93.0, 37.0, 48.0, 68.0, 37.0, 51.0, 44.0, 33.0, 52.0]\n",
      "Game played : 40. Reward for the last 10 episode: [53.0, 68.0, 35.0, 49.0, 56.0, 57.0, 42.0, 37.0, 58.0, 41.0]\n",
      "Game played : 50. Reward for the last 10 episode: [38.0, 40.0, 24.0, 55.0, 39.0, 69.0, 49.0, 59.0, 59.0, 42.0]\n",
      "Game played : 60. Reward for the last 10 episode: [45.0, 51.0, 57.0, 41.0, 42.0, 55.0, 48.0, 29.0, 49.0, 64.0]\n",
      "Game played : 70. Reward for the last 10 episode: [43.0, 46.0, 40.0, 60.0, 27.0, 36.0, 59.0, 53.0, 40.0, 60.0]\n",
      "Game played : 80. Reward for the last 10 episode: [65.0, 76.0, 55.0, 40.0, 77.0, 37.0, 27.0, 50.0, 31.0, 33.0]\n",
      "Game played : 90. Reward for the last 10 episode: [38.0, 56.0, 50.0, 46.0, 86.0, 44.0, 68.0, 36.0, 55.0, 49.0]\n",
      "Over 100 episodes, mean reward: 48, std : 13\n"
     ]
    }
   ],
   "source": [
    "reward_sum = 0\n",
    "num_games = 100       \n",
    "num_game = 0\n",
    "all_reward_sum = []\n",
    "obs = env.reset()\n",
    "reward\n",
    "while num_game < num_games:\n",
    "    # hard-coded policy\n",
    "    p_left = policy_network.predict(np.expand_dims(obs,axis=0))\n",
    "    action = 0 if random.uniform(0,1)< p_left else 1 \n",
    "    obs, reward, done, info = env.step(action)\n",
    "    reward_sum += reward\n",
    "    if done:\n",
    "        if num_game %10 == 0:\n",
    "            print(\"Game played : %d. Reward for the last 10 episode: %s\" %(num_game,all_reward_sum[-10:]) )\n",
    "        all_reward_sum.append(reward_sum)\n",
    "        reward_sum = 0\n",
    "        num_game += 1\n",
    "        env.reset()\n",
    "print(\"Over %d episodes, mean reward: %d, std : %d\" %(num_games, np.mean(all_reward_sum), np.std(all_reward_sum)))"
   ]
  },
  {
   "cell_type": "code",
   "execution_count": 37,
   "metadata": {},
   "outputs": [
    {
     "data": {
      "text/html": [
       "<video width=\"432\" height=\"288\" controls autoplay>\n",
       "  <source type=\"video/mp4\" src=\"data:video/mp4;base64,AAAAHGZ0eXBNNFYgAAACAGlzb21pc28yYXZjMQAAAAhmcmVlAAAM6W1kYXQAAAKgBgX//5zcRem9\n",
       "5tlIt5Ys2CDZI+7veDI2NCAtIGNvcmUgMTUyIC0gSC4yNjQvTVBFRy00IEFWQyBjb2RlYyAtIENv\n",
       "cHlsZWZ0IDIwMDMtMjAxNyAtIGh0dHA6Ly93d3cudmlkZW9sYW4ub3JnL3gyNjQuaHRtbCAtIG9w\n",
       "dGlvbnM6IGNhYmFjPTEgcmVmPTMgZGVibG9jaz0xOjA6MCBhbmFseXNlPTB4MzoweDExMyBtZT1o\n",
       "ZXggc3VibWU9NyBwc3k9MSBwc3lfcmQ9MS4wMDowLjAwIG1peGVkX3JlZj0xIG1lX3JhbmdlPTE2\n",
       "IGNocm9tYV9tZT0xIHRyZWxsaXM9MSA4eDhkY3Q9MSBjcW09MCBkZWFkem9uZT0yMSwxMSBmYXN0\n",
       "X3Bza2lwPTEgY2hyb21hX3FwX29mZnNldD0tMiB0aHJlYWRzPTkgbG9va2FoZWFkX3RocmVhZHM9\n",
       "MSBzbGljZWRfdGhyZWFkcz0wIG5yPTAgZGVjaW1hdGU9MSBpbnRlcmxhY2VkPTAgYmx1cmF5X2Nv\n",
       "bXBhdD0wIGNvbnN0cmFpbmVkX2ludHJhPTAgYmZyYW1lcz0zIGJfcHlyYW1pZD0yIGJfYWRhcHQ9\n",
       "MSBiX2JpYXM9MCBkaXJlY3Q9MSB3ZWlnaHRiPTEgb3Blbl9nb3A9MCB3ZWlnaHRwPTIga2V5aW50\n",
       "PTI1MCBrZXlpbnRfbWluPTI1IHNjZW5lY3V0PTQwIGludHJhX3JlZnJlc2g9MCByY19sb29rYWhl\n",
       "YWQ9NDAgcmM9Y3JmIG1idHJlZT0xIGNyZj0yMy4wIHFjb21wPTAuNjAgcXBtaW49MCBxcG1heD02\n",
       "OSBxcHN0ZXA9NCBpcF9yYXRpbz0xLjQwIGFxPTE6MS4wMACAAAABHGWIhAA7//73Tr8Cm0WXagOS\n",
       "Vwr2yqQmWblSawHypgAAAwAAEbBufJcNeavSJAAArYACODOPhbL0jZk1zmmhc1YPY/chYAMgFSjQ\n",
       "pjlm7b/AWw4NqG4RMV/ZriZfIT+F7UmwXPcuLn9kuw+SN7igdLNheNKN5X+FvcVsBxaYZU5gXRdP\n",
       "POb/CXFgzwrUEeC3uZKQwKCKJ9dRpeRU9Tl8wvQXCDPuwM0vV0pu0yvz+v/Em+shrBTDqirXEPCW\n",
       "TNoE1R8gfBg9obRZe7altGpVfKjaZ2z18bX05z4FGDrIDThbDK3SpwC3TrX/Nzg0mfsu6njUNM12\n",
       "gVKTHVOlL3/eO4iNXn7ypXeaIWtfx/3XA7CbSm5EvVPwSlAAABYxAAAAfEGaJGxDf/6nhAAFYlWx\n",
       "VwxcABYmHzJs/FHp9iKjG0JH/0mo2DTm8j09bQs6Pobv9bsy5re+9AEc4iqGd8GXj6d/1Uwrt5Hj\n",
       "HjOvm0b9x111wXGMUZVZdd6orOmFdCLNdpTBkslu24GNUDCk8HJxkws6Tr9V9cnFMKmfO9gAAAA3\n",
       "QZ5CeIX/AAM4GLd3T2zpAALRa0dkJlUd5nQS5IiGanDiML/nI65jNtNPsHm97jXP0Ij/d8/OwQAA\n",
       "ACsBnmF0Qr8ABFLmR+Tq/GDwstdK1CbwYAB1mU7soS+SgMsylTjnWL7Y4F6kAAAAOgGeY2pCvwAE\n",
       "N2A1HpUWuWJUIwR4sDRQAOcjHd7/ZcOLDZlkBS45HU97eHc/bY9VsOmG8+gZOIhKW2EAAABoQZpl\n",
       "SahBaJlMCHf//qmWAAVvdbSh9exi68X5I9jKvuh2ludqsSjJYmvuGTFA02MXUfn92Tuyad985Rnb\n",
       "oUdo/3oEbrfTt8YjHHjnI1vL7gRrrW1uwbKr7ZeJwoq7V7qT4BM2jvAhio0AAACXQZqJSeEKUmUw\n",
       "Id/+qZYAArpk3rCAHCIBR16+bDw49Dfqiv/4hBCeGSLmvL74LvKr6dcJpp6NvHuSBKHkk5/5zrja\n",
       "jGslcImkoOV3VoZVE3TYb7j6jfrtcIs16KJKrt4o+mxWeB+5FMbm2wEMw+1wGYWyR7wIgoomBHob\n",
       "E5EI2AdoHU/1ACOMzsldhhYz3NHQXl+VNuXvQQAAAC9BnqdFNEwv/wADNkOlLDeCJ6aqiY3f14nV\n",
       "dcwtJaeWkKTTpf5mXA0WsQO82WDpCQAAAB8BnsZ0Qr8ABFfEL//qoPGY4+9w69a4sbPRbRXi66JA\n",
       "AAAAMwGeyGpCvwAEVtfGYaBV6rx718uX+kJrtR3snnfUAAOsRwMy9x/+1X5WuVxzmth/84y9IQAA\n",
       "AH1Bms1JqEFomUwId//+qZYAArplGCyutIAWGAF8KtUl6ObbASGE7GFRnTU/SalFulfJ6Q90MtyC\n",
       "L8vEbMv/3JQuLyEe8kdbUPUbPDfKZEAQ3GDMgeIJSRQ/bYpcevvr76f6nYdw2+9ZtkbimblU0dSP\n",
       "PsOL94orsO6XLAjECQAAAEhBnutFESwv/wADN49G3FqgA9tVfipbcElCedSs3BAe00rbuEV67rjD\n",
       "+Pa1m8CCIFps98IDVUrsz9AlVVHg6/VdfgGcV/17v7oAAAA6AZ8KdEK/AARToQfAAfVfXb+APfDi\n",
       "ogtTsfvC7m7OZGtImy4SxUYIRB3uPKw8X82MjkVQNJi7XfS0SAAAADUBnwxqQr8ACKyQtPMFxtuU\n",
       "TX2exSVwHDYOxiqSABfXdTY/yUKqTgRr8Sqnp99N6s3eKt3tcwAAAHNBmxFJqEFsmUwIb//+p4QA\n",
       "BWOF9ACwuXdPV8xqISVEytig8/s7fTtqTMN5ku2b5lg0ccOYQHE7+tuZqkgxcVm2TqfJDCgKCmyI\n",
       "6KQHw2wVlyy2a1p+ZEGAMTXGHjhJXCjHi2UdP/Xbg8/Ne9f7vIyjo9JFAAAAO0GfL0UVLC//AAMk\n",
       "4wG1wsVdLqbd5L2tG62pyS2IFQCnAAvrnrmMAOmxidr9UPAlGxUJaegVbaCpKQbBAAAAGQGfTnRC\n",
       "vwACGuiSNWhdudWrgI5RGc1uW1YAAAAuAZ9QakK/AARXXcvpb4QhksxwSMGtWVPuGMAHGg4KkVk/\n",
       "s4tPzjMwlRx61ENnlAAAAHlBm1VJqEFsmUwIb//+p4QABWlo7x61P4AODGZ/i+6CAsM1bs0/NSzY\n",
       "N5i8mFxjqvzPA+8kYL0nHCSOhnT8o/5WyCIn7nfpCcglOPw/TapJbqT5Puzj52Gr5aJ/RxikXD7D\n",
       "h5bqC8x/cFwIX+A1UdkpU/vI13EKsc6BAAAAUkGfc0UVLC//AAM3YII8+wAbYzC519PbMk4ARBzt\n",
       "NOFeUK+8x+CFm/QNsDdCkyChWZrl0Re2hTauSKeC2gGTf1ynfu/jMtnir5x6SGXrxOv1SEAAAAA2\n",
       "AZ+SdEK/AAQpRt4DPDS1oCn6sBWVxiDvJ+qaGA7cHd33/6B1XFvhgAHLiUKlQaAffR1UKKx9AAAA\n",
       "NAGflGpCvwAEVN/tM9aajLbG720qkoAkhRC1gv0JwXbv80UkAC+hD6Q/tqeEBelmw+YggZsAAACE\n",
       "QZuXSahBbJlMFEw3//6nhAAFYkfsfCRNjgBux/+Z9je/qTKJFi+sEOW/+E/jfjiQh8zkytZERUjz\n",
       "B2enX1006geoNr9zMyIZHS/Bebom9IhqCfR0dCA/iceluY7voXm12IPGTc4rhYYxB1WzXaWbRS8C\n",
       "+XEratsc19vS7ucnlIoqTkTAAAAANQGftmpCvwAEU6QOjdnoI6s0HoixPdJ9ChEAHw2rKsLFWuEx\n",
       "haQxytNlLrsGv4six3w1KgCRAAAAhUGbuUnhClJlMFLDP/6eEAAVEfTvTYAA4Lom/rPUsCRHensu\n",
       "0ZrDIMpkJJGZ9hdRMqtcdFUSPtq9X68peoEPvUCg/dRO2gfBVNyMgVI3GI+cyw2aiu+nZqKlhz7W\n",
       "DkWRYvYquK0u5e9WvnthvJzZaJvp6eD5F8ZHMDgbu/m/IcVZJ/p2/PEAAAA0AZ/YakK/AAiwZpSJ\n",
       "JSrqWyzLAA+g/SUwg3gdnBhfKIu83o6nf1VaeuvRCkL1xoYcnKcLtgAAAHNBm91J4Q6JlMCFf/44\n",
       "QABR3mat3ABO3dY5glxNL2ybHaPLQphqeZWXHgo4DyJHA3dr63c9OuM9l23XryVBhxKxXtEjvAbm\n",
       "/sK3wZDZyxDld/VWeLE7r0R883PMgQQyuFhdqFw8GQA7JoBKlhPeX/yIy4tBAAAAX0Gf+0UVPC//\n",
       "AAZxxcieGWgukrWUALWfgTQ/BD1yPwSJoXBKeYT+sjtkkzl92vuR8t9qzHSmoUtOXpBUFmPStkic\n",
       "mKRH/TNp/iFaCczytw/ZaQwdJle49gP4dJ579pVgAAAAOQGeGnRCvwAIkqkXsYWOYgv9bGntb/4u\n",
       "2ELXSzw1gXl8chrJkAHZDcZFY+2TirfY4MwYi5UN+lyW5QAAADYBnhxqQr8ACJKpJQbGqVXUopX+\n",
       "rFtW/uSw/rQ+yCawAdb3iqYDAqdGIGLeu2psujRLH13yY4EAAASWbW9vdgAAAGxtdmhkAAAAAAAA\n",
       "AAAAAAAAAAAD6AAABLAAAQAAAQAAAAAAAAAAAAAAAAEAAAAAAAAAAAAAAAAAAAABAAAAAAAAAAAA\n",
       "AAAAAABAAAAAAAAAAAAAAAAAAAAAAAAAAAAAAAAAAAAAAAAAAgAAA8B0cmFrAAAAXHRraGQAAAAD\n",
       "AAAAAAAAAAAAAAABAAAAAAAABLAAAAAAAAAAAAAAAAAAAAAAAAEAAAAAAAAAAAAAAAAAAAABAAAA\n",
       "AAAAAAAAAAAAAABAAAAAAbAAAAEgAAAAAAAkZWR0cwAAABxlbHN0AAAAAAAAAAEAAASwAAAEAAAB\n",
       "AAAAAAM4bWRpYQAAACBtZGhkAAAAAAAAAAAAAAAAAAAyAAAAPABVxAAAAAAALWhkbHIAAAAAAAAA\n",
       "AHZpZGUAAAAAAAAAAAAAAABWaWRlb0hhbmRsZXIAAAAC421pbmYAAAAUdm1oZAAAAAEAAAAAAAAA\n",
       "AAAAACRkaW5mAAAAHGRyZWYAAAAAAAAAAQAAAAx1cmwgAAAAAQAAAqNzdGJsAAAAs3N0c2QAAAAA\n",
       "AAAAAQAAAKNhdmMxAAAAAAAAAAEAAAAAAAAAAAAAAAAAAAAAAbABIABIAAAASAAAAAAAAAABAAAA\n",
       "AAAAAAAAAAAAAAAAAAAAAAAAAAAAAAAAAAAAAAAAGP//AAAAMWF2Y0MBZAAV/+EAGGdkABWs2UGw\n",
       "loQAAAMABAAAAwDIPFi2WAEABmjr48siwAAAABx1dWlka2hA8l8kT8W6OaUbzwMj8wAAAAAAAAAY\n",
       "c3R0cwAAAAAAAAABAAAAHgAAAgAAAAAUc3RzcwAAAAAAAAABAAAAAQAAAQBjdHRzAAAAAAAAAB4A\n",
       "AAABAAAEAAAAAAEAAAoAAAAAAQAABAAAAAABAAAAAAAAAAEAAAIAAAAAAQAABAAAAAABAAAKAAAA\n",
       "AAEAAAQAAAAAAQAAAAAAAAABAAACAAAAAAEAAAoAAAAAAQAABAAAAAABAAAAAAAAAAEAAAIAAAAA\n",
       "AQAACgAAAAABAAAEAAAAAAEAAAAAAAAAAQAAAgAAAAABAAAKAAAAAAEAAAQAAAAAAQAAAAAAAAAB\n",
       "AAACAAAAAAEAAAYAAAAAAQAAAgAAAAABAAAGAAAAAAEAAAIAAAAAAQAACgAAAAABAAAEAAAAAAEA\n",
       "AAAAAAAAAQAAAgAAAAAcc3RzYwAAAAAAAAABAAAAAQAAAB4AAAABAAAAjHN0c3oAAAAAAAAAAAAA\n",
       "AB4AAAPEAAAAgAAAADsAAAAvAAAAPgAAAGwAAACbAAAAMwAAACMAAAA3AAAAgQAAAEwAAAA+AAAA\n",
       "OQAAAHcAAAA/AAAAHQAAADIAAAB9AAAAVgAAADoAAAA4AAAAiAAAADkAAACJAAAAOAAAAHcAAABj\n",
       "AAAAPQAAADoAAAAUc3RjbwAAAAAAAAABAAAALAAAAGJ1ZHRhAAAAWm1ldGEAAAAAAAAAIWhkbHIA\n",
       "AAAAAAAAAG1kaXJhcHBsAAAAAAAAAAAAAAAALWlsc3QAAAAlqXRvbwAAAB1kYXRhAAAAAQAAAABM\n",
       "YXZmNTguMjAuMTAw\n",
       "\">\n",
       "  Your browser does not support the video tag.\n",
       "</video>"
      ],
      "text/plain": [
       "<IPython.core.display.HTML object>"
      ]
     },
     "execution_count": 37,
     "metadata": {},
     "output_type": "execute_result"
    },
    {
     "data": {
      "image/png": "[encoded data removed]",
      "text/plain": [
       "<Figure size 432x288 with 1 Axes>"
      ]
     },
     "metadata": {
      "needs_background": "light"
     },
     "output_type": "display_data"
    }
   ],
   "source": [
    "frames = []\n",
    "\n",
    "env.reset()    \n",
    "observation, reward, done, _ = env.step(env.action_space.sample())\n",
    "reward_sum = 0        \n",
    "while not(done):\n",
    "    img = env.render(mode = \"rgb_array\")\n",
    "    env.close()\n",
    "    frames.append(img)\n",
    "    reward_sum += reward\n",
    "    p_left = policy_network.predict(np.expand_dims(observation,axis=0))\n",
    "    action = 0 if random.uniform(0,1)< p_left else 1 \n",
    "    observation, reward, done, _ = env.step(action)\n",
    "plt.close()\n",
    "HTML(plot_animation(frames).to_html5_video())"
   ]
  },
  {
   "cell_type": "markdown",
   "metadata": {},
   "source": [
    "Looks like it learned the policy correctly! <br>\n",
    "\n",
    "Let's now reach our final target : The neural network has to find a better policy by its own."
   ]
  },
  {
   "cell_type": "markdown",
   "metadata": {},
   "source": [
    "## Policy Gradients"
   ]
  },
  {
   "cell_type": "markdown",
   "metadata": {},
   "source": [
    "The idea behind *Policy Gradients* its quite simple : The _Policy Gradients_ algorithm tackles this problem by first playing multiple games, then making the actions in good games slightly more likely, while actions in bad games are made slightly less likely. First we play, then we go back and think about what we did.\n",
    "\n",
    "### Algorithm\n",
    "\n",
    "* Run an episode untill it's done and save at each iteration the observation, action and reward.\n",
    "* When an episode it's done. Compute the discounted rewards for all the episode, and save it.\n",
    "* If you have done *batch_size=50* episodes train your model on this batch.\n",
    "* Stop if you have reach *num episodes* or *goal* target."
   ]
  },
  {
   "cell_type": "markdown",
   "metadata": {},
   "source": [
    "\n",
    "### Parameters\n",
    "\n",
    "| Variable  | Value  | Description  | \n",
    "|---|---|---|\n",
    "|Gamma   | 0.99  | The discounted rate apply for the discounted reward  |\n",
    "|batch_size  | 50   | Number of episode to run before training model on a batch of episode  |\n",
    "| Num episodes | 10.000   | Maximum number of episode to run before stopping the training  | \n",
    "| goal | 190  | Number of step to achieve on one episode to stop the training.  |\n",
    "\n",
    "Those parameters are fixed for this TP, they are common value for this kind of problem based on experiences. They are not definitive nor results or any research."
   ]
  },
  {
   "cell_type": "markdown",
   "metadata": {},
   "source": [
    "### Discounted rewards\n"
   ]
  },
  {
   "cell_type": "markdown",
   "metadata": {},
   "source": [
    "To train this neural network we will then used the observation of the experiences as an inputs and the actions taken as an output.\n",
    "\n",
    "But how do we provide to the neural network the information the choosen actions  was good or bad?\n",
    "The problem is that most actions have delayed effects, so when you win or lose points in a game, it is not clear which actions contributed to this result: was it just the last action? Or the last 10? Or just one action 50 steps earlier? <br>\n",
    "This is called the _credit assignment problem_.\n",
    "\n",
    "\n",
    "To tackle this problem, a common strategy is to evaluate an action based on the sum of all the rewards that come after it, usually applying a discount rate r at each step. \n",
    "This rate will the be applied to the loss function of the neural network :\n",
    "* A high discounted reward will lead to higher gradient which will increase the importance of this action\n",
    "* A low  discounted reward will lead to lower gradient which will decrease the importance of this action\n",
    " \n",
    "\n",
    "**Exercise** : Implement the discount_rewards function."
   ]
  },
  {
   "cell_type": "code",
   "execution_count": null,
   "metadata": {},
   "outputs": [],
   "source": [
    "def discount_rewards(r, gamma=0.99):\n",
    "    \"\"\"Takes 1d float array of rewards and computes discounted reward\n",
    "    e.g. f([1, 1, 1], 0.99) -> [2.9701, 1.99, 1]\n",
    "    \"\"\"\n",
    "    TODO\n",
    "    return discounted_rewards"
   ]
  },
  {
   "cell_type": "code",
   "execution_count": 52,
   "metadata": {},
   "outputs": [],
   "source": [
    "# %load solutions/exercise_1_4.py"
   ]
  },
  {
   "cell_type": "markdown",
   "metadata": {},
   "source": [
    "### Architecture & Loss Function\n",
    "\n",
    "As before we will define a very simple architecture to our neural network : A MLP with only one hidden layer and 8 neurons.\n",
    "\n",
    "We have to be aware here that the neural network will have two different behaviour :\n",
    "\n",
    "* For training: the model will take two information as an input : The observations (to predict the action), and the discounted rate (also call advantages) that will be applied on the loss function.\n",
    "* For prediction : the model will take only the observations as an input to predict the action.\n",
    "\n",
    "So we have to define a neural network that can either handle one or two inputs! \n",
    "\n",
    "In keras we define it that way : we define the layers, and we create two models (for training and prediction) that will share the same layers and weight.\n",
    "\n",
    "We will also implement the loss function, which is weighted binary cross entropy, where the weight are the discounted rated computed from the rewards\n",
    "\n",
    "Here is how we implement it : (Make sure you understand it!) "
   ]
  },
  {
   "cell_type": "code",
   "execution_count": 40,
   "metadata": {},
   "outputs": [],
   "source": [
    "def generate_train_predict_network(hidden_layer_neurons, dimen, lr = 1e-2, initializer = ki.VarianceScaling()):\n",
    "    num_actions = 1\n",
    "    inp = kl.Input(shape=dimen,name=\"input_x\")\n",
    "    adv = kl.Input(shape=[1], name=\"advantages\")\n",
    "    x = kl.Dense(hidden_layer_neurons,  activation=\"relu\",\n",
    "                     use_bias=False,\n",
    "                     kernel_initializer=initializer,\n",
    "                     name=\"dense_1\")(inp)\n",
    "    out = kl.Dense(num_actions,\n",
    "                       activation=\"sigmoid\",\n",
    "                       kernel_initializer=initializer,\n",
    "                       use_bias=False,\n",
    "                       name=\"out\")(x)\n",
    "\n",
    "    model_train = km.Model(inputs=[inp, adv], outputs=out)\n",
    "    model_predict = km.Model(inputs=[inp], outputs=out)\n",
    "\n",
    "    def my_custom_loss(y_true, y_pred):\n",
    "        log_lik = - (y_true * K.log(y_pred) + (1 - y_true) * K.log(1 - y_pred))\n",
    "        return K.mean(log_lik * adv, keepdims=True)\n",
    "\n",
    "    model_train.compile(loss=my_custom_loss, optimizer=ko.Adam(lr))\n",
    "    return model_train, model_predict\n"
   ]
  },
  {
   "cell_type": "markdown",
   "metadata": {},
   "source": [
    "This function is very similar than the code use before to compute how our model perform."
   ]
  },
  {
   "cell_type": "code",
   "execution_count": 41,
   "metadata": {},
   "outputs": [],
   "source": [
    "# See our trained bot in action\n",
    "def score_model(model, num_tests, dimen, render=False):\n",
    "    scores = []\n",
    "    for num_test in range(num_tests):\n",
    "        observation = env.reset()\n",
    "        reward_sum = 0\n",
    "        while True:\n",
    "            if render:\n",
    "                env.render()\n",
    "\n",
    "            state = np.reshape(observation, [1, dimen])\n",
    "            predict = model.predict([state])[0]\n",
    "            action = 0 if predict>0.5 else 1\n",
    "            observation, reward, done, _ = env.step(action)\n",
    "            reward_sum += reward\n",
    "            if done:\n",
    "                break\n",
    "        scores.append(reward_sum)\n",
    "    env.close()\n",
    "    return np.mean(scores)"
   ]
  },
  {
   "cell_type": "markdown",
   "metadata": {},
   "source": [
    "### PG class\n",
    "\n",
    "Let's know write our algorithm without a `PG` class.\n",
    "\n",
    "Firs let's have a look at the `train` function which can be described with the following psuedo-code:\n",
    "\n",
    "* Initialize all variables and envrionment\n",
    "* While number of episode max is not reached or if our ***goal*** is not achieve:\n",
    "    * Run one step within the environment\n",
    "    * If we ended an episode:\n",
    "        * If we have reached ***batch_size*** episode generated: \n",
    "            * Train the episode\n",
    "        * If we have reached the ***print_every*** number of episode generated: \n",
    "            * print score and see if we have achieves our ***goal*** on the last ***n_test*** episode\n",
    "        * Increase number of episodes\n",
    "        \n",
    "**Exercise**  Complete the class below to in order to train the neural network with PG policy.\n",
    "\n",
    "1. Pay attention to all the parameters define in the init and make sure you understand it.\n",
    "2. Look at the train function to understand how the \"pseudo-code\" should workK\n",
    "3. Go inside *run_one_step_epsiode* and the *run_one_batch_train* functions and complete the code where you'll find a TODO mark in order to make the function train work!"
   ]
  },
  {
   "cell_type": "code",
   "execution_count": null,
   "metadata": {},
   "outputs": [],
   "source": [
    "class PG:\n",
    "\n",
    "    def __init__(self, gamma = .99, batch_size = 50, num_episodes = 10000, goal = 190, n_test = 10, print_every = 100):\n",
    "\n",
    "        self.gamma = gamma      # -> Discounted reward\n",
    "        self.batch_size = batch_size  # -> Size of episode before training on a batch\n",
    "\n",
    "        # Stop factor\n",
    "        self.num_episodes = num_episodes # Max number of iterations\n",
    "        self.goal = goal                 # Stop if our network achieve this goal over *n_test*\n",
    "        self.n_test = n_test             # Number of test to run to evaluate if our goal si achieve.\n",
    "\n",
    "        self.print_every = print_every  #Number of episode before trying if our model perform well.\n",
    "\n",
    "    def run_one_step_episode(self, observation):\n",
    "        # Generate state and action for the current iteration\n",
    "        TODO\n",
    "        \n",
    "        # Append the observations and outputs for learning to the states and actions placeholder\n",
    "        TODO\n",
    "        \n",
    "        # Determine the new outcome of the action generated\n",
    "        TODO\n",
    "        \n",
    "        # Append the rewards for learning to the rewards place older\n",
    "        TODO\n",
    "\n",
    "        # If the episode if Over\n",
    "        if done:\n",
    "            # Computed the discounted rewards for this episode\n",
    "            TODO\n",
    "\n",
    "            # Append the discounted rewards for learning and reset the rewards placeholder for the ne episode\n",
    "            TODO\n",
    "        return observation, reward, done\n",
    "    \n",
    "\n",
    "    def run_one_batch_train(self):\n",
    "        # Normalize the discounted rewards\n",
    "        self.discounted_rewards -= self.discounted_rewards.mean()\n",
    "        self.discounted_rewards /= self.discounted_rewards.std()\n",
    "        self.discounted_rewards = self.discounted_rewards.squeeze()\n",
    "        \n",
    "        # Train the \"model_train\" models on the batch of episodes generated and save loss to the losses placehoder\n",
    "        # Use the \"train_on_batch\" method from keros to train the model on a single batch\n",
    "        TODO\n",
    "        \n",
    "        # Do not forget to clear place holder variable for next batch train\n",
    "        TODO\n",
    "\n",
    "    def print_status(self, num_episode, reward_sum, score):\n",
    "        # Print status\n",
    "        print(\n",
    "            \"Average reward for training episode {}: {:0.2f} Test Score of {:d} episode: {:0.2f} Loss: {:0.6f} \".format(\n",
    "                (num_episode + 1), reward_sum / self.print_every, self.n_test,\n",
    "                score,\n",
    "                self.losses[-1]))\n",
    "        return score\n",
    "\n",
    "    def train(self):\n",
    "\n",
    "        # Setting up our environment\n",
    "        observation = env.reset()\n",
    "        self.dimen = env.reset().shape[0]\n",
    "\n",
    "\n",
    "        # Placeholders for our observations, outputs and rewards\n",
    "        self.states = np.empty(0).reshape(0, self.dimen)\n",
    "        self.actions = np.empty(0).reshape(0, 1)\n",
    "        self.rewards = np.empty(0).reshape(0, 1)\n",
    "        self.discounted_rewards = np.empty(0).reshape(0, 1)\n",
    "        self.losses = []\n",
    "\n",
    "\n",
    "        num_episode = 0\n",
    "        reward_sum = 0 # # For display info\n",
    "\n",
    "        self.model_train, self.model_predict = generate_train_predict_network(hidden_layer_neurons=9, dimen=(self.dimen,))\n",
    "\n",
    "        while num_episode < self.num_episodes:\n",
    "            observation, reward, done = self.run_one_step_episode(observation)\n",
    "            reward_sum += reward\n",
    "\n",
    "            # If the episode if Over and ifwe have reach 50=batch_size episodes run training for the build batch\n",
    "            if done:\n",
    "                if (num_episode + 1) % self.batch_size == 0:\n",
    "                    self.run_one_batch_train()\n",
    "\n",
    "                # Print results periodically\n",
    "                if (num_episode + 1) % self.print_every == 0:\n",
    "                    score = score_model(self.model_predict, self.n_test, self.dimen)\n",
    "                    self.print_status(num_episode, reward_sum, score)\n",
    "                    reward_sum = 0\n",
    "                    if score >= self.goal:\n",
    "                        print(\"Solved in {} episodes!\".format(num_episode))\n",
    "                        break\n",
    "\n",
    "                num_episode += 1\n",
    "                observation = env.reset()"
   ]
  },
  {
   "cell_type": "code",
   "execution_count": 50,
   "metadata": {},
   "outputs": [],
   "source": [
    "# %load solutions/exercise_1_5.py"
   ]
  },
  {
   "cell_type": "markdown",
   "metadata": {},
   "source": [
    "### Training"
   ]
  },
  {
   "cell_type": "markdown",
   "metadata": {},
   "source": [
    "Let's train the model !"
   ]
  },
  {
   "cell_type": "code",
   "execution_count": 51,
   "metadata": {},
   "outputs": [
    {
     "name": "stdout",
     "output_type": "stream",
     "text": [
      "Average reward for training episode 100: 18.62 Test Score of 10 episode: 8.80 Loss: 0.024082 \n",
      "Average reward for training episode 200: 18.55 Test Score of 10 episode: 9.20 Loss: 0.032113 \n",
      "Average reward for training episode 300: 19.09 Test Score of 10 episode: 10.80 Loss: 0.024394 \n",
      "Average reward for training episode 400: 19.38 Test Score of 10 episode: 17.80 Loss: 0.009802 \n",
      "Average reward for training episode 500: 19.58 Test Score of 10 episode: 21.50 Loss: 0.006920 \n",
      "Average reward for training episode 600: 20.57 Test Score of 10 episode: 15.20 Loss: 0.006834 \n",
      "Average reward for training episode 700: 21.63 Test Score of 10 episode: 19.80 Loss: 0.002494 \n",
      "Average reward for training episode 800: 24.11 Test Score of 10 episode: 31.20 Loss: -0.000228 \n",
      "Average reward for training episode 900: 22.49 Test Score of 10 episode: 153.40 Loss: -0.005810 \n",
      "Average reward for training episode 1000: 24.11 Test Score of 10 episode: 162.80 Loss: -0.009633 \n",
      "Average reward for training episode 1100: 26.48 Test Score of 10 episode: 153.10 Loss: -0.010960 \n",
      "Average reward for training episode 1200: 31.77 Test Score of 10 episode: 104.70 Loss: -0.011422 \n",
      "Average reward for training episode 1300: 31.17 Test Score of 10 episode: 88.40 Loss: -0.014327 \n",
      "Average reward for training episode 1400: 31.24 Test Score of 10 episode: 129.40 Loss: -0.011161 \n",
      "Average reward for training episode 1500: 31.55 Test Score of 10 episode: 124.40 Loss: -0.014393 \n",
      "Average reward for training episode 1600: 38.50 Test Score of 10 episode: 147.30 Loss: -0.009503 \n",
      "Average reward for training episode 1700: 41.16 Test Score of 10 episode: 143.50 Loss: -0.009177 \n",
      "Average reward for training episode 1800: 40.26 Test Score of 10 episode: 163.60 Loss: -0.013350 \n",
      "Average reward for training episode 1900: 39.14 Test Score of 10 episode: 183.70 Loss: -0.027542 \n",
      "Average reward for training episode 2000: 42.42 Test Score of 10 episode: 140.10 Loss: -0.008503 \n",
      "Average reward for training episode 2100: 43.83 Test Score of 10 episode: 144.80 Loss: -0.019496 \n",
      "Average reward for training episode 2200: 42.45 Test Score of 10 episode: 140.00 Loss: -0.007975 \n",
      "Average reward for training episode 2300: 51.68 Test Score of 10 episode: 171.20 Loss: -0.010247 \n",
      "Average reward for training episode 2400: 48.54 Test Score of 10 episode: 103.30 Loss: -0.009410 \n",
      "Average reward for training episode 2500: 52.62 Test Score of 10 episode: 141.40 Loss: -0.000528 \n",
      "Average reward for training episode 2600: 55.62 Test Score of 10 episode: 160.20 Loss: -0.002730 \n",
      "Average reward for training episode 2700: 47.61 Test Score of 10 episode: 155.20 Loss: -0.012978 \n",
      "Average reward for training episode 2800: 56.49 Test Score of 10 episode: 153.10 Loss: -0.011285 \n",
      "Average reward for training episode 2900: 56.11 Test Score of 10 episode: 175.60 Loss: -0.008641 \n",
      "Average reward for training episode 3000: 61.90 Test Score of 10 episode: 155.70 Loss: -0.008209 \n",
      "Average reward for training episode 3100: 65.89 Test Score of 10 episode: 161.40 Loss: 0.004597 \n",
      "Average reward for training episode 3200: 69.37 Test Score of 10 episode: 159.00 Loss: -0.011634 \n",
      "Average reward for training episode 3300: 61.88 Test Score of 10 episode: 186.60 Loss: -0.007647 \n",
      "Average reward for training episode 3400: 64.47 Test Score of 10 episode: 178.30 Loss: -0.002260 \n",
      "Average reward for training episode 3500: 81.68 Test Score of 10 episode: 188.80 Loss: -0.004071 \n",
      "Average reward for training episode 3600: 83.37 Test Score of 10 episode: 161.80 Loss: -0.005486 \n",
      "Average reward for training episode 3700: 88.96 Test Score of 10 episode: 184.60 Loss: -0.005647 \n",
      "Average reward for training episode 3800: 104.24 Test Score of 10 episode: 200.00 Loss: -0.001955 \n",
      "Solved in 3799 episodes!\n"
     ]
    }
   ],
   "source": [
    "pg = PG()\n",
    "pg.train()"
   ]
  },
  {
   "cell_type": "markdown",
   "metadata": {},
   "source": [
    "**Exercise** \n",
    "\n",
    "* Use the model to play 100 games and check how it performs compare to previous policy tested\n",
    "* Register a video of a game and display it"
   ]
  },
  {
   "cell_type": "code",
   "execution_count": 53,
   "metadata": {},
   "outputs": [
    {
     "name": "stdout",
     "output_type": "stream",
     "text": [
      "Game played : 0. Reward for the last 10 episode: []\n",
      "Game played : 10. Reward for the last 10 episode: [200.0, 200.0, 200.0, 200.0, 200.0, 80.0, 200.0, 200.0, 200.0, 200.0]\n",
      "Game played : 20. Reward for the last 10 episode: [200.0, 200.0, 107.0, 200.0, 81.0, 200.0, 200.0, 120.0, 200.0, 200.0]\n",
      "Game played : 30. Reward for the last 10 episode: [200.0, 200.0, 200.0, 74.0, 110.0, 200.0, 200.0, 200.0, 200.0, 102.0]\n",
      "Game played : 40. Reward for the last 10 episode: [101.0, 200.0, 200.0, 200.0, 200.0, 92.0, 200.0, 200.0, 200.0, 200.0]\n",
      "Game played : 50. Reward for the last 10 episode: [200.0, 200.0, 71.0, 90.0, 82.0, 200.0, 200.0, 200.0, 200.0, 88.0]\n",
      "Game played : 60. Reward for the last 10 episode: [200.0, 200.0, 200.0, 200.0, 200.0, 200.0, 200.0, 200.0, 200.0, 200.0]\n",
      "Game played : 70. Reward for the last 10 episode: [200.0, 200.0, 200.0, 200.0, 200.0, 200.0, 200.0, 200.0, 200.0, 200.0]\n",
      "Game played : 80. Reward for the last 10 episode: [200.0, 80.0, 76.0, 200.0, 200.0, 200.0, 200.0, 200.0, 200.0, 200.0]\n",
      "Game played : 90. Reward for the last 10 episode: [200.0, 200.0, 200.0, 200.0, 65.0, 200.0, 100.0, 200.0, 87.0, 200.0]\n",
      "Over 100 episodes, mean reward: 180, std : 42\n"
     ]
    }
   ],
   "source": [
    "# %load solutions/exercise_1_6.py"
   ]
  },
  {
   "cell_type": "code",
   "execution_count": 54,
   "metadata": {},
   "outputs": [
    {
     "data": {
      "text/html": [
       "<video width=\"432\" height=\"288\" controls autoplay>\n",
       "  <source type=\"video/mp4\" src=\"data:video/mp4;base64,AAAAHGZ0eXBNNFYgAAACAGlzb21pc28yYXZjMQAAAAhmcmVlAAArNG1kYXQAAAKgBgX//5zcRem9\n",
       "5tlIt5Ys2CDZI+7veDI2NCAtIGNvcmUgMTUyIC0gSC4yNjQvTVBFRy00IEFWQyBjb2RlYyAtIENv\n",
       "cHlsZWZ0IDIwMDMtMjAxNyAtIGh0dHA6Ly93d3cudmlkZW9sYW4ub3JnL3gyNjQuaHRtbCAtIG9w\n",
       "dGlvbnM6IGNhYmFjPTEgcmVmPTMgZGVibG9jaz0xOjA6MCBhbmFseXNlPTB4MzoweDExMyBtZT1o\n",
       "ZXggc3VibWU9NyBwc3k9MSBwc3lfcmQ9MS4wMDowLjAwIG1peGVkX3JlZj0xIG1lX3JhbmdlPTE2\n",
       "IGNocm9tYV9tZT0xIHRyZWxsaXM9MSA4eDhkY3Q9MSBjcW09MCBkZWFkem9uZT0yMSwxMSBmYXN0\n",
       "X3Bza2lwPTEgY2hyb21hX3FwX29mZnNldD0tMiB0aHJlYWRzPTkgbG9va2FoZWFkX3RocmVhZHM9\n",
       "MSBzbGljZWRfdGhyZWFkcz0wIG5yPTAgZGVjaW1hdGU9MSBpbnRlcmxhY2VkPTAgYmx1cmF5X2Nv\n",
       "bXBhdD0wIGNvbnN0cmFpbmVkX2ludHJhPTAgYmZyYW1lcz0zIGJfcHlyYW1pZD0yIGJfYWRhcHQ9\n",
       "MSBiX2JpYXM9MCBkaXJlY3Q9MSB3ZWlnaHRiPTEgb3Blbl9nb3A9MCB3ZWlnaHRwPTIga2V5aW50\n",
       "PTI1MCBrZXlpbnRfbWluPTI1IHNjZW5lY3V0PTQwIGludHJhX3JlZnJlc2g9MCByY19sb29rYWhl\n",
       "YWQ9NDAgcmM9Y3JmIG1idHJlZT0xIGNyZj0yMy4wIHFjb21wPTAuNjAgcXBtaW49MCBxcG1heD02\n",
       "OSBxcHN0ZXA9NCBpcF9yYXRpbz0xLjQwIGFxPTE6MS4wMACAAAABEWWIhAA7//73Tr8Cm0WXagOS\n",
       "Vwr2yqQmWblSawHypgAAAwAAEbBufJcNeavSJAAArYACODOPhbLXnI4aUhlcvAAVjhjXpwJxoD3Z\n",
       "JPjxnGdkphnvJzpWGB/22Zc4a2Q8y2O85rJmr4msU5LvvtafMqFu0bRqk0CYm68yXQ1Kvpv5wc2W\n",
       "pO1X84QDhmE7wQsJxfjN8+LbmrXYGbKAuNe0W9oYpGLXSwaPhWFJCODuvB9KCatltDhg/XpurbEy\n",
       "ClOkouRYM3k3ohQJNBAJkW8Bhq9crbIUBaXmmDiOvnIFmLf5tJmdnmPVu3jZ3eiOwnLG3i0zVaVm\n",
       "A9VMYIDBg5zylXva0xvztDKQmCZMXRPgAAAsYQAAAFdBmiRsQ7/+qZYAArotbCQu+8GjoASeAWu6\n",
       "AX3OxVM0HWsYiWxyvmksubqploUH7WRi33MPAtf7XaRfcIitk3CpmkVqRLTKThyG9WBqV0XVvrf9\n",
       "eD/aMCAAAAAxQZ5CeIX/AAM49IKAEkNIsjwLTXjLLbSmFPjHi+ZZ59grVcKZSkr00SOxf3TJBHCe\n",
       "bwAAABYBnmF0Qr8ABFXQoJBIV6tVQDuvyl0BAAAAHgGeY2pCvwAEVkdswUOTSFYb6AB2bZSfIxx+\n",
       "rgettQAAAEBBmmhJqEFomUwIb//+p4QABWkPKI/EFfOYnKEv/o8HLh8oAiEFXTUYHARue3ro+ebE\n",
       "DSAdGMSpao0wJCn/BuBBAAAAK0GehkURLC//AAM44vVxbtNjz1QpiFmI+BAAQ2mcq4/4LbMnZT+e\n",
       "Ee4+xsMAAAAYAZ6ldEK/AARXxFtn45d9moyRO2+JOzxhAAAAFgGep2pCvwAEV1++k4TizTmnXrGx\n",
       "15gAAAA/QZqsSahBbJlMCG///qeEAAViFrLAXmSAGsWNEt1VxJ2536v8BLK3mV+aHTZbe5qizLDc\n",
       "Y5u2j5CCTYl6FWzAAAAAJUGeykUVLC//AAM4YlkWaQ4jK5T+J2zoAQp40hszJQ+pHw+1plMAAAAY\n",
       "AZ7pdEK/AARXxIAkv1dlRPTNRqoYN+FwAAAAFAGe62pCvwAEV1+92y6vh8rfZAsIAAAAR0Ga7Umo\n",
       "QWyZTAhv//6nhAAFY4nJADjGUVhArvMku5RoJ4DmllsS3llulsPStpLmJMF1llaneNnh2xCBhi4j\n",
       "LY+L8fKfcrXVAAAAP0GbD0nhClJlMFFSw7/+qZYAArdFv5QaAC2EGocG7Pr9Kj7RCPKqHOfUUvqV\n",
       "3nb4Gop7VSfq7kgfKVlaY/l/gQAAACMBny5qQr8ABFLmk2TQrrp+xSlW9+vrRjipQAXgz5xSBUVq\n",
       "AQAAAEpBmzNJ4Q6JlMCHf/6plgACuaiv6IdE8AJatbJ4XejxfIYGUDDZikiiubZoHU4Tqh3u920j\n",
       "QSgJSEmYccIwm1OMaScRGCQ5Mw/o4AAAABtBn1FFFTwv/wADNuwdZJkSovQ//Jn9rGtqr6sAAAAb\n",
       "AZ9wdEK/AARWJENCO2PcXd9s47jOeFiMpjTBAAAAIAGfcmpCvwAEVH50OVaiVb8hej2SADmhqiG+\n",
       "WA8J5k0zAAAAU0Gbd0moQWiZTAhv//6nhAAFYyWutXtnNcVSABqosXeVMIKy8Nnvbt/sGdctQh7y\n",
       "oFefaZqNP65hI2N2yY4UH88ENHnI5Cw2rLe9lQmZXC44ly6OAAAAI0GflUURLC//AAM4Y3aRbdi6\n",
       "2kSh3H8+gAQ3Z4Cg15bLNz1ZAAAAFAGftHRCvwAEViHwEig0O/ZEqflAAAAAFQGftmpCvwAEVtOL\n",
       "+fHUjhzCFCA7gQAAAC1Bm7hJqEFsmUwId//+qZYAArmUs8iXtSd/AJWj49u6cTMe7pquSANZS2RE\n",
       "HUsAAABNQZvcSeEKUmUwId/+qZYAAriqTuX8nAAcDRBzJs0SMb3ExK2F/mAIsm9JIctY7mVKUAt2\n",
       "I5Yj4kXppmHtkxJlep2/m8fnwUtqzMt0PsAAAAAhQZ/6RTRML/8AAzjd/pzL6YsqrW3FugTMwJDT\n",
       "/dpvoXARAAAAFwGeGXRCvwAEViKgBIiSOrHV7HFveq6YAAAAIQGeG2pCvwAEVtGv+ikltR9ai4ot\n",
       "AA5yK8XwPhGrnPjLEwAAAF5Bmh9JqEFomUwId//+qZYAArmUtkgmgCHVTwhtifmNHt8ewKkc4Teg\n",
       "nwdtIb0xDD9kXcTBmR5wBP9K2CN9qwrrVFv8E2M/iiCu1v2KXS/XRPAzgflD7XIODnP/ERbNAAAA\n",
       "MUGePUURLCv/AARTWfm7VUAJR4q4uQLHgQzR4niwNu4WjGHnseN/vQ/CSHmiAORS+AgAAAAeAZ5e\n",
       "akK/AARW1bj4a1kcESS/lQY/4AAj9u0O0Y3AAAAAakGaQ0moQWyZTAh3//6plgACuyMba5i0JiBJ\n",
       "sR6gK8ADQR7bbfcJlInGZy5ML6xeU9rkUBVpKQrFgrBawHj9+7wcBd3PzwVwI6zHVShP7/+RJ4D9\n",
       "w4R/AiBBjrNDNpPTfzZ/MCN5vNQ7IZEAAAA3QZ5hRRUsL/8ABl9zr5N3IDSypV1h4AQp6b0YyZuM\n",
       "Ay2vv34gsnzPJif9sFI9u+gELG8cn8bvNAAAACcBnoB0Qr8ABFOeszrBHeTq+jNaDGjNpQAcKKIl\n",
       "Ki/xyl/JWpn10TcAAAAoAZ6CakK/AARTcSkmp1ZR9AFRMRTN87vxpwa+UQAbePEZ/ftQHwoToAAA\n",
       "AElBmodJqEFsmUwId//+qZYAArgJOzyAKizS8XyDgIcCnMKjVK9o/ECNcdr6iyj/fRsiULZ0nvyx\n",
       "LDNHnY8xpMXbBf1jpyu2T87FAAAAPkGepUUVLC//AAZyIu8QWucfUa6AFuGhg3bR7uXoCck+McFe\n",
       "RRl2bwkoMHfMVTHkH2r6bLlpXbRxGoP+y1epAAAALgGexHRCvwAEWBeaAAmd5ShAWv7imBQ227Oz\n",
       "m5dzcEFbWMYvzo+F1ikqz/kX0uEAAAAuAZ7GakK/AARXj7dABOORI6N2C+qC7jloP917O2/mnU03\n",
       "GKZRBdn0vM0QDnxmDQAAAERBmstJqEFsmUwId//+qZYAAsmryhNDLn3KtWYWzN3oyUwR+9TgBfjI\n",
       "xLOHFwlUt6mcOtCR1nDgNP5g0/BeYv8v9d05QAAAACxBnulFFSwv/wAGciMRmbB7cYDM8oQAButc\n",
       "Qkr51P/tVlY3gQaLg/Hkwa59UgAAADEBnwh0Qr8ABHLYg8AEe86OtvDaMIuHYM5C4ZvL+e+8XoLZ\n",
       "oTl/j2hU34yd+/7S3Or1AAAAIwGfCmpCvwAEUtfvAAFxe6EBGRYiysytf3U6hnAIiPYPuDWAAAAA\n",
       "NUGbD0moQWyZTAh3//6plgACyaamu5BXWC2ADnLWwUjekH3j0hzC7pazF22B6JqPElGTCbjQAAAA\n",
       "MUGfLUUVLC//AAZyIxGUxXAA0jmlj6vXN6J7/qPOEccudc9hHY11a4VyWToZqcc00FsAAAAeAZ9M\n",
       "dEK/AAR1ztXU+HPQBMMYFUoALwZvIrpjUy8zAAAAHgGfTmpCvwAEd1/ENYsMAxIe1QAOyGs+A55v\n",
       "MG0UIQAAAC1Bm1JJqEFsmUwId//+qZYAAssBQg9yES8yNsHiwqGW1GTPi/beHiulFLUIxcAAAAAl\n",
       "QZ9wRRUsK/8ACLBmmNAj/QAFz5Mft3tfZW63rZAPony9sdRxoAAAAB8Bn5FqQr8ABHddKjLaqYti\n",
       "voALQW5yjnqOSJUWOun3AAAARUGblkmoQWyZTAh3//6plgACyiqFH+onMFENrexu/XAgBbpoWwuk\n",
       "qUj+LEnJEcU+1aEoE2yHRd5cB64THkdSAI4nNeBKgAAAAC1Bn7RFFSwv/wAGciMRrmaFL+XgA2+0\n",
       "wyhVYIKQzoEdgmKFlHStVwflSH/HB0wAAAAdAZ/TdEK/AARS1gkW14Ft26aUUADtDRsWN307ms0A\n",
       "AAAhAZ/VakK/AAR2Q6pYa5FYOJvjr73I5fuwAFDl9VC2ZphMAAAARkGb2kmoQWyZTAhv//6nhAAF\n",
       "jkpPd5akANsxEmPSHT9C/MB/etMhXy0Qkb8Zx75Ub/n7raZkjZMW3yUs2pO5PFRrY1NGsDEAAAAs\n",
       "QZ/4RRUsL/8ABnIjEbYFpevIEAH87jU4Lhvy16GO4jqcwx1gJg6eVU3jPuEAAAAhAZ4XdEK/AAR1\n",
       "4QIATSpi58T71hhZ4UPwvAPGIqe8VHuAAAAAKQGeGWpCvwAEaG7Un6YoEq2L2dsH93MAEPzWVqoN\n",
       "c7o3ND76eegSlOSBAAAARkGaHEmoQWyZTBRMO//+qZYAAsoqhShOZY1dqCOJ2edadoAcZCJXIiy6\n",
       "IXaCBz57tDACp45v6A/7sMtr47I+vfV9cZ1quugAAAAbAZ47akK/AAiwZpj0EjGuPBsXjJde6vZD\n",
       "Yn3BAAAAR0GaP0nhClJlMCHf/qmWAALM5kPrFTw3DenQAX16cLTzpHZjzzmn3y24qY2+bPcpV7wo\n",
       "eK8OHBeg1m2pR38Wn4J8WgpLngCBAAAAKEGeXUU0TCv/AAivrJH4G9+kACdZzrTrrLLw+qOsjXO8\n",
       "+J9ZGcDPssAAAAAuAZ5+akK/AAiuwGc1i24U9IOkAJehVM2KYqEdlmrwo1t8xSekmJ4fXb34oVnO\n",
       "gAAAAGJBmmNJqEFomUwId//+qZYAAslg30+ukCMf3QASTQti1le1AP2Cp9ovG/qMYTIrzK2LkY9g\n",
       "hTRLe4tM5yNbUET+ZU2noYyFLIZXOVVcJwIPOlsdF18IZgnbXasrutnmzepBoQAAACJBnoFFESwv\n",
       "/wAGciMRtgWlwMgFoO2qkEptwdFbNMUUrt5nAAAAHQGeoHRCvwAIq6JB3WiipZxkEklLNUG60Clr\n",
       "ig0dAAAAIAGeompCvwAIrsBhy+bXk+PjMEuWomQAbFk2UTeNNpyQAAAANkGap0moQWyZTAh3//6p\n",
       "lgACyacJj6AimCsCoiRAI6ssIVAg5EFo0ToD1ePIAqHxzSNnxgr5gQAAACRBnsVFFSwv/wAGciMR\n",
       "q/RHCDYqSKJAbBY1OKZjPokX26pZIuEAAAAxAZ7kdEK/AAirokdCEwiAQAH3syOIdoJBmWYD2hBK\n",
       "7FMorp2NL5zu8ukFS7UePA5vcQAAACsBnuZqQr8ACK7AZzgIKBAAfgWLXY35JnPXMO+c0dpwsF+i\n",
       "9aDuGwRLSPOTAAAAVEGa60moQWyZTAh3//6plgACzYEtszHACTjAACLQvVKcppMG77UfG3j4Riej\n",
       "2tXaBWoE/Keq/Dn4zxx+rdumGL2YaZXt6RudNgRf8W9XThwA5Ri9igAAADZBnwlFFSwv/wAGciMR\n",
       "grGH51yv3nw3CgHlqJ7O6pu7GnENpOI7UxacAzxBBI1cndF7lZmVDcAAAAAtAZ8odEK/AAirokc/\n",
       "bcYoQdHaMjOV7SW6EBdkwAF8yKW/63La/aVFG9GV0du5AAAAHQGfKmpCvwAIrsBnSg+wKrkPMv2H\n",
       "KtiJxjXZben7AAAAUEGbLUmoQWyZTBRMO//+qZYAAsxkglTImKPPgVwLMqiEhtXxmVgoDw5tAEN3\n",
       "H8NsIoB6omAYWj62TnlCYey/SPkYPmUyvJ5J3UXk4fHUR6vJAAAAOAGfTGpCvwAIsGaddq7FbhdG\n",
       "bbFAKAkYYAJ1kUwoLfg5PV4fROr8FKz8p6oqi2Knrs8k5VbVV0PRAAAAU0GbUUnhClJlMCHf/qmW\n",
       "AALKKfcYf3D74FndggVQ4NAWf5v4VfrXPC78rS9QueT75bYsVYfZliUZ3y6dYJa4IhQ/ALobD1so\n",
       "x+PHQSJIVJrnwRXBAAAAK0Gfb0U0TC//AAZxxgV3Od/EACsPmm1Lc0z9b4Hj1rJyV7rEffHJZ7fT\n",
       "bucAAABKAZ+OdEK/AAirokEo4RrTqgAfzLJHdzozXehLPkwB8Iz9M9k/AiM8fw09a1OvruD0SCyG\n",
       "yYREegerLH7MiSN8TUKol9gpv0Z90IAAAABAAZ+QakK/AAiuwGgUY/iK4WAE0qYtdjbmX4GX+MjD\n",
       "UfGXhRJCYu3gFNo90SyaPdA9JFs1kWkZ9nhzdp6HgpV9cAAAADNBm5VJqEFomUwId//+qZYAAtum\n",
       "prWILHMm7JrAoEQZRTz0Waca9y/0YkU/qa2ONEpLtD0AAAA0QZ+zRREsL/8ABnIjE5S9QV8NAVAA\n",
       "j2kVJEvK5jxDUFD22/vsYA1E+1d9lRSuvyv2y8H2cAAAADcBn9J0Qr8ACKuiWJNLmoAE46hIhK5d\n",
       "Ovmj0OXY0bE9DeqBe2pEF1Yvgm5p3DklaR8n8ZHBeDa2AAAAGgGf1GpCvwAIrsB4ze+bxBrus9wb\n",
       "7ojzWtcxAAAALEGb2UmoQWyZTAh3//6plgAC26afQAGircH7ERCEAx+N4Zabw1p1tzjpxah4AAAA\n",
       "MkGf90UVLC//AAZyIxOUvUGoAArD7phCiC/zLMKSLzXWALehXp3nw5TRt4l3QAakqLaBAAAAJAGe\n",
       "FnRCvwAIq6JYkx2cEpAC3jlXWmPZAw28LfcQ/7P9FIUgpQAAACQBnhhqQr8ACK7AeM3vkZcHQAlq\n",
       "0EQS4eYcPO4ToGtpwtIGQEAAAABOQZodSahBbJlMCHf//qmWAALbpsOVACrSt/DusrSDrthFUiYN\n",
       "aN/e4N2zuNX4Uk9Emohm2pL0yk1R4w8Mz0Q2PxRWowS41vd2HQh/8oCjAAAAJUGeO0UVLC//AAZy\n",
       "IxOUx2AARknv1uRysuzhNzzlycDkCSQRdagAAAAaAZ5adEK/AAiroliTHZs/p1rTT4vZPueBxakA\n",
       "AABDAZ5cakK/AAiuwHj5KAAP5tMZGG78WNZVAqx77ONWKTSLG7Zt1a1t+nA0oawZfI+DxTTN3pha\n",
       "jRCwzbyd51p2ZkZ5FwAAAEpBmkFJqEFsmUwId//+qZYAAtzFCw51AjsYyaksc0gAX1w26C//BUc0\n",
       "3ong9zpo5OCIU+FkEDkp6hoJBxZulnxXMKfDtmyl0yULgAAAACpBnn9FFSwv/wAGciMTtdmTgAVY\n",
       "R5BqXvWojSlJwN42S2PeRyR/zB9UDMIAAAA8AZ6edEK/AAirolfx+VzYATTIphoKqx2tTM70lFve\n",
       "Uuz8QhlgvN4X7VAuXuGglLfNo2s3DKmxA10zbFeBAAAAMwGegGpCvwAIrsB4+SgAD+bTHhvsfjSi\n",
       "2Z0I+Cs41YpMzNT3TGEyS+zyMacruQxJFZIV4AAAAExBmoVJqEFsmUwId//+qZYAAtumw/9ABxa7\n",
       "1S9z/sc9cdg8FUb8DLZK5Gvir1zFsBM74tZ6ISCk13CoCUkqsMAA0pI3SrloiuqPz/SBAAAAOUGe\n",
       "o0UVLC//AAZyIxOr+8KAFvC3muWSrtbzAcIq96LoiTow8bLY5OWx1FIKruz9SgSHpMLsCl3bQAAA\n",
       "ACwBnsJ0Qr8ACKuiUWPH4ZMFoAE4hXZpIk4fy0dBsJxLzEBoCkx9TVHY7IpiYQAAADYBnsRqQr8A\n",
       "CK7AeiEM/5nACavISOXpJBMlVHK3hYDds5LYlEYJjhiYUfC2K48CNJ1xWU40xMEAAABBQZrJSahB\n",
       "bJlMCHf//qmWAALdrn3FM0ZgAf6MYxg2ocektLvfK/pMk8npG3ycreizK97tS8vEmRxpROdeAybz\n",
       "XLkAAAAjQZ7nRRUsL/8ABnIjE2kG7Pimov0jpl+t70SlwV6W17Z90WEAAAAzAZ8GdEK/AAirolEQ\n",
       "BMbu8AJkkSPZQwE4ABdRWq95NJCv+lcTARNHMla8/nEkshyirCvAAAAAKwGfCGpCvwAIrsB3NmWc\n",
       "AJq8u3cePFKOBbFlUt17log9aEmrgePoUCfVBwgAAABrQZsNSahBbJlMCHf//qmWAALbpqF6AHI0\n",
       "D9Fcyfd//7D6yN5cJhQlyDAQaVx+05pcp57XXWn/x/JhWyRKPkbFr3ywNdmlekexdcjvJCGWUENg\n",
       "l/Z+tZ1zi2dft2/8OWZjHRoHsWnnq/cKzOMAAAA8QZ8rRRUsL/8ABnIjE7z9ubYAWTwdrIHOtf2Q\n",
       "CXF46J2Ugc/K7FQ13erj4wR5TrLv90na7UQSyqO+mx0WAAAANwGfSnRCvwAIq6JtKBjOuSAD2V3W\n",
       "ijR0YvYan7j1jfu6iWTKUjVPqPh9TVhBbz1Kl2vXC0vzbEwAAAA0AZ9MakK/AAiuwIv3ovOnT+Mf\n",
       "YYAJnCmCucvOJ/AYhUV5J3t/2Rbt8wwAfX7XZptmutzflQAAAFVBm1FJqEFsmUwId//+qZYAAt2T\n",
       "UmRWdOIArkrf/n7SyG2LAIDRF1qrFvyhSaDl5UF8bjxbs+QFn1QZhH9o81IcOdsYmO098XoEdEfl\n",
       "W8iTdeFV+ZPBAAAANkGfb0UVLC//AAZyIxOsAPHQAWryR2CYnkB/pHxam0saI8zTM6+PAGaWqqi9\n",
       "bnyWcQCLMPNFgQAAACEBn450Qr8ACKuiWTktERSK/f8fo01AAdXoLxUYrcEm07QAAAA/AZ+QakK/\n",
       "AAiuwHm7o6aABO3kJHm9BDTss71MpdLHlfwuKAWRXJlgJVX8GsoRGE+ImCR7ZSjEOVYkbVICdau0\n",
       "AAAAKUGbk0moQWyZTBRMO//+qZYAAtwpvl3nfZHIUybnAIgCP/hc/NX/TVE5AAAAMQGfsmpCvwAI\n",
       "sGacyusKSzOAEy5Ejwhan+d9g8Wp5tCeY/MlqKMWJP9uDYFHWoihfcAAAAAzQZu3SeEKUmUwId/+\n",
       "qZYAAu2mprtoQAQkTRawtRpvTPuUanJUZsPYyKaksf3Mr/hjQxEIAAAAHUGf1UU0TC//AAZxxgdU\n",
       "vWIdpSyskGJz3xfEGSZhAAAAGQGf9HRCvwAIq6JrnlA1Iw2ys0uuqBeM8YAAAAAXAZ/2akK/AAiu\n",
       "wIoeE1iln6KPH10AzMEAAAA1QZv7SahBaJlMCHf//qmWAALuKfbvpRUrXHYozQ+zmACs3CGl28L0\n",
       "LO5Jztw6UIjbpv1z8vMAAAAdQZ4ZRREsL/8ABnIjFZS9QVvtEQWcth9vFv48KVYAAAAgAZ44dEK/\n",
       "AAirom0pAkZmPSDtJWADnDSl3wfKS5BF2QkAAAAXAZ46akK/AAiuwIzbR8Vl37Cc8ize5BIAAABD\n",
       "QZo/SahBbJlMCHf//qmWAALtq8lexaRcoznR7zNATNzZo8c0uUbSV4Fbtdi1AJt19bS8MUSqC2J1\n",
       "Cl4/vO1zMiW+8QAAAB9Bnl1FFSwv/wAGciMVri7acdICEQVdErrLRUMU6/VxAAAAIQGefHRCvwAI\n",
       "q6JZ37vp/BADcz0RReWIZ1l0ogjXDSBzWAAAABcBnn5qQr8ACK7Ai/urNlJ3ZNDlQ7+FkgAAAEBB\n",
       "mmNJqEFsmUwId//+qZYAAu8V3hWmKa6BSQMc4cu9uWiHhDECcRrnzb/9/Z/aVBdXFboX1LLntCeR\n",
       "q1mpz1F/AAAAM0GegUUVLC//AAZyIxWr9Ai2z7umNAA/ALpRyJg1V+AySnvJDQA98m/NJA63MjrT\n",
       "yZg4/gAAABoBnqB0Qr8ACKuibS+kXmlX7YLEs7/H8+0fwQAAACQBnqJqQr8ACK7AjPI5AA9/kwE1\n",
       "lnL36t7h4LidPvf9ONjGfmYAAABcQZqlSahBbJlMFEw7//6plgAC7sZOZACU0wvpN2h2qqythd/P\n",
       "ve5T3V7BmH+PcF7JugePj++zAfc82oKvCRxzXSnWBbiT/IEbeMAmcjnoesTfVKhbjHh5Edp15VkA\n",
       "AAArAZ7EakK/AAiwZqLaEfe9LG7nIAPvQc5RzkHILiKQwuyctTyWT0af782uUQAAAE5BmslJ4QpS\n",
       "ZTAh3/6plgAC7Uuwv2TR/VU/OIAN/SMfbDI9v1ioNe4CnKTemvSLNQ8tgFYRSyO0CZH3boCVWAFI\n",
       "zJCeJKoF+eyGvufd4o0AAAAyQZ7nRTRML/8ABnHGBmvXIC2NNryAMBuoViN0GpNgKKQ4s5vsR/9H\n",
       "A2MbDdh/XcgbyuEAAAApAZ8GdEK/AAirommr6bBAA/mWSOgeVy2Sbqq2zkrrmUFAzr88vmNNc24A\n",
       "AAAqAZ8IakK/AAiuwIFucZKOoKQAJxrYhG+JymqN9lbNBrfJwO7wAPzBWnMwAAAASEGbDUmoQWiZ\n",
       "TAh3//6plgAC75GsQulrOE/QAbZPv+YtL0mU4j1m7ZL1nd4gUzS9rwnmLrQRXodB0VLzE5KFPS2o\n",
       "K6fGLNahMQAAAC1BnytFESwv/wAGciMVdpGWeQb/2emkALHIAxYukg82DZGlbJ9BXY0tI3wuuCsA\n",
       "AAAjAZ9KdEK/AAiromx/vhqGm7oACdu6m/QpjdYpFxP6yC+U2P4AAAAtAZ9MakK/AAiuwIJjLOAE\n",
       "1ZZI8E9ujmIZ0YMDAGHbNt/COsXoSxtotYNfo4pxAAAANUGbUUmoQWyZTAh3//6plgAC7acJ0Qbc\n",
       "88bXA3sUMt6nB625XwaAHBMicu83w0oblS5z1rulAAAAHkGfb0UVLC//AAZyIxWUwCb3fJdz9RYM\n",
       "PFeol+2CsQAAAB0Bn450Qr8ACKuiafnS+mbgu/kF08G2uoUAa2FygAAAABsBn5BqQr8ACK7AieLy\n",
       "9CyTxoUjkO9nbylyx/AAAABuQZuVSahBbJlMCHf//qmWAALtrDrmAAUd8gI59wosgxoFC7oF2TqY\n",
       "7+xOYc92SYrAGzSgp2U/xDxCzcyuVs6DZe5FSyeNC2l4ZTLtNr05UGz724Q2rqYBqrDfza4oSV73\n",
       "/MK+UcxGfey1WfkhoeEAAAAwQZ+zRRUsL/8ABnIjFWwr1pZJgWGXAA2gwI7XWT/I3csWPwMY5/i3\n",
       "o8B+kU0YSoZXAAAAGwGf0nRCvwAIq6JrotHwiQb9MGkiXYG6wZ6yuAAAACwBn9RqQr8ACK7Aif/i\n",
       "4ld/QAE7ecKc5yIFRxYLix3l5ijwOgoWKP2Oo7nMvwAAADpBm9lJqEFsmUwId//+qZYAAu4p9xbu\n",
       "Alb3M49SB+47GDurjgemX09HD6th4jncbWGy/YlbWWWRPYPgAAAAHEGf90UVLC//AAZyIxWUwCb3\n",
       "dZJVJMa2Wmt0S5UAAAAyAZ4WdEK/AAirom/5zqAD2+itI8ajZ5ZPzeCGXEULYuInZRY22OD6V4va\n",
       "sCGz4fLsTM0AAABNAZ4YakK/AAiuwIxO8cQAknPE5l9ICanlUAj1n1zEA9oVLnPaLLi6WY8TdHq3\n",
       "XJ7gQLgtdja8EwAM/XLZ90tI5C50mSmdKoWW2faGMKcAAAA0QZodSahBbJlMCHf//qmWAAMBBqa7\n",
       "aEAEJE0VX0lElXVYsPc/2455iE+rCHJE3dtAibIKyQAAABxBnjtFFSwv/wAGciMX9m00IZl8jftk\n",
       "iNS5AJSAAAAAHQGeWnRCvwAIq6J/oormyaQAtnm+oX8+8/TZHqdtAAAAFwGeXGpCvwAIrsCg20dN\n",
       "eLPZjgBvPsZfAAAAQkGaQUmoQWyZTAh3//6plgADAYn276UVK1ndggM35miCeVXSgqxdBhL55ZYY\n",
       "eFdz9X5e3SbavY162gdovTlBikjXwAAAAB1Bnn9FFSwv/wAGciMX9my12S8RH7xCdW4dgrqJSAAA\n",
       "ABUBnp50Qr8ACKuigSkBzuY/cx8fioEAAAAWAZ6AakK/AAiuwKDbR03l37AL8sm7YAAAAFtBmoVJ\n",
       "qEFsmUwId//+qZYAAwELzlDwS9PKL5vdjGl+jiop3E0+8DcR4dUDIUmHb3RQAUA9fe3fBjCD3qav\n",
       "SUURprTXSug/J3L/iyvHMo8yUR+cq3wkpY/6Zd51AAAAIEGeo0UVLC//AAZyIxgSp3pNogGIzwio\n",
       "7auD38aio8LbAAAAIAGewnRCvwAIq6Jrouac1AAtUU29VDPPHfHzNK+pORCBAAAAGwGexGpCvwAI\n",
       "rsCf+iMVCi5PEuuGb7mO8wNMnwAAACpBmslJqEFsmUwIb//+p4QABfXYCzSoy1yWnhgsoVbab/3e\n",
       "D5bpVzURUsEAAAAdQZ7nRRUsL/8ABnIjF/ZwB+4RHVbu8eOiqSpPx1EAAAAwAZ8GdEK/AAirooFS\n",
       "FiAEk54nMv2fuGbOgEeuRX+FxS+56Pui2i2Y3R/sdBoGgPm2AAAALwGfCGpCvwAIrsCg8asQAknP\n",
       "E5lzIPQXS4BnqN2fCqb9wjNr1FblKmzuUY3dGZPAAAAALkGbDEmoQWyZTAhv//6nhAAF9NP5tOcy\n",
       "AIm6dhIkaTKhAHAV3p5lhMrp10w4PLMAAAAZQZ8qRRUsK/8ACLBmqIFkg8mMfEPaPtBrYAAAAD0B\n",
       "n0tqQr8ACK7AneLwZhEntGXepgA/AK6anV7m9XHpIYX4czrdHOhE6i7P7wJ0CbSXzXovCfN+5l+e\n",
       "0sngAAAAQ0GbTUmoQWyZTAhv//6nhAAF9Ncy5D7qkAOEMu6TgPscBgzesl6yDnCXGvW7SF+Z0/N/\n",
       "5GrzPyiM6EyVLy2WmEXUgMcAAAA8QZtvSeEKUmUwUVLDf/6nhAAF/Bk05c7AArETzxpobE38nYtf\n",
       "i/9b2ZyB0EipCt25DDNMlDdNSoC6hgCBAAAAKAGfjmpCvwAJsGe4w4H+/BgLevM0TldAADAAHaGl\n",
       "Q1vdQ6IJ1rao28kAAAAkQZuQSeEOiZTAh3/+qZYAAwI+Arf18/iV7veRJRXUy57uEbW0AAAAR0Gb\n",
       "sknhDyZTBRU8O//+qZYAAwCZyS5TzQAXSaGUX6iiCtjlm5wtqijpaGLRXJB6n1OFx08/l+GZ9Hls\n",
       "o/ta7E5HbTu9uM4mAAAALQGf0WpCvwAIkqkpObh9MzC6kAJr2CZAxG3AGee57beMW/kGtJAq1H7f\n",
       "P7hbYQAAAC5Bm9ZJ4Q8mUwId//6plgADAYm+XeZORqzEINAlwBnZ1/rPAARh8h/pL9+A51WwAAAA\n",
       "OUGf9EURPC//AAZfc7ZmzZyAEuUqtdiVwaetWrKuhvJr/b5a3co069jB0C3YeBgOhXEUjaXmSWC2\n",
       "wAAAACIBnhN0Qr8ACKuiffnQcdagATjWxDFZOsXdMS5i+KQhwVthAAAAGAGeFWpCvwAIrsCd4u/v\n",
       "w83v02abEgVHQAAAADZBmhpJqEFomUwId//+qZYAAwEGoXoAbr8KS2xlqX1bcDdKj9eFNiQtvp5a\n",
       "lL8s+i9slmjt9MEAAAArQZ44RREsL/8ABnIjF/aBJ9ACaVXnx+oDZdL8iZfMdtWiiERFZUxR7rxP\n",
       "gQAAAB4Bnld0Qr8ACKuiffnQZOVepACWwtlYqeII5dv6G2AAAAAzAZ5ZakK/AAiuwJ2Te9jrAgBJ\n",
       "OeJzL2iWc4nO8hDkPvZk4Hx6dJ5sj7H8c5IiSrUjXSCfAAAARkGaXkmoQWyZTAhv//6nhAAF9dhw\n",
       "WwAODGZ/i5CU04GBQ3YgicNsKsnF31JNknS2KWmC4IVKlLUrmr7AkMVv0sQd01Y8IJwAAAAgQZ58\n",
       "RRUsL/8ABnIjF84dhWpyeqRvj7SsBFZPRpzlhCEAAAA5AZ6bdEK/AAirooEvigp8hc7U/u7x7TAB\n",
       "B6BcpDn40OaM0PvXioY1Tx6ghVrIvu2LzOLutvCQ0eE/AAAAMwGenWpCvwAIrsCd/+OVgA86HgZc\n",
       "6bwcRjFkPTrG195dyKRn00jEoKKlM0PJBDsUXn+/gAAAADRBmoJJqEFsmUwIZ//+nhAAF9YBVp8E\n",
       "UAIQUCuZlTkGp8hVIkUSR5CM31J4bJ5k4jm0i1QgAAAAHEGeoEUVLC//AAZyIxqwzhWBxisFHJRm\n",
       "O0dXFHUAAAAfAZ7fdEK/AAiropcb8lNOV0AHB0+pZnZ/VVxf5YJKOgAAABQBnsFqQr8ACK7AtazY\n",
       "VqzIsm4NGQAAAC9BmsZJqEFsmUwIV//+OEAAXOPoe3Ql7MEkAJatN9Ram9Jz7eWTI/TMDtjbj6St\n",
       "dAAAABtBnuRFFSwv/wAGciMasM3l/OxLj+K4bJ0nW8EAAAAWAZ8DdEK/AAiropccLJpmPSPUZYfl\n",
       "cQAAACEBnwVqQr8ACK7AtrwBmWXfZ9yUQAtwoSOX1L+TIHss9b0AAAxibW9vdgAAAGxtdmhkAAAA\n",
       "AAAAAAAAAAAAAAAD6AAAHxgAAQAAAQAAAAAAAAAAAAAAAAEAAAAAAAAAAAAAAAAAAAABAAAAAAAA\n",
       "AAAAAAAAAABAAAAAAAAAAAAAAAAAAAAAAAAAAAAAAAAAAAAAAAAAAgAAC4x0cmFrAAAAXHRraGQA\n",
       "AAADAAAAAAAAAAAAAAABAAAAAAAAHxgAAAAAAAAAAAAAAAAAAAAAAAEAAAAAAAAAAAAAAAAAAAAB\n",
       "AAAAAAAAAAAAAAAAAABAAAAAAbAAAAEgAAAAAAAkZWR0cwAAABxlbHN0AAAAAAAAAAEAAB8YAAAE\n",
       "AAABAAAAAAsEbWRpYQAAACBtZGhkAAAAAAAAAAAAAAAAAAAyAAABjgBVxAAAAAAALWhkbHIAAAAA\n",
       "AAAAAHZpZGUAAAAAAAAAAAAAAABWaWRlb0hhbmRsZXIAAAAKr21pbmYAAAAUdm1oZAAAAAEAAAAA\n",
       "AAAAAAAAACRkaW5mAAAAHGRyZWYAAAAAAAAAAQAAAAx1cmwgAAAAAQAACm9zdGJsAAAAs3N0c2QA\n",
       "AAAAAAAAAQAAAKNhdmMxAAAAAAAAAAEAAAAAAAAAAAAAAAAAAAAAAbABIABIAAAASAAAAAAAAAAB\n",
       "AAAAAAAAAAAAAAAAAAAAAAAAAAAAAAAAAAAAAAAAAAAAGP//AAAAMWF2Y0MBZAAV/+EAGGdkABWs\n",
       "2UGwloQAAAMABAAAAwDIPFi2WAEABmjr48siwAAAABx1dWlka2hA8l8kT8W6OaUbzwMj8wAAAAAA\n",
       "AAAYc3R0cwAAAAAAAAABAAAAxwAAAgAAAAAUc3RzcwAAAAAAAAABAAAAAQAABihjdHRzAAAAAAAA\n",
       "AMMAAAABAAAEAAAAAAEAAAoAAAAAAQAABAAAAAABAAAAAAAAAAEAAAIAAAAAAQAACgAAAAABAAAE\n",
       "AAAAAAEAAAAAAAAAAQAAAgAAAAABAAAKAAAAAAEAAAQAAAAAAQAAAAAAAAABAAACAAAAAAEAAAQA\n",
       "AAAAAQAABgAAAAABAAACAAAAAAEAAAoAAAAAAQAABAAAAAABAAAAAAAAAAEAAAIAAAAAAQAACgAA\n",
       "AAABAAAEAAAAAAEAAAAAAAAAAQAAAgAAAAABAAAEAAAAAAEAAAoAAAAAAQAABAAAAAABAAAAAAAA\n",
       "AAEAAAIAAAAAAQAACAAAAAACAAACAAAAAAEAAAoAAAAAAQAABAAAAAABAAAAAAAAAAEAAAIAAAAA\n",
       "AQAACgAAAAABAAAEAAAAAAEAAAAAAAAAAQAAAgAAAAABAAAKAAAAAAEAAAQAAAAAAQAAAAAAAAAB\n",
       "AAACAAAAAAEAAAoAAAAAAQAABAAAAAABAAAAAAAAAAEAAAIAAAAAAQAACAAAAAACAAACAAAAAAEA\n",
       "AAoAAAAAAQAABAAAAAABAAAAAAAAAAEAAAIAAAAAAQAACgAAAAABAAAEAAAAAAEAAAAAAAAAAQAA\n",
       "AgAAAAABAAAGAAAAAAEAAAIAAAAAAQAACAAAAAACAAACAAAAAAEAAAoAAAAAAQAABAAAAAABAAAA\n",
       "AAAAAAEAAAIAAAAAAQAACgAAAAABAAAEAAAAAAEAAAAAAAAAAQAAAgAAAAABAAAKAAAAAAEAAAQA\n",
       "AAAAAQAAAAAAAAABAAACAAAAAAEAAAYAAAAAAQAAAgAAAAABAAAKAAAAAAEAAAQAAAAAAQAAAAAA\n",
       "AAABAAACAAAAAAEAAAoAAAAAAQAABAAAAAABAAAAAAAAAAEAAAIAAAAAAQAACgAAAAABAAAEAAAA\n",
       "AAEAAAAAAAAAAQAAAgAAAAABAAAKAAAAAAEAAAQAAAAAAQAAAAAAAAABAAACAAAAAAEAAAoAAAAA\n",
       "AQAABAAAAAABAAAAAAAAAAEAAAIAAAAAAQAACgAAAAABAAAEAAAAAAEAAAAAAAAAAQAAAgAAAAAB\n",
       "AAAKAAAAAAEAAAQAAAAAAQAAAAAAAAABAAACAAAAAAEAAAoAAAAAAQAABAAAAAABAAAAAAAAAAEA\n",
       "AAIAAAAAAQAACgAAAAABAAAEAAAAAAEAAAAAAAAAAQAAAgAAAAABAAAGAAAAAAEAAAIAAAAAAQAA\n",
       "CgAAAAABAAAEAAAAAAEAAAAAAAAAAQAAAgAAAAABAAAKAAAAAAEAAAQAAAAAAQAAAAAAAAABAAAC\n",
       "AAAAAAEAAAoAAAAAAQAABAAAAAABAAAAAAAAAAEAAAIAAAAAAQAACgAAAAABAAAEAAAAAAEAAAAA\n",
       "AAAAAQAAAgAAAAABAAAGAAAAAAEAAAIAAAAAAQAACgAAAAABAAAEAAAAAAEAAAAAAAAAAQAAAgAA\n",
       "AAABAAAKAAAAAAEAAAQAAAAAAQAAAAAAAAABAAACAAAAAAEAAAoAAAAAAQAABAAAAAABAAAAAAAA\n",
       "AAEAAAIAAAAAAQAACgAAAAABAAAEAAAAAAEAAAAAAAAAAQAAAgAAAAABAAAKAAAAAAEAAAQAAAAA\n",
       "AQAAAAAAAAABAAACAAAAAAEAAAoAAAAAAQAABAAAAAABAAAAAAAAAAEAAAIAAAAAAQAACgAAAAAB\n",
       "AAAEAAAAAAEAAAAAAAAAAQAAAgAAAAABAAAKAAAAAAEAAAQAAAAAAQAAAAAAAAABAAACAAAAAAEA\n",
       "AAoAAAAAAQAABAAAAAABAAAAAAAAAAEAAAIAAAAAAQAACAAAAAACAAACAAAAAAEAAAQAAAAAAQAA\n",
       "BgAAAAABAAACAAAAAAEAAAQAAAAAAQAABgAAAAABAAACAAAAAAEAAAoAAAAAAQAABAAAAAABAAAA\n",
       "AAAAAAEAAAIAAAAAAQAACgAAAAABAAAEAAAAAAEAAAAAAAAAAQAAAgAAAAABAAAKAAAAAAEAAAQA\n",
       "AAAAAQAAAAAAAAABAAACAAAAAAEAAAoAAAAAAQAABAAAAAABAAAAAAAAAAEAAAIAAAAAAQAACgAA\n",
       "AAABAAAEAAAAAAEAAAAAAAAAAQAAAgAAAAAcc3RzYwAAAAAAAAABAAAAAQAAAMcAAAABAAADMHN0\n",
       "c3oAAAAAAAAAAAAAAMcAAAO5AAAAWwAAADUAAAAaAAAAIgAAAEQAAAAvAAAAHAAAABoAAABDAAAA\n",
       "KQAAABwAAAAYAAAASwAAAEMAAAAnAAAATgAAAB8AAAAfAAAAJAAAAFcAAAAnAAAAGAAAABkAAAAx\n",
       "AAAAUQAAACUAAAAbAAAAJQAAAGIAAAA1AAAAIgAAAG4AAAA7AAAAKwAAACwAAABNAAAAQgAAADIA\n",
       "AAAyAAAASAAAADAAAAA1AAAAJwAAADkAAAA1AAAAIgAAACIAAAAxAAAAKQAAACMAAABJAAAAMQAA\n",
       "ACEAAAAlAAAASgAAADAAAAAlAAAALQAAAEoAAAAfAAAASwAAACwAAAAyAAAAZgAAACYAAAAhAAAA\n",
       "JAAAADoAAAAoAAAANQAAAC8AAABYAAAAOgAAADEAAAAhAAAAVAAAADwAAABXAAAALwAAAE4AAABE\n",
       "AAAANwAAADgAAAA7AAAAHgAAADAAAAA2AAAAKAAAACgAAABSAAAAKQAAAB4AAABHAAAATgAAAC4A\n",
       "AABAAAAANwAAAFAAAAA9AAAAMAAAADoAAABFAAAAJwAAADcAAAAvAAAAbwAAAEAAAAA7AAAAOAAA\n",
       "AFkAAAA6AAAAJQAAAEMAAAAtAAAANQAAADcAAAAhAAAAHQAAABsAAAA5AAAAIQAAACQAAAAbAAAA\n",
       "RwAAACMAAAAlAAAAGwAAAEQAAAA3AAAAHgAAACgAAABgAAAALwAAAFIAAAA2AAAALQAAAC4AAABM\n",
       "AAAAMQAAACcAAAAxAAAAOQAAACIAAAAhAAAAHwAAAHIAAAA0AAAAHwAAADAAAAA+AAAAIAAAADYA\n",
       "AABRAAAAOAAAACAAAAAhAAAAGwAAAEYAAAAhAAAAGQAAABoAAABfAAAAJAAAACQAAAAfAAAALgAA\n",
       "ACEAAAA0AAAAMwAAADIAAAAdAAAAQQAAAEcAAABAAAAALAAAACgAAABLAAAAMQAAADIAAAA9AAAA\n",
       "JgAAABwAAAA6AAAALwAAACIAAAA3AAAASgAAACQAAAA9AAAANwAAADgAAAAgAAAAIwAAABgAAAAz\n",
       "AAAAHwAAABoAAAAlAAAAFHN0Y28AAAAAAAAAAQAAACwAAABidWR0YQAAAFptZXRhAAAAAAAAACFo\n",
       "ZGxyAAAAAAAAAABtZGlyYXBwbAAAAAAAAAAAAAAAAC1pbHN0AAAAJal0b28AAAAdZGF0YQAAAAEA\n",
       "AAAATGF2ZjU4LjIwLjEwMA==\n",
       "\">\n",
       "  Your browser does not support the video tag.\n",
       "</video>"
      ],
      "text/plain": [
       "<IPython.core.display.HTML object>"
      ]
     },
     "execution_count": 54,
     "metadata": {},
     "output_type": "execute_result"
    },
    {
     "data": {
      "image/png": "[encoded data removed]",
      "text/plain": [
       "<Figure size 432x288 with 1 Axes>"
      ]
     },
     "metadata": {
      "needs_background": "light"
     },
     "output_type": "display_data"
    }
   ],
   "source": [
    "# %load solutions/exercise_1_7.py"
   ]
  },
  {
   "cell_type": "code",
   "execution_count": null,
   "metadata": {},
   "outputs": [],
   "source": []
  }
 ],
 "metadata": {
  "kernelspec": {
   "display_name": "Python 3",
   "language": "python",
   "name": "python3"
  },
  "language_info": {
   "codemirror_mode": {
    "name": "ipython",
    "version": 3
   },
   "file_extension": ".py",
   "mimetype": "text/x-python",
   "name": "python",
   "nbconvert_exporter": "python",
   "pygments_lexer": "ipython3",
   "version": "3.6.7"
  }
 },
 "nbformat": 4,
 "nbformat_minor": 4
}
