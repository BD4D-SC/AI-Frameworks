{
 "cells": [
  {
   "cell_type": "markdown",
   "metadata": {},
   "source": [
    "# [Ateliers: Technologies de l'intelligence Artificielle](https://github.com/wikistat/AI-Frameworks)"
   ]
  },
  {
   "cell_type": "markdown",
   "metadata": {},
   "source": [
    "<center>\n",
    "<a href=\"http://www.insa-toulouse.fr/\" ><img src=\"http://www.math.univ-toulouse.fr/~besse/Wikistat/Images/logo-insa.jpg\" style=\"float:left; max-width: 120px; display: inline\" alt=\"INSA\"/></a> \n",
    "<a href=\"http://wikistat.fr/\" ><img src=\"http://www.math.univ-toulouse.fr/~besse/Wikistat/Images/wikistat.jpg\" width=400, style=\"max-width: 150px; display: inline\"  alt=\"Wikistat\"/></a>\n",
    "<a href=\"http://www.math.univ-toulouse.fr/\" ><img src=\"http://www.math.univ-toulouse.fr/~besse/Wikistat/Images/logo_imt.jpg\" width=400,  style=\"float:right;  display: inline\" alt=\"IMT\"/> </a>\n",
    "    \n",
    "</center>"
   ]
  },
  {
   "cell_type": "markdown",
   "metadata": {},
   "source": [
    "# LAB 4 Introduction to Reinforcement Learning  -  Part 2 : Q-Learning & Deep Q-Network\n",
    "The objectives of this noteboks are the following : \n",
    "\n",
    "* Implement Q-Learning on simple Markov Decision Process\n",
    "* Implement DQN on a pacman-like game (gridworld)\n",
    "* Implement D3QN on the same game\n",
    " \n",
    "Source : [https://github.com/ageron/handson-ml](https://github.com/ageron/handson-ml) and https://github.com/breeko/Simple-Reinforcement-Learning-with-Tensorflow/blob/master/Part%202%20-%20Policy-based%20Agents%20with%20Keras.ipynb"
   ]
  },
  {
   "cell_type": "markdown",
   "metadata": {},
   "source": [
    "## Import librairies"
   ]
  },
  {
   "cell_type": "code",
   "execution_count": null,
   "metadata": {},
   "outputs": [],
   "source": [
    "import numpy as np\n",
    "import random\n",
    "import os\n",
    "\n",
    "# to make this notebook's output stable across runs\n",
    "def reset_graph(seed=42):\n",
    "    tf.reset_default_graph()\n",
    "    tf.set_random_seed(seed)\n",
    "    np.random.seed(seed)\n",
    "\n",
    "# To plot figures and animations\n",
    "%matplotlib inline\n",
    "%matplotlib nbagg\n",
    "import matplotlib\n",
    "import matplotlib.animation as animation\n",
    "import matplotlib.pyplot as plt\n",
    "from IPython.display import HTML\n",
    "\n",
    "\n",
    "plt.rcParams['axes.labelsize'] = 14\n",
    "plt.rcParams['xtick.labelsize'] = 12\n",
    "plt.rcParams['ytick.labelsize'] = 12\n",
    "\n",
    "\n",
    "import tensorflow.keras.models as km\n",
    "import tensorflow.keras.layers as kl\n",
    "import tensorflow.keras.initializers as ki\n",
    "import tensorflow.keras.optimizers as ko\n",
    "import tensorflow.keras.losses as klo\n",
    "import tensorflow.keras.backend as K\n",
    "\n",
    "\n",
    "# Gym Librairy\n",
    "import gym\n",
    "import pandas as pd\n",
    "\n",
    "\n",
    "def update_scene(num, frames, patch):\n",
    "    patch.set_data(frames[num])\n",
    "    return patch,\n",
    "\n",
    "def plot_animation(frames, repeat=False, interval=400):\n",
    "    plt.close()  # or else nbagg sometimes plots in the previous cell\n",
    "    fig = plt.figure()\n",
    "    patch = plt.imshow(frames[0])\n",
    "    plt.axis('off')\n",
    "    return animation.FuncAnimation(fig, update_scene, fargs=(frames, patch), frames=len(frames), repeat=repeat, interval=interval)"
   ]
  },
  {
   "cell_type": "markdown",
   "metadata": {},
   "source": [
    "## Q-Learning on Markov Decision Process\n",
    "\n",
    "### Definition\n",
    "\n",
    "We will first define a simple markov process on wich we will apply Q-learning algorithm.\n",
    "\n",
    "here is an illustration of the MDP that we will define.\n",
    "\n",
    "![images](images/mdp.png)\n",
    "\n",
    "\n",
    "We store the different action and transition probabilities within a list"
   ]
  },
  {
   "cell_type": "code",
   "execution_count": null,
   "metadata": {},
   "outputs": [],
   "source": [
    "transition_probabilities = [\n",
    "        [[0.7, 0.3, 0.0], [1.0, 0.0, 0.0], [0.8, 0.2, 0.0]], \n",
    "        [[0.0, 1.0, 0.0], None, [0.0, 0.0, 1.0]],\n",
    "        [None, [0.8, 0.1, 0.1], None],\n",
    "    ]"
   ]
  },
  {
   "cell_type": "markdown",
   "metadata": {},
   "source": [
    "Let's use pandas DataFrame visualisation in order to display this table"
   ]
  },
  {
   "cell_type": "code",
   "execution_count": null,
   "metadata": {},
   "outputs": [],
   "source": [
    "transition_probabilities_df = pd.DataFrame(transition_probabilities).rename_axis('Actions', axis=1)\n",
    "transition_probabilities_df.index.name=\"State\"\n",
    "transition_probabilities_df"
   ]
  },
  {
   "cell_type": "markdown",
   "metadata": {},
   "source": [
    "We also define the rewards, each actions couple state/action will lead to."
   ]
  },
  {
   "cell_type": "code",
   "execution_count": null,
   "metadata": {},
   "outputs": [],
   "source": [
    "rewards = [\n",
    "        [[+10, 0, 0], [0, 0, 0], [0, 0, 0]],\n",
    "        [[0, 0, 0], [0, 0, 0], [0, 0, -50]],\n",
    "        [[0, 0, 0], [+40, 0, 0], [0, 0, 0]],\n",
    "    ]\n",
    "\n",
    "rewards_df = pd.DataFrame(rewards).rename_axis('Actions', axis=1)\n",
    "rewards_df.index.name=\"State\"\n",
    "rewards_df"
   ]
  },
  {
   "cell_type": "markdown",
   "metadata": {},
   "source": [
    "And the list of possible action that can be taken at each state."
   ]
  },
  {
   "cell_type": "code",
   "execution_count": null,
   "metadata": {},
   "outputs": [],
   "source": [
    "possible_actions = [[0, 1, 2], [0, 2], [1]]"
   ]
  },
  {
   "cell_type": "markdown",
   "metadata": {},
   "source": [
    "Finally we define now a class that will act as a Gym environment. \n",
    "\n",
    "* The environement is the MDP.\n",
    "* The observation is the current step.\n",
    "* The action possible are the three actions we previously define."
   ]
  },
  {
   "cell_type": "code",
   "execution_count": null,
   "metadata": {},
   "outputs": [],
   "source": [
    "class MDPEnvironment(object):\n",
    "    def __init__(self, start_state=0):\n",
    "        self.start_state=start_state\n",
    "        self.reset()\n",
    "    def reset(self):\n",
    "        self.total_rewards = 0\n",
    "        self.state = self.start_state\n",
    "    def step(self, action):\n",
    "        next_state = np.random.choice(range(3), p=transition_probabilities[self.state][action])\n",
    "        reward = rewards[self.state][action][next_state]\n",
    "        self.state = next_state\n",
    "        self.total_rewards += reward\n",
    "        return self.state, reward"
   ]
  },
  {
   "cell_type": "code",
   "execution_count": null,
   "metadata": {},
   "outputs": [],
   "source": [
    "def run_episode(policy, n_steps, start_state=0):\n",
    "    env = MDPEnvironment()\n",
    "    for step in range(n_steps):\n",
    "        action = policy(env.state)\n",
    "        state, reward = env.step(action)\n",
    "    return env.total_rewards\n"
   ]
  },
  {
   "cell_type": "markdown",
   "metadata": {},
   "source": [
    "### Hard Coded Policy\n",
    "\n",
    "Let's first implement a random policy, as a baseline we want to improve"
   ]
  },
  {
   "cell_type": "code",
   "execution_count": null,
   "metadata": {},
   "outputs": [],
   "source": [
    "def policy_random(state):\n",
    "    return np.random.choice(possible_actions[state])\n",
    "\n",
    "\n",
    "all_score = []\n",
    "for episode in range(1000):\n",
    "    all_score.append(run_episode(policy_random, n_steps=100))\n",
    "print(\"Summary: mean={:.1f}, std={:1f}, min={}, max={}\".format(np.mean(all_score), np.std(all_score), np.min(all_score), np.max(all_score)))\n"
   ]
  },
  {
   "cell_type": "markdown",
   "metadata": {},
   "source": [
    "**Exercise** Which policy would be the safest? The more risky? Implement it and test it. What can you say about their results?"
   ]
  },
  {
   "cell_type": "code",
   "execution_count": null,
   "metadata": {},
   "outputs": [],
   "source": [
    "# %load solutions/exercise_2_1.py"
   ]
  },
  {
   "cell_type": "markdown",
   "metadata": {},
   "source": [
    "### Q-Learning"
   ]
  },
  {
   "cell_type": "markdown",
   "metadata": {},
   "source": [
    "Let's know implement Q-learning algorithm to learn a better policy!\n",
    "\n",
    "Q-Learning works by watching an agent play (e.g., randomly) and gradually improving its estimates of the Q-Values. \n",
    "Once it has accurate Q-Value estimates (or close enough), then the optimal policy consists in choosing the action that has the highest Q-Value (i.e., the greedy policy).\n",
    "\n",
    "We first initiate:\n",
    "* the different parameters (learning_rate $\\alpha$ and the discount rate $\\gamma$}\n",
    "* The number of step to play\n",
    "* The exploration policy (random one)\n",
    "* The Q-values tables"
   ]
  },
  {
   "cell_type": "code",
   "execution_count": null,
   "metadata": {},
   "outputs": [],
   "source": [
    "n_states = 3\n",
    "n_actions = 3\n",
    "n_steps = 20\n",
    "alpha = 0.01  #<-- Learning Rate\n",
    "gamma = 0.99  #<-- The discount rate\n",
    "\n",
    "\n",
    " \n",
    "exploration_policy = policy_random #<-- Policy that we will play during exploration\n",
    "q_values = np.full((n_states, n_actions), -np.inf) #<-- Policy that we will be updated\n",
    "for state, actions in enumerate(possible_actions):\n",
    "    q_values[state][actions]=0\n",
    "q_values"
   ]
  },
  {
   "cell_type": "markdown",
   "metadata": {},
   "source": [
    "**Exercise**\n",
    "Run *n_steps* over the MDP and update the Q-values table at each step according to the Q-learning iteration algorithm"
   ]
  },
  {
   "cell_type": "code",
   "execution_count": null,
   "metadata": {},
   "outputs": [],
   "source": [
    "env = MDPEnvironment()\n",
    "for step in range(n_steps):    \n"
   ]
  },
  {
   "cell_type": "code",
   "execution_count": null,
   "metadata": {},
   "outputs": [],
   "source": [
    "# %load solutions/exercise_2_21.py"
   ]
  },
  {
   "cell_type": "markdown",
   "metadata": {},
   "source": [
    "**Exercise** How do we defined the optimal policy from the computed Q_values? Implement it."
   ]
  },
  {
   "cell_type": "code",
   "execution_count": null,
   "metadata": {},
   "outputs": [],
   "source": [
    "def optimal_policy(state):\n",
    "    return "
   ]
  },
  {
   "cell_type": "code",
   "execution_count": null,
   "metadata": {},
   "outputs": [],
   "source": [
    "# %load solutions/exercise_2_22.py"
   ]
  },
  {
   "cell_type": "markdown",
   "metadata": {},
   "source": [
    "Compute its performance."
   ]
  },
  {
   "cell_type": "code",
   "execution_count": null,
   "metadata": {},
   "outputs": [],
   "source": [
    "all_totals = []\n",
    "for episode in range(1000):\n",
    "    all_totals.append(run_episode(optimal_policy, n_steps=100))\n",
    "print(\"Summary: mean={:.1f}, std={:1f}, min={}, max={}\".format(np.mean(all_totals), np.std(all_totals), np.min(all_totals), np.max(all_totals)))\n",
    "print()"
   ]
  },
  {
   "cell_type": "markdown",
   "metadata": {},
   "source": [
    "**Q** We uses the Q learning iteration algorithm to learn the best policy. Would it have been possible to use a different algorithm here? Why?"
   ]
  },
  {
   "cell_type": "markdown",
   "metadata": {},
   "source": [
    "## DEEP Q Learning on *Pacman-Like* Game\n",
    "\n",
    "We have seen how to learn an optimal policy on a Markov Decision Process. \n",
    "\n",
    "Let's now try to learn how to play a Video Game Like Pacman. \n",
    "\n",
    "We won't use directly Pacman here (Even if it's available on Gym environment (see below)). The Pacman game requires GPU to be trained and may need some try and parameter optimization to easily converged. \n",
    "\n",
    "Hence, we will start with and simpler environment which looks like Pacman : the [gridworld](https://github.com/awjuliani/DeepRL-Agents/blob/master/gridworld.py) environment.\n",
    "\n",
    "\n"
   ]
  },
  {
   "cell_type": "markdown",
   "metadata": {},
   "source": [
    "### Grid World environment\n",
    "\n",
    "We have a 5x5 blocs where blue, green and red squares. In the environment the agent controls a blue square, and the goal is to navigate to the green squares (reward +1) while avoiding the red squares (reward -1).\n",
    "\n",
    "#### Observation\n",
    "\n",
    "The observation is the image itself which is a 84x84x3 images.\n",
    "\n",
    "#### Actions\n",
    "\n",
    "Num | Action\n",
    "--- | ---\n",
    "0 | Go Up\n",
    "1 | Go Down\n",
    "2 | Go Left\n",
    "3 | Go Right\n",
    "\n",
    "\n",
    "#### Reward\n",
    "Reward is 1 for every green square taken and -1 when a red square is taken\n",
    "\n",
    "#### End epsiode\n",
    "There are no condition limit for an episode to finish"
   ]
  },
  {
   "cell_type": "markdown",
   "metadata": {},
   "source": [
    "We initiate the environment"
   ]
  },
  {
   "cell_type": "code",
   "execution_count": null,
   "metadata": {},
   "outputs": [],
   "source": [
    "from gridworld import gameEnv\n",
    "env = gameEnv(partial=False, size=5)"
   ]
  },
  {
   "cell_type": "markdown",
   "metadata": {},
   "source": [
    "**Exercise**: Let's play a game manually to understand how it works. Fill the actions_list with step in order to win points according to the intialised environment."
   ]
  },
  {
   "cell_type": "code",
   "execution_count": null,
   "metadata": {},
   "outputs": [],
   "source": [
    "frames = []\n",
    "cum_reward=0\n",
    "actions_list=[]\n",
    "for step in actions_list:\n",
    "    state, reward , end = env.step(step)\n",
    "    frames.append(state)\n",
    "    cum_reward+=reward\n",
    "cum_reward\n",
    "HTML(plot_animation(frames).to_html5_video())"
   ]
  },
  {
   "cell_type": "markdown",
   "metadata": {},
   "source": [
    "### Experience Replay Buffer\n",
    "\n",
    "To make DQNs work you need an **Experience Replay Buffer**. The basic idea is that by storing an agent’s experiences, and then randomly drawing batches of them to train the network, we can more robustly learn to perform well in the task. The Experience Replay buffer stores a fixed number of recent memories, and as new ones come in, old ones are removed. When the time comes to train, we simply draw a uniform batch of random memories from the buffer, and train our network with them. For our DQN, we will build a simple class that handles storing and retrieving memories."
   ]
  },
  {
   "cell_type": "code",
   "execution_count": null,
   "metadata": {},
   "outputs": [],
   "source": [
    "class ExperienceReplay:\n",
    "    def __init__(self, buffer_size=50000):\n",
    "        \"\"\" Data structure used to hold game experiences \"\"\"\n",
    "        # Buffer will contain [state,action,reward,next_state,done]\n",
    "        self.buffer = []\n",
    "        self.buffer_size = buffer_size\n",
    "\n",
    "    def add(self, experience):\n",
    "        \"\"\" Adds list of experiences to the buffer \"\"\"\n",
    "        # Extend the stored experiences\n",
    "        self.buffer.extend(experience)\n",
    "        # Keep the last buffer_size number of experiences\n",
    "        self.buffer = self.buffer[-self.buffer_size:]\n",
    "\n",
    "    def sample(self, size):\n",
    "        \"\"\" Returns a sample of experiences from the buffer \"\"\"\n",
    "        sample_idxs = np.random.randint(len(self.buffer), size=size)\n",
    "        sample_output = [self.buffer[idx] for idx in sample_idxs]\n",
    "        sample_output = np.reshape(sample_output, (size, -1))\n",
    "        return sample_output"
   ]
  },
  {
   "cell_type": "markdown",
   "metadata": {},
   "source": [
    "### Architecture and loss of network\n",
    "\n",
    "\n",
    "#### Q-Learning\n",
    "Here are the Q-learning formula used above\n",
    "\n",
    "$$target = R(s,a,s')+\\gamma \\max\\limits_{a'}Q_k(s',a')$$\n",
    "$$Q_{k+1}(s,a)\\leftarrow(1-a)Q_k(s,a)+\\alpha[target]$$\n",
    "\n",
    "if the combinations of states and actions are too large, the memory and the computation requirement for Q will be too high.\n",
    "\n",
    "#### Deep Q-learning\n",
    "\n",
    "To address that, we switch to a deep network Q (DQN) to approximate Q(s, a). The learning algorithm is called Deep Q-learning. With the new approach, we generalize the approximation of the Q-value function rather than remembering the solutions.\n",
    "\n",
    "$$target = R(s,a,s')+\\gamma \\max\\limits_{a'}Q_k(s',a')$$\n",
    "$$\\theta_{k+1} \\leftarrow \\theta_k - \\alpha\\nabla_{\\theta}\\mathbb{E}_{s\\sim'P(s'|s,a)} [(Q_{\\theta}(s,a)-target(s'))^2]_{\\theta=\\theta_k} $$\n",
    "\n",
    "We define below a convolutional network. \n",
    "\n",
    "**Exercise** Complete the code of the convolutional network below with the input and output shape in order to make it work with our problem."
   ]
  },
  {
   "cell_type": "code",
   "execution_count": null,
   "metadata": {},
   "outputs": [],
   "source": [
    "class Qnetwork():\n",
    "    def __init__(self):\n",
    "        self.inputs = kl.Input(shape=#COMPLETE, name=\"main_input\")\n",
    "\n",
    "        self.model = kl.Conv2D(\n",
    "            filters=32,\n",
    "            kernel_size=[8, 8],\n",
    "            strides=[4, 4],\n",
    "            activation=\"relu\",\n",
    "            padding=\"valid\",\n",
    "            name=\"conv1\")(self.inputs)\n",
    "        self.model = kl.Conv2D(\n",
    "            filters=64,\n",
    "            kernel_size=[4, 4],\n",
    "            strides=[2, 2],\n",
    "            activation=\"relu\",\n",
    "            padding=\"valid\",\n",
    "            name=\"conv2\")(self.model)\n",
    "        self.model = kl.Conv2D(\n",
    "            filters=64,\n",
    "            kernel_size=[3, 3],\n",
    "            strides=[1, 1],\n",
    "            activation=\"relu\",\n",
    "            padding=\"valid\",\n",
    "            name=\"conv3\")(self.model)\n",
    "        self.model = kl.Conv2D(\n",
    "            filters=512,\n",
    "            kernel_size=[7, 7],\n",
    "            strides=[1, 1],\n",
    "            activation=\"relu\",\n",
    "            padding=\"valid\",\n",
    "            name=\"conv4\")(self.model)\n",
    "\n",
    "        self.model = kl.Flatten()(self.model)\n",
    "        self.model = kl.Dense(256, activation=\"relu\")(self.model)\n",
    "        self.model = kl.Dense(#COMPLETE, activation = \"linear\")(self.model)\n",
    "        self.model = km.Model(self.inputs, self.model)\n",
    "        self.model.compile(\"adam\", \"mse\")\n",
    "        self.model.optimizer.lr = 0.0001"
   ]
  },
  {
   "cell_type": "code",
   "execution_count": null,
   "metadata": {},
   "outputs": [],
   "source": [
    "# %load solutions/exercise_2_3.py"
   ]
  },
  {
   "cell_type": "markdown",
   "metadata": {},
   "source": [
    "Init a model in order to display it's summary."
   ]
  },
  {
   "cell_type": "code",
   "execution_count": null,
   "metadata": {},
   "outputs": [],
   "source": [
    "main_qn = Qnetwork()\n",
    "main_qn.model.summary()"
   ]
  },
  {
   "cell_type": "markdown",
   "metadata": {},
   "source": [
    "### DQN Class\n",
    "\n",
    "#### Separated Target network\n",
    "Here is how the target is supposed to be computed in order to train or Deep-Q network.\n",
    "\n",
    "$$target = R(s,a,s')+\\gamma \\max\\limits_{a'}Q_k(s',a';\\theta) $$\n",
    "\n",
    "\n",
    "We build a deep network to learn the values of Q but its target values are changing as we know things better. As shown below, the target values for Q depends on Q itself, we are chasing a non-stationary target. So we use a different network to generate the target, that will be updated from time to time\n",
    "\n",
    "\n",
    "$$target = R(s,a,s')+\\gamma \\max\\limits_{a'}Q_k(s',a';\\theta_{target}) $$\n",
    "\n",
    "\n",
    "**Exercise**  Complete the class below to train a DQN network\n",
    "\n",
    "1. Pay attention to all the parameters define in the init and make sure you understand its.\n",
    "2. Look at the train function that allow to run the pseudo code described below.\n",
    "3. Go inside all other function and complete the code where you'll find a TODO mark.\n",
    "\n",
    "\n",
    "#### Pseudo Code\n",
    "* while num_episode < self.num_episodes:\n",
    "\n",
    "    1. Run one complete episode:\n",
    "        * If less than *pre_train_episode* has been played:\n",
    "            * Play randomly\n",
    "        * Else\n",
    "            * play randomly with probability *prob_random* (Exploration) else play with the *main_q* network (Exploitation).\n",
    "        * Store the episode in the *ReplayBuffer*\n",
    "    2. If more than *pre_train_episode* has been played\n",
    "                * Decrease the probability of playing randomly (in order to use more Exploitation than Exploration (e-greedy policy).\n",
    "                * Every 5 episodes played:\n",
    "                    * Train the episode using episode from the *ReplayBuffer* and using the target build from the *target_q network*\n",
    "                    * Update the *target_q* weight with *main_q* weight."
   ]
  },
  {
   "cell_type": "code",
   "execution_count": null,
   "metadata": {},
   "outputs": [],
   "source": [
    "class DQN:\n",
    "    def __init__(self):\n",
    "        self.batch_size = 64  # How many experiences to use for each training step\n",
    "        self.num_epochs = 20  # How many epochs to train\n",
    "        self.update_freq = 5  # How often you update the network\n",
    "        self.y = 0.99  # Discount factor\n",
    "        self.prob_random_start = 0.6  # Starting chance of random action\n",
    "        self.prob_random_end = 0.1  # Ending chance of random action\n",
    "        self.annealing_steps = 1000.  # Steps of training to reduce from start_e -> end_e\n",
    "        self.num_episodes = 10000  # How many episodes of game environment to train\n",
    "        self.pre_train_episodes = 100  # Number of episodes of random actions\n",
    "        self.max_num_step = 50  # Maximum allowed episode length\n",
    "        self. goal = 15\n",
    "\n",
    "        # Reset everything\n",
    "        K.clear_session()\n",
    "\n",
    "        #TODO: Setup both the main and the target network.\n",
    "        \n",
    "\n",
    "        #TODO Setup our experience replay\n",
    "        self.experience_replay = ExperienceReplay()\n",
    "\n",
    "    def update_target_graph(self):\n",
    "        # TODO : This function will be called every  self.update_freq train step, in order to copy all the weight of the main Q network to the target Q network\n",
    "\n",
    "\n",
    "    def run_one_episode(self, num_episode, prob_random):\n",
    "        # Create an experience replay for the current episode\n",
    "        episode_buffer = ExperienceReplay()\n",
    "\n",
    "        # Get the game state from the environment\n",
    "        state = env.reset()\n",
    "\n",
    "        done = False  # Game is complete\n",
    "        sum_rewards = 0  # Running sum of rewards in episode\n",
    "        cur_step = 0  # Running sum of number of steps taken in episode\n",
    "\n",
    "        while cur_step < self.max_num_step and not done:\n",
    "            cur_step += 1\n",
    "            \n",
    "            # TODO while that we haven't reach the  self.pre_train_episodes number of pre train episod, the action for the given state is choosen randomly. \n",
    "            # WHen self.pre_train_episode is reached, choose randomly tha ction with a 'prob_random' probability else use the main Q network\n",
    "            \n",
    "\n",
    "            # TODO Use action and retrieve the next state, reward and done\n",
    "\n",
    "            # Setup the episode to be stored in the episode buffer\n",
    "            episode = np.array([[state], action, reward, [next_state], done])\n",
    "            episode = episode.reshape(1, -1)\n",
    "\n",
    "            # Store the experience in the episode buffer\n",
    "            episode_buffer.add(episode)\n",
    "\n",
    "            # Update the running rewards\n",
    "            sum_rewards += reward\n",
    "\n",
    "            # Update the state\n",
    "            state = next_state\n",
    "\n",
    "        return episode_buffer, sum_rewards, cur_step\n",
    "\n",
    "    def train_one_step(self):\n",
    "        # TODO  Sample a batch from the self.experience_replay class\n",
    "        train_batch = self.experience_replay.sample(self.batch_size)\n",
    "\n",
    "        # Separate the batch into its components\n",
    "        train_state, train_action, train_reward, \\\n",
    "        train_next_state, train_done = train_batch.T\n",
    "\n",
    "        # Convert the action array into an array of ints so they can be used for indexing\n",
    "        train_action = train_action.astype(np.int)\n",
    "\n",
    "        # Stack the train_state and train_next_state for learning\n",
    "        train_state = np.vstack(train_state)\n",
    "        train_next_state = np.vstack(train_next_state)\n",
    "\n",
    "        #TODO Build the target in order to use them to build our network\n",
    "\n",
    "\n",
    "        # Train the main model\n",
    "        loss = self.main_qn.model.train_on_batch(train_state, target_q)\n",
    "        return loss\n",
    "\n",
    "\n",
    "    def train(self):\n",
    "\n",
    "        # Make the networks equal\n",
    "        self.update_target_graph()\n",
    "\n",
    "        # We'll begin by acting complete randomly. As we gain experience and improve,\n",
    "        # we will begin reducing the probability of acting randomly, and instead\n",
    "        # take the actions that our Q network suggests\n",
    "        prob_random = self.prob_random_start\n",
    "        prob_random_drop = (self.prob_random_start - self.prob_random_end) / self.annealing_steps\n",
    "\n",
    "        num_steps = []  # Tracks number of steps per episode\n",
    "        rewards = []  # Tracks rewards per episode\n",
    "        print_every = 50  # How often to print status\n",
    "        losses = [0]  # Tracking training losses\n",
    "        num_episode = 0\n",
    "\n",
    "        while num_episode < self.num_episodes:\n",
    "\n",
    "            episode_buffer, sum_rewards, cur_step = self.run_one_episode(num_episode, prob_random)\n",
    "\n",
    "            if num_episode > self.pre_train_episodes:\n",
    "                # Training the network\n",
    "\n",
    "                if prob_random > self.prob_random_end:\n",
    "                    # Drop the probability of a random action\n",
    "                    prob_random -= prob_random_drop\n",
    "\n",
    "                if num_episode % self.update_freq == 0:\n",
    "                    for num_epoch in range(self.num_epochs):\n",
    "                        loss = self.train_one_step()\n",
    "                        losses.append(loss)\n",
    "\n",
    "                    # Update the target model with values from the main model\n",
    "                    self.update_target_graph()\n",
    "\n",
    "            # Increment the episode\n",
    "            num_episode += 1\n",
    "\n",
    "            self.experience_replay.add(episode_buffer.buffer)\n",
    "            num_steps.append(cur_step)\n",
    "            rewards.append(sum_rewards)\n",
    "\n",
    "            if num_episode % print_every == 0:\n",
    "                # Print progress\n",
    "                mean_loss = np.mean(losses[-(print_every * self.num_epochs):])\n",
    "\n",
    "                print(\"Num episode: {} Mean reward: {:0.4f} Prob random: {:0.4f}, Loss: {:0.04f}\".format(\n",
    "                    num_episode, np.mean(rewards[-print_every:]), prob_random, mean_loss))\n",
    "                if np.mean(rewards[-print_every:]) >= self.goal:\n",
    "                    print(\"Training complete!\")\n",
    "                    break\n",
    "\n"
   ]
  },
  {
   "cell_type": "code",
   "execution_count": null,
   "metadata": {},
   "outputs": [],
   "source": [
    "# %load solutions/exercise_2_4.py"
   ]
  },
  {
   "cell_type": "markdown",
   "metadata": {},
   "source": [
    "Train the model"
   ]
  },
  {
   "cell_type": "code",
   "execution_count": null,
   "metadata": {},
   "outputs": [],
   "source": [
    "dqn = DQN()\n",
    "dqn.train()"
   ]
  },
  {
   "cell_type": "markdown",
   "metadata": {},
   "source": [
    "**Exercise** Play a pacman game and display the result of a game in video."
   ]
  },
  {
   "cell_type": "code",
   "execution_count": null,
   "metadata": {},
   "outputs": [],
   "source": [
    "# %load solutions/exercise_2_5.py"
   ]
  },
  {
   "cell_type": "markdown",
   "metadata": {},
   "source": [
    "### DQN Improvement\n",
    "\n",
    "DQN has  been improved recently by using two different tricks (among others):\n",
    "\n",
    "* Dueling\n",
    "* Double DQN\n",
    "\n",
    "Implement these two solutions."
   ]
  },
  {
   "cell_type": "markdown",
   "metadata": {},
   "source": [
    "#### Dueling\n",
    "\n",
    "See the dueling architecture : \n",
    "\n",
    "\n",
    "In order to explain the reasoning behind the architecture changes that Dueling DQN makes, we need to first explain some a few additional reinforcement learning terms. The Q-values that we have been discussing so far correspond to how good it is to take a certain action given a certain state. This can be written as Q(s,a). This action given state can actually be decomposed into two more fundamental notions of value. The first is the value function V(s), which says simple how good it is to be in any given state. The second is the advantage function A(a), which tells how much better taking a certain action would be compared to the others. We can then think of Q as being the combination of V and A. More formally:\n",
    "$$Q(s,a) =V(s) + A(a)$$\n",
    "The goal of Dueling DQN is to have a network that separately computes the advantage and value functions, and combines them back into a single Q-function only at the final layer. It may seem somewhat pointless to do this at first glance. Why decompose a function that we will just put back together? The key to realizing the benefit is to appreciate that our reinforcement learning agent may not need to care about both value and advantage at any given time. For example: imagine sitting outside in a park watching the sunset. It is beautiful, and highly rewarding to be sitting there. No action needs to be taken, and it doesn’t really make sense to think of the value of sitting there as being conditioned on anything beyond the environmental state you are in. We can achieve more robust estimates of state value by decoupling it from the necessity of being attached to specific actions."
   ]
  },
  {
   "cell_type": "code",
   "execution_count": null,
   "metadata": {},
   "outputs": [],
   "source": [
    "# %load solutions/exercise_2_6.py"
   ]
  },
  {
   "cell_type": "code",
   "execution_count": null,
   "metadata": {},
   "outputs": [],
   "source": [
    "main_qn = Qnetwork()\n",
    "main_qn.model.summary()"
   ]
  },
  {
   "cell_type": "markdown",
   "metadata": {},
   "source": [
    "#### Double DQN\n",
    "\n",
    "\n",
    "This lead to often overestimates the Q-values of the potential actions to take in a given state. While this would be fine if all actions were always overestimates equally, there was reason to believe this wasn’t the case. You can easily imagine that if certain suboptimal actions regularly were given higher Q-values than optimal actions, the agent would have a hard time ever learning the ideal policy. In order to correct for this, the authors of DDQN paper propose a simple trick: instead of taking the max over Q-values when computing the target-Q value for our training step, we use our primary network to chose an action, and our target network to generate the target Q-value for that action. By decoupling the action choice from the target Q-value generation, we are able to substantially reduce the overestimation, and train faster and more reliably. Below is the new DDQN equation for updating the target value.\n",
    "\n",
    "\n",
    "$$target = R(s,a,s')+\\gamma Q_k(s',argmax_aQ(s',a;\\theta);\\theta_{target}) $$\n",
    "\n"
   ]
  },
  {
   "cell_type": "code",
   "execution_count": null,
   "metadata": {},
   "outputs": [],
   "source": [
    "# %load solutions/exercise_2_7.py"
   ]
  },
  {
   "cell_type": "code",
   "execution_count": null,
   "metadata": {},
   "outputs": [],
   "source": [
    "dqn = DQN()\n",
    "dqn.train()"
   ]
  },
  {
   "cell_type": "markdown",
   "metadata": {},
   "source": [
    "## Real Pacman!"
   ]
  },
  {
   "cell_type": "markdown",
   "metadata": {},
   "source": [
    "### Creating the MsPacman environment"
   ]
  },
  {
   "cell_type": "code",
   "execution_count": null,
   "metadata": {},
   "outputs": [],
   "source": [
    "env = gym.make(\"MsPacman-v0\")\n",
    "obs = env.reset()\n",
    "obs.shape"
   ]
  },
  {
   "cell_type": "code",
   "execution_count": null,
   "metadata": {},
   "outputs": [],
   "source": [
    "env.action_space"
   ]
  },
  {
   "cell_type": "markdown",
   "metadata": {},
   "source": [
    "### Preprocessing"
   ]
  },
  {
   "cell_type": "markdown",
   "metadata": {},
   "source": [
    "Preprocessing the images is optional but greatly speeds up training."
   ]
  },
  {
   "cell_type": "code",
   "execution_count": null,
   "metadata": {},
   "outputs": [],
   "source": [
    "mspacman_color = 210 + 164 + 74\n",
    "\n",
    "def preprocess_observation(obs):\n",
    "    img = obs[1:176:2, ::2] # crop and downsize\n",
    "    img = img.sum(axis=2) # to greyscale\n",
    "    img[img==mspacman_color] = 0 # Improve contrast\n",
    "    img = (img // 3 - 128).astype(np.int8) # normalize from -128 to 127\n",
    "    return img.reshape(88, 80, 1)/128\n",
    "\n",
    "img = preprocess_observation(obs)\n",
    "img.shape"
   ]
  },
  {
   "cell_type": "markdown",
   "metadata": {},
   "source": [
    "Note: the `preprocess_observation()` function is slightly different from the one in the book: instead of representing pixels as 64-bit floats from -1.0 to 1.0, it represents them as signed bytes (from -128 to 127). The benefit is that the replay memory will take up roughly 8 times less RAM (about 6.5 GB instead of 52 GB). The reduced precision has no visible impact on training."
   ]
  },
  {
   "cell_type": "code",
   "execution_count": null,
   "metadata": {},
   "outputs": [],
   "source": [
    "plt.figure(figsize=(11, 7))\n",
    "plt.subplot(121)\n",
    "plt.title(\"Original observation (160×210 RGB)\")\n",
    "plt.imshow(obs)\n",
    "plt.axis(\"off\")\n",
    "plt.subplot(122)\n",
    "plt.title(\"Preprocessed observation (88×80 greyscale)\")\n",
    "plt.imshow(img.reshape(88, 80), interpolation=\"nearest\", cmap=\"gray\")\n",
    "plt.axis(\"off\")\n",
    "plt.show()"
   ]
  },
  {
   "cell_type": "code",
   "execution_count": null,
   "metadata": {},
   "outputs": [],
   "source": []
  }
 ],
 "metadata": {
  "kernelspec": {
   "display_name": "Python 3",
   "language": "python",
   "name": "python3"
  },
  "language_info": {
   "codemirror_mode": {
    "name": "ipython",
    "version": 3
   },
   "file_extension": ".py",
   "mimetype": "text/x-python",
   "name": "python",
   "nbconvert_exporter": "python",
   "pygments_lexer": "ipython3",
   "version": "3.6.7"
  }
 },
 "nbformat": 4,
 "nbformat_minor": 4
}
