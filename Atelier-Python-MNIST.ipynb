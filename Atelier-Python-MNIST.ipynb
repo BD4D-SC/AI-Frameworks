{
 "cells": [
  {
   "cell_type": "markdown",
   "metadata": {},
   "source": [
    "<center>\n",
    "<a href=\"http://www.insa-toulouse.fr/\" ><img src=\"http://www.math.univ-toulouse.fr/~besse/Wikistat/Images/logo-insa.jpg\" style=\"float:left; max-width: 120px; display: inline\" alt=\"INSA\"/></a> \n",
    "\n",
    "<a href=\"http://wikistat.fr/\" ><img src=\"http://www.math.univ-toulouse.fr/~besse/Wikistat/Images/wikistat.jpg\" style=\"max-width: 250px; display: inline\"  alt=\"Wikistat\"/></a>\n",
    "\n",
    "<a href=\"http://www.math.univ-toulouse.fr/\" ><img src=\"http://www.math.univ-toulouse.fr/~besse/Wikistat/Images/logo_imt.jpg\" style=\"float:right; max-width: 200px; display: inline\" alt=\"IMT\"/> </a>\n",
    "</center>"
   ]
  },
  {
   "cell_type": "markdown",
   "metadata": {},
   "source": [
    "# Reconnaissance de caractères manuscrits ([MNIST](http://yann.lecun.com/exdb/mnist/)) en <a href=\"https://www.python.org/\"><img src=\"https://upload.wikimedia.org/wikipedia/commons/thumb/f/f8/Python_logo_and_wordmark.svg/390px-Python_logo_and_wordmark.svg.png\" style=\"max-width: 120px; display: inline\" alt=\"Python\"/></a> avec <a href=\"http://scikit-learn.org/stable/#\"><img src=\"http://scikit-learn.org/stable/_static/scikit-learn-logo-small.png\" style=\"max-width: 100px; display: inline\" alt=\"Scikit-Learn\"/></a>"
   ]
  },
  {
   "cell_type": "markdown",
   "metadata": {},
   "source": [
    "## 1 Introduction"
   ]
  },
  {
   "cell_type": "markdown",
   "metadata": {},
   "source": [
    "### 1.1 Objectif"
   ]
  },
  {
   "cell_type": "markdown",
   "metadata": {},
   "source": [
    "L'[atelier](http://wikistat.fr/pdf/st-atelier-MINST.pdf) de [wikistat](wikistat.fr) propose de comparer des versions R, python et H2O. Ce calepin décline la solution en **Python** et utilisant la librairie **Scikit-learn**.\n",
    "\n",
    "Le site de Yann Le Cun: [MNIST DataBase](http://yann.lecun.com/exdb/mnist/), est la source des données étudiées, il  décrit précisément le problème et les modes d'acquisition. Il tient également à jour la liste des publications proposant des solutions avec la qualité de prévision obtenue. \n",
    "\n",
    "De façon très schématique, plusieurs stratégies sont développées dans une vaste littérature sur ces données.  \n",
    "* Utiliser une méthode classique (k-nn, random forest...) sans trop raffiner mais avec des temps d'apprentissage rapide conduit à un taux d'erreur un peu supérieur à 3%.\n",
    "* Ajouter  ou intégrer un pré-traitement des données permettant de recaler les images par des distorsions plus ou moins complexes.\n",
    "* Construire une mesure de distance adaptée au problème, par exemple invariante par rotation, translation, puis l'intégrer dans une technique d'apprentissage classique. \n",
    "* Utiliser une méthode plus flexibles (réseau de neurones \"profond\", scattering) avec une optimisation fine des paramètres. \n",
    "* ...\n",
    "\n",
    "L'**objectif** de ce calepin n'est pas de minimiser le taux d'erreur avec des méthodes sophistiquées mais d'utiliser ces données relativement volumineuses pour comparer diverses implémentations des méthodes d'apprentissage classiques. "
   ]
  },
  {
   "cell_type": "markdown",
   "metadata": {},
   "source": [
    "### 1.2 Lecture des données d'apprentissage et de test"
   ]
  },
  {
   "cell_type": "code",
   "execution_count": 1,
   "metadata": {
    "collapsed": true
   },
   "outputs": [],
   "source": [
    "import numpy as np\n",
    "import pandas as pd\n",
    "import matplotlib.pyplot as plt\n",
    "import time\n",
    "%matplotlib inline"
   ]
  },
  {
   "cell_type": "markdown",
   "metadata": {},
   "source": [
    "Les données peuvent être préalablement téléchargées ou directement lues. Ce sont celles originales du site [MNIST DataBase](http://yann.lecun.com/exdb/mnist/) mais préalableùment converties au format .csv, certes plus volumineux mais plus facile à lire."
   ]
  },
  {
   "cell_type": "code",
   "execution_count": 2,
   "metadata": {
    "collapsed": false
   },
   "outputs": [
    {
     "data": {
      "text/html": [
       "<div>\n",
       "<table border=\"1\" class=\"dataframe\">\n",
       "  <thead>\n",
       "    <tr style=\"text-align: right;\">\n",
       "      <th></th>\n",
       "      <th>0</th>\n",
       "      <th>1</th>\n",
       "      <th>2</th>\n",
       "      <th>3</th>\n",
       "      <th>4</th>\n",
       "      <th>5</th>\n",
       "      <th>6</th>\n",
       "      <th>7</th>\n",
       "      <th>8</th>\n",
       "      <th>9</th>\n",
       "      <th>...</th>\n",
       "      <th>775</th>\n",
       "      <th>776</th>\n",
       "      <th>777</th>\n",
       "      <th>778</th>\n",
       "      <th>779</th>\n",
       "      <th>780</th>\n",
       "      <th>781</th>\n",
       "      <th>782</th>\n",
       "      <th>783</th>\n",
       "      <th>784</th>\n",
       "    </tr>\n",
       "  </thead>\n",
       "  <tbody>\n",
       "    <tr>\n",
       "      <th>0</th>\n",
       "      <td>0</td>\n",
       "      <td>0</td>\n",
       "      <td>0</td>\n",
       "      <td>0</td>\n",
       "      <td>0</td>\n",
       "      <td>0</td>\n",
       "      <td>0</td>\n",
       "      <td>0</td>\n",
       "      <td>0</td>\n",
       "      <td>0</td>\n",
       "      <td>...</td>\n",
       "      <td>0</td>\n",
       "      <td>0</td>\n",
       "      <td>0</td>\n",
       "      <td>0</td>\n",
       "      <td>0</td>\n",
       "      <td>0</td>\n",
       "      <td>0</td>\n",
       "      <td>0</td>\n",
       "      <td>0</td>\n",
       "      <td>2</td>\n",
       "    </tr>\n",
       "    <tr>\n",
       "      <th>1</th>\n",
       "      <td>0</td>\n",
       "      <td>0</td>\n",
       "      <td>0</td>\n",
       "      <td>0</td>\n",
       "      <td>0</td>\n",
       "      <td>0</td>\n",
       "      <td>0</td>\n",
       "      <td>0</td>\n",
       "      <td>0</td>\n",
       "      <td>0</td>\n",
       "      <td>...</td>\n",
       "      <td>0</td>\n",
       "      <td>0</td>\n",
       "      <td>0</td>\n",
       "      <td>0</td>\n",
       "      <td>0</td>\n",
       "      <td>0</td>\n",
       "      <td>0</td>\n",
       "      <td>0</td>\n",
       "      <td>0</td>\n",
       "      <td>3</td>\n",
       "    </tr>\n",
       "    <tr>\n",
       "      <th>2</th>\n",
       "      <td>0</td>\n",
       "      <td>0</td>\n",
       "      <td>0</td>\n",
       "      <td>0</td>\n",
       "      <td>0</td>\n",
       "      <td>0</td>\n",
       "      <td>0</td>\n",
       "      <td>0</td>\n",
       "      <td>0</td>\n",
       "      <td>0</td>\n",
       "      <td>...</td>\n",
       "      <td>0</td>\n",
       "      <td>0</td>\n",
       "      <td>0</td>\n",
       "      <td>0</td>\n",
       "      <td>0</td>\n",
       "      <td>0</td>\n",
       "      <td>0</td>\n",
       "      <td>0</td>\n",
       "      <td>0</td>\n",
       "      <td>0</td>\n",
       "    </tr>\n",
       "    <tr>\n",
       "      <th>3</th>\n",
       "      <td>0</td>\n",
       "      <td>0</td>\n",
       "      <td>0</td>\n",
       "      <td>0</td>\n",
       "      <td>0</td>\n",
       "      <td>0</td>\n",
       "      <td>0</td>\n",
       "      <td>0</td>\n",
       "      <td>0</td>\n",
       "      <td>0</td>\n",
       "      <td>...</td>\n",
       "      <td>0</td>\n",
       "      <td>0</td>\n",
       "      <td>0</td>\n",
       "      <td>0</td>\n",
       "      <td>0</td>\n",
       "      <td>0</td>\n",
       "      <td>0</td>\n",
       "      <td>0</td>\n",
       "      <td>0</td>\n",
       "      <td>0</td>\n",
       "    </tr>\n",
       "    <tr>\n",
       "      <th>4</th>\n",
       "      <td>0</td>\n",
       "      <td>0</td>\n",
       "      <td>0</td>\n",
       "      <td>0</td>\n",
       "      <td>0</td>\n",
       "      <td>0</td>\n",
       "      <td>0</td>\n",
       "      <td>0</td>\n",
       "      <td>0</td>\n",
       "      <td>0</td>\n",
       "      <td>...</td>\n",
       "      <td>0</td>\n",
       "      <td>0</td>\n",
       "      <td>0</td>\n",
       "      <td>0</td>\n",
       "      <td>0</td>\n",
       "      <td>0</td>\n",
       "      <td>0</td>\n",
       "      <td>0</td>\n",
       "      <td>0</td>\n",
       "      <td>2</td>\n",
       "    </tr>\n",
       "  </tbody>\n",
       "</table>\n",
       "<p>5 rows × 785 columns</p>\n",
       "</div>"
      ],
      "text/plain": [
       "   0    1    2    3    4    5    6    7    8    9   ...   775  776  777  778  \\\n",
       "0    0    0    0    0    0    0    0    0    0    0 ...     0    0    0    0   \n",
       "1    0    0    0    0    0    0    0    0    0    0 ...     0    0    0    0   \n",
       "2    0    0    0    0    0    0    0    0    0    0 ...     0    0    0    0   \n",
       "3    0    0    0    0    0    0    0    0    0    0 ...     0    0    0    0   \n",
       "4    0    0    0    0    0    0    0    0    0    0 ...     0    0    0    0   \n",
       "\n",
       "   779  780  781  782  783  784  \n",
       "0    0    0    0    0    0    2  \n",
       "1    0    0    0    0    0    3  \n",
       "2    0    0    0    0    0    0  \n",
       "3    0    0    0    0    0    0  \n",
       "4    0    0    0    0    0    2  \n",
       "\n",
       "[5 rows x 785 columns]"
      ]
     },
     "execution_count": 2,
     "metadata": {},
     "output_type": "execute_result"
    }
   ],
   "source": [
    "# Lecture des données d'apprentissage\n",
    "path=\"\" # Si les données osnt dans le répertoire courant sinon:\n",
    "# path=\"http://www.math.univ-toulouse.fr/~besse/Wikistat/data/\"\n",
    "Dtrain=pd.read_csv(path+\"mnist_train.csv\",header=None)\n",
    "Dtrain.head()"
   ]
  },
  {
   "cell_type": "code",
   "execution_count": 3,
   "metadata": {
    "collapsed": false
   },
   "outputs": [
    {
     "data": {
      "text/plain": [
       "(60000, 785)"
      ]
     },
     "execution_count": 3,
     "metadata": {},
     "output_type": "execute_result"
    }
   ],
   "source": [
    "# Dimensions de l'échantillon\n",
    "Dtrain.shape"
   ]
  },
  {
   "cell_type": "code",
   "execution_count": 4,
   "metadata": {
    "collapsed": false
   },
   "outputs": [
    {
     "data": {
      "text/html": [
       "<div>\n",
       "<table border=\"1\" class=\"dataframe\">\n",
       "  <thead>\n",
       "    <tr style=\"text-align: right;\">\n",
       "      <th></th>\n",
       "      <th>0</th>\n",
       "      <th>1</th>\n",
       "      <th>2</th>\n",
       "      <th>3</th>\n",
       "      <th>4</th>\n",
       "      <th>5</th>\n",
       "      <th>6</th>\n",
       "      <th>7</th>\n",
       "      <th>8</th>\n",
       "      <th>9</th>\n",
       "      <th>...</th>\n",
       "      <th>774</th>\n",
       "      <th>775</th>\n",
       "      <th>776</th>\n",
       "      <th>777</th>\n",
       "      <th>778</th>\n",
       "      <th>779</th>\n",
       "      <th>780</th>\n",
       "      <th>781</th>\n",
       "      <th>782</th>\n",
       "      <th>783</th>\n",
       "    </tr>\n",
       "  </thead>\n",
       "  <tbody>\n",
       "    <tr>\n",
       "      <th>0</th>\n",
       "      <td>0</td>\n",
       "      <td>0</td>\n",
       "      <td>0</td>\n",
       "      <td>0</td>\n",
       "      <td>0</td>\n",
       "      <td>0</td>\n",
       "      <td>0</td>\n",
       "      <td>0</td>\n",
       "      <td>0</td>\n",
       "      <td>0</td>\n",
       "      <td>...</td>\n",
       "      <td>0</td>\n",
       "      <td>0</td>\n",
       "      <td>0</td>\n",
       "      <td>0</td>\n",
       "      <td>0</td>\n",
       "      <td>0</td>\n",
       "      <td>0</td>\n",
       "      <td>0</td>\n",
       "      <td>0</td>\n",
       "      <td>0</td>\n",
       "    </tr>\n",
       "    <tr>\n",
       "      <th>1</th>\n",
       "      <td>0</td>\n",
       "      <td>0</td>\n",
       "      <td>0</td>\n",
       "      <td>0</td>\n",
       "      <td>0</td>\n",
       "      <td>0</td>\n",
       "      <td>0</td>\n",
       "      <td>0</td>\n",
       "      <td>0</td>\n",
       "      <td>0</td>\n",
       "      <td>...</td>\n",
       "      <td>0</td>\n",
       "      <td>0</td>\n",
       "      <td>0</td>\n",
       "      <td>0</td>\n",
       "      <td>0</td>\n",
       "      <td>0</td>\n",
       "      <td>0</td>\n",
       "      <td>0</td>\n",
       "      <td>0</td>\n",
       "      <td>0</td>\n",
       "    </tr>\n",
       "    <tr>\n",
       "      <th>2</th>\n",
       "      <td>0</td>\n",
       "      <td>0</td>\n",
       "      <td>0</td>\n",
       "      <td>0</td>\n",
       "      <td>0</td>\n",
       "      <td>0</td>\n",
       "      <td>0</td>\n",
       "      <td>0</td>\n",
       "      <td>0</td>\n",
       "      <td>0</td>\n",
       "      <td>...</td>\n",
       "      <td>0</td>\n",
       "      <td>0</td>\n",
       "      <td>0</td>\n",
       "      <td>0</td>\n",
       "      <td>0</td>\n",
       "      <td>0</td>\n",
       "      <td>0</td>\n",
       "      <td>0</td>\n",
       "      <td>0</td>\n",
       "      <td>0</td>\n",
       "    </tr>\n",
       "    <tr>\n",
       "      <th>3</th>\n",
       "      <td>0</td>\n",
       "      <td>0</td>\n",
       "      <td>0</td>\n",
       "      <td>0</td>\n",
       "      <td>0</td>\n",
       "      <td>0</td>\n",
       "      <td>0</td>\n",
       "      <td>0</td>\n",
       "      <td>0</td>\n",
       "      <td>0</td>\n",
       "      <td>...</td>\n",
       "      <td>0</td>\n",
       "      <td>0</td>\n",
       "      <td>0</td>\n",
       "      <td>0</td>\n",
       "      <td>0</td>\n",
       "      <td>0</td>\n",
       "      <td>0</td>\n",
       "      <td>0</td>\n",
       "      <td>0</td>\n",
       "      <td>0</td>\n",
       "    </tr>\n",
       "    <tr>\n",
       "      <th>4</th>\n",
       "      <td>0</td>\n",
       "      <td>0</td>\n",
       "      <td>0</td>\n",
       "      <td>0</td>\n",
       "      <td>0</td>\n",
       "      <td>0</td>\n",
       "      <td>0</td>\n",
       "      <td>0</td>\n",
       "      <td>0</td>\n",
       "      <td>0</td>\n",
       "      <td>...</td>\n",
       "      <td>0</td>\n",
       "      <td>0</td>\n",
       "      <td>0</td>\n",
       "      <td>0</td>\n",
       "      <td>0</td>\n",
       "      <td>0</td>\n",
       "      <td>0</td>\n",
       "      <td>0</td>\n",
       "      <td>0</td>\n",
       "      <td>0</td>\n",
       "    </tr>\n",
       "  </tbody>\n",
       "</table>\n",
       "<p>5 rows × 784 columns</p>\n",
       "</div>"
      ],
      "text/plain": [
       "   0    1    2    3    4    5    6    7    8    9   ...   774  775  776  777  \\\n",
       "0    0    0    0    0    0    0    0    0    0    0 ...     0    0    0    0   \n",
       "1    0    0    0    0    0    0    0    0    0    0 ...     0    0    0    0   \n",
       "2    0    0    0    0    0    0    0    0    0    0 ...     0    0    0    0   \n",
       "3    0    0    0    0    0    0    0    0    0    0 ...     0    0    0    0   \n",
       "4    0    0    0    0    0    0    0    0    0    0 ...     0    0    0    0   \n",
       "\n",
       "   778  779  780  781  782  783  \n",
       "0    0    0    0    0    0    0  \n",
       "1    0    0    0    0    0    0  \n",
       "2    0    0    0    0    0    0  \n",
       "3    0    0    0    0    0    0  \n",
       "4    0    0    0    0    0    0  \n",
       "\n",
       "[5 rows x 784 columns]"
      ]
     },
     "execution_count": 4,
     "metadata": {},
     "output_type": "execute_result"
    }
   ],
   "source": [
    "# Extraction puis suppression de la dernière colonne des labels\n",
    "Ltrain=Dtrain.iloc[:,784]\n",
    "Dtrain.drop(Dtrain.columns[[784]], axis=1,inplace=True)\n",
    "Dtrain.head()"
   ]
  },
  {
   "cell_type": "code",
   "execution_count": 5,
   "metadata": {
    "collapsed": false
   },
   "outputs": [
    {
     "data": {
      "text/plain": [
       "(10000, 784)"
      ]
     },
     "execution_count": 5,
     "metadata": {},
     "output_type": "execute_result"
    }
   ],
   "source": [
    "# Même chose pour les données de test\n",
    "Dtest=pd.read_csv(path+\"mnist_test.csv\",header=None)\n",
    "Ltest=Dtest.iloc[:,784]\n",
    "Dtest.drop(Dtest.columns[[784]], axis=1,inplace=True)\n",
    "Dtest.shape"
   ]
  },
  {
   "cell_type": "code",
   "execution_count": 6,
   "metadata": {
    "collapsed": false
   },
   "outputs": [
    {
     "data": {
      "image/png": "[encoded data removed]",
      "text/plain": [
       "<matplotlib.figure.Figure at 0x9dc2978>"
      ]
     },
     "metadata": {},
     "output_type": "display_data"
    }
   ],
   "source": [
    "# affichage d'un chiffre\n",
    "plt.figure(1, figsize=(3, 3))\n",
    "plt.imshow(np.matrix(Dtest.iloc[1,:]).reshape(28,28), cmap=plt.cm.gray_r, interpolation='nearest')\n",
    "plt.show()"
   ]
  },
  {
   "cell_type": "markdown",
   "metadata": {},
   "source": [
    "### 1.3 Exploration"
   ]
  },
  {
   "cell_type": "markdown",
   "metadata": {},
   "source": [
    "Les données ont déjà été normalisées centrées et ne présentent et sont complètes. Elles ne nécessitent pas d'autre \"nettoyage\" au moins rudimentaire.\n",
    "\n",
    "Le [tutoriel](http://wikistat.fr/pdf/st-tutor3-python-scikit.pdf) d'introduction à Scikit-learn montre comment représenter les images des caractères ainsi qu'une ACP qui n'est pas reprise ici. Quelles sont néanmoins les performances de k-means sur un tel volume ?"
   ]
  },
  {
   "cell_type": "code",
   "execution_count": 16,
   "metadata": {
    "collapsed": false
   },
   "outputs": [
    {
     "name": "stdout",
     "output_type": "stream",
     "text": [
      "('Temps execution Kmeans :', 3.723860285415536)\n"
     ]
    }
   ],
   "source": [
    "from sklearn.metrics import confusion_matrix\n",
    "from sklearn.cluster import KMeans\n",
    "tps1 = time.clock()\n",
    "km=KMeans(n_clusters=10,init='k-means++', \n",
    "   n_init=10, max_iter=100, tol=0.01,\n",
    "   precompute_distances=True, verbose=0, \n",
    "   random_state=None, copy_x=True, n_jobs=1)\n",
    "km.fit(Dtrain)\n",
    "tps2 = time.clock()\n",
    "print(\"Temps execution Kmeans :\", (tps2 - tps1)/60)"
   ]
  },
  {
   "cell_type": "code",
   "execution_count": 17,
   "metadata": {
    "collapsed": false
   },
   "outputs": [
    {
     "name": "stdout",
     "output_type": "stream",
     "text": [
      "[[2778  185   18   38  195   21 2506  163   16    3]\n",
      " [   0    9    9    6   10 2987    0    5    9 3707]\n",
      " [  10  211 4193  175  151  354   94  335   71  364]\n",
      " [  19   58  220  177 1032   99  115 3931   49  431]\n",
      " [  11  164   39 3187   23  304    9    1 1945  159]\n",
      " [  65  123   15  376 1562  783  213 1775  343  166]\n",
      " [ 100 4924   90   82   99  212  106   28    1  276]\n",
      " [  15    4   39 1796   10  281   14    4 3774  328]\n",
      " [  38   49   55  196 3425  397   28 1173  187  303]\n",
      " [  37    7   13 2902   68  113   19   87 2461  242]]\n"
     ]
    }
   ],
   "source": [
    "cm = confusion_matrix(Ltrain, km.labels_)\n",
    "print(cm)"
   ]
  },
  {
   "cell_type": "markdown",
   "metadata": {},
   "source": [
    "Résultat sans grand intérêt mais qui montre la difficulté de regouper les caractères identiques à l'aide de la distance euclidienne usuelle; il y a beaucoup de confusion entre les classes."
   ]
  },
  {
   "cell_type": "markdown",
   "metadata": {},
   "source": [
    "## 2 Apprentissage et prévision du test"
   ]
  },
  {
   "cell_type": "markdown",
   "metadata": {},
   "source": [
    "### 2.1 $K$ plus proches voisins"
   ]
  },
  {
   "cell_type": "code",
   "execution_count": null,
   "metadata": {
    "collapsed": false
   },
   "outputs": [
    {
     "name": "stdout",
     "output_type": "stream",
     "text": [
      "('Temps de k-nn :', 0.6520538570276585)\n"
     ]
    }
   ],
   "source": [
    "# Définition du modèle avec un nombre k \"standard\" de voisins\n",
    "from sklearn.neighbors import KNeighborsClassifier\n",
    "tps1 = time.clock()\n",
    "knn = KNeighborsClassifier(n_neighbors=10,n_jobs=-1)\n",
    "digit_knn=knn.fit(Dtrain, Ltrain) \n",
    "tps2 = time.clock()\n",
    "print(\"Temps de k-nn :\",(tps2 - tps1)/60)"
   ]
  },
  {
   "cell_type": "code",
   "execution_count": null,
   "metadata": {
    "collapsed": false
   },
   "outputs": [],
   "source": [
    "# Apprentissage et estimation de l'erreur de prévision sur l'échantillon test\n",
    "tps1 = time.clock()\n",
    "erreur=1-digit_knn.score(Dtest,Ltest)\n",
    "tps2 = time.clock()\n",
    "print(\"Temps:\",(tps2 - tps1)/60,\"Erreur:\",erreur)"
   ]
  },
  {
   "cell_type": "markdown",
   "metadata": {},
   "source": [
    "Il faudrait ré-appliquer la procédure d'otpimisation de $k$ par validation croisée décrite dans le [tutoriel](http://wikistat.fr/pdf/st-tutor3-python-scikit.pdf) d'introduction à scikit-learn. Nanmoins la solution $k=10$ est raisonnable et on retrouve une performance classique sur ce type de données: 3.3%, pour une méthode utilisée sans raffinement. \n",
    "\n",
    "C'est en effet une autre distance qu'il faudrait utiliser avec les $k$ plus proches voisins pour améliorer sensiblement les résultats mais avec un coût beaucoup plus élevé en temps de calcul. Un autre [scénario](http://wikistat.fr/pdf/st-atelier-MINST-tangent-ditance.pdf) propose ainsi le calcul d'une distance tangentielle entre les images ([Simard et al. (1998)](https://hal-ens.archives-ouvertes.fr/file/index/docid/60948/filename/Tangent_distance.pdf)). Le programme Matlab fait appel à un programme en C. L'intégration dans du code python plutôt que Matlab resterait à faire..."
   ]
  },
  {
   "cell_type": "markdown",
   "metadata": {},
   "source": [
    "### 2.2 Réseaux de neurones"
   ]
  },
  {
   "cell_type": "markdown",
   "metadata": {},
   "source": [
    "La version 0.17 de scikit-learn ne propose pas de réseau de neurones, le calepin sera complété lorsque la versions 0.18 sera stable et intégrée à la distribution anaconda. "
   ]
  },
  {
   "cell_type": "markdown",
   "metadata": {},
   "source": [
    "### 2.3  Random forest"
   ]
  },
  {
   "cell_type": "markdown",
   "metadata": {},
   "source": [
    "Les forêts aléatoires sont également une approche raisonnable, à moindre coût de développement, sur ces données. Analyser en détail la liste des paramètres proposés dans l'implémentation de cet algorithme. Consulter pour ce faire la [documentation](http://scikit-learn.org/stable/modules/generated/sklearn.ensemble.RandomForestClassifier.html) en ligne.\n",
    "\n",
    "Les valeurs par défaut des paramètres sont utilisées sauf pour le nombre d'arbres (100 au lieu de 10 et nombre de processeurs utilisés: -1 au lieu de 1 (tous sont utilisés saus 1 pour le système). Attention, tous les paramètres disponibles ne sont pas listés."
   ]
  },
  {
   "cell_type": "code",
   "execution_count": null,
   "metadata": {
    "collapsed": false
   },
   "outputs": [],
   "source": [
    "from sklearn.ensemble import RandomForestClassifier\n",
    "tps0 = time.clock()\n",
    "rf = RandomForestClassifier(n_estimators=100, \n",
    "   criterion='gini', max_depth=None, min_samples_split=2, \n",
    "   min_samples_leaf=1, max_features='auto', max_leaf_nodes=None, \n",
    "   bootstrap=True, oob_score=True, n_jobs=-1,random_state=None, verbose=0)\n",
    "rf.fit(Dtrain,Ltrain)\n",
    "tps1 = time.clock()\n",
    "print(\"Temps de configutration RF :\" ,tps1 - tps0)"
   ]
  },
  {
   "cell_type": "code",
   "execution_count": null,
   "metadata": {
    "collapsed": false
   },
   "outputs": [],
   "source": [
    "# erreur out-of-bag\n",
    "erreur_oob=1-rf.oob_score_\n",
    "tps2 = time.clock()\n",
    "print(\"Temps execution RF :\", tps2 - tps0, \"Erreur oob:\", erreur_oob)\n"
   ]
  },
  {
   "cell_type": "code",
   "execution_count": null,
   "metadata": {
    "collapsed": false
   },
   "outputs": [],
   "source": [
    "# erreur sur l'échantillon test\n",
    "1-rf.score(Dtest,Ltest)"
   ]
  },
  {
   "cell_type": "code",
   "execution_count": null,
   "metadata": {
    "collapsed": false
   },
   "outputs": [],
   "source": [
    "cm = confusion_matrix(Ltest, rf.predict(Dtest))\n",
    "print(cm)"
   ]
  },
  {
   "cell_type": "markdown",
   "metadata": {},
   "source": [
    "Comme pour les $k$ plus proches voisins, il serait utile d'optimiser certains paramètres dont le nombre d'arbres et sans doute *max_features*. L'optimisation de l'erreur *out-of-bag* plutôt qu'une procédure lourde  de validaiton croisée serait bienvenue. D'autre part, la restriction de la profondeur max des arbres pourrait réduire sensiblement les temps de calcul mais cela ne semble pas nécessaire d'autant que c'est un paramètre critique pour la qualité de la prévision.\n"
   ]
  },
  {
   "cell_type": "markdown",
   "metadata": {},
   "source": [
    "## 3 Effet de la taille l'échantillon d'apprentissage"
   ]
  },
  {
   "cell_type": "markdown",
   "metadata": {},
   "source": [
    "Le taux d'erreur de 3% obtenu sans effort d'optimisation est tout à fait correct au regard du temps passé en développement ! Plutôt que de chercher à l'optimiser, la suite du travail s'intéresse à l'effet de la taille de cet échantillon d'apprentissage sur la précision. La fonction [*learning_curve*](http://scikit-learn.org/stable/modules/generated/sklearn.learning_curve.learning_curve.html#sklearn.learning_curve) réalise ce calcul mais ne permet pas d'extraire le temps d'excution pour chaque taille. Une procdure rudimentaire est mise en oeuvre."
   ]
  },
  {
   "cell_type": "markdown",
   "metadata": {},
   "source": [
    "### 3.1 Avec Random Forest (Scikit-learn) et 100 arbres"
   ]
  },
  {
   "cell_type": "code",
   "execution_count": 15,
   "metadata": {
    "collapsed": false,
    "scrolled": true
   },
   "outputs": [
    {
     "name": "stdout",
     "output_type": "stream",
     "text": [
      "    Taille      Temps  Erreur\n",
      "0     5000   2.067491  0.0587\n",
      "1    10000   3.920660  0.0507\n",
      "2    15000   5.888137  0.0426\n",
      "3    20000   8.241183  0.0391\n",
      "4    25000  11.656526  0.0383\n",
      "5    30000  13.475936  0.0362\n",
      "6    35000  16.487682  0.0337\n",
      "7    40000  18.390179  0.0334\n",
      "8    45000  22.199369  0.0320\n",
      "9    50000  24.872580  0.0317\n",
      "10   55000  26.824127  0.0321\n",
      "11   60000  33.519589  0.0301\n"
     ]
    }
   ],
   "source": [
    "from sklearn.cross_validation  import train_test_split\n",
    "# tailles croissantes de l'échantillon d'apprentissage\n",
    "arrayErreur=np.empty((12,3))\n",
    "nArbres=100\n",
    "for i in range(1,13):\n",
    "    n=5000*i\n",
    "    arrayErreur[i-1,0]=n\n",
    "    if i==12:\n",
    "        n=59999\n",
    "    Xtrain,Xdrop,ytrain,ydrop=train_test_split(Dtrain,Ltrain,train_size=n)\n",
    "    tps1 = time.clock()\n",
    "    rf = RandomForestClassifier(n_estimators=nArbres, \n",
    "       criterion='gini', max_depth=None, min_samples_split=2, \n",
    "       min_samples_leaf=1, max_features='auto', max_leaf_nodes=None, \n",
    "       bootstrap=True, oob_score=True, n_jobs=-1,random_state=None, verbose=0)\n",
    "    rf.fit(Xtrain,ytrain)\n",
    "    tps2=time.clock()\n",
    "    arrayErreur[i-1,2]=1-rf.score(Dtest,Ltest)\n",
    "    arrayErreur[i-1,1]=tps2 - tps1\n",
    "dataframeErreur1=pd.DataFrame(arrayErreur,columns=[\"Taille\",\"Temps\",\"Erreur\"])\n",
    "print(dataframeErreur1)"
   ]
  },
  {
   "cell_type": "code",
   "execution_count": 39,
   "metadata": {
    "collapsed": false
   },
   "outputs": [
    {
     "data": {
      "image/png": "[encoded data removed]",
      "text/plain": [
       "<matplotlib.figure.Figure at 0x20f3bc50>"
      ]
     },
     "metadata": {},
     "output_type": "display_data"
    }
   ],
   "source": [
    "# Graphes supersosés\n",
    "from __future__ import division\n",
    "from scipy import *\n",
    "from pylab import *\n",
    "\n",
    "x = linspace(5,60,12)     \n",
    "fig = plt.figure()\n",
    "# premier graphe\n",
    "ax1 = fig.add_subplot(111)\n",
    "ax1.plot(x,dataframeErreur1[\"Temps\"] , '-b', label=ur\"Temps\",lw=1.5)\n",
    "# absisses communes\n",
    "xlim(0,65)\n",
    "xlabel(ur\"Taille échantillon x 1000\", color='b', fontsize=16)\n",
    "ylim(0, 70)                                                   \n",
    "ylabel(ur\"Secondes\", color='b', fontsize=16)  \n",
    "legend(loc=2)                                                  \n",
    "# 2ème graphe\n",
    "ax2 = ax1.twinx()                                              \n",
    "ax2.plot(x,dataframeErreur1[\"Erreur\"] ,'--g', label=ur\"Erreur\",lw=1.5)       \n",
    "ylim(0, 0.1)                                                  \n",
    "ylabel(ur\"Taux d'erreur\", color='g', fontsize=16)          \n",
    "legend(loc=1)                                                   \n",
    "show()"
   ]
  },
  {
   "cell_type": "markdown",
   "metadata": {},
   "source": [
    "### 3.2 Avec Random Forest (Scikit-learn) et 250 arbres"
   ]
  },
  {
   "cell_type": "code",
   "execution_count": 7,
   "metadata": {
    "collapsed": false
   },
   "outputs": [
    {
     "name": "stdout",
     "output_type": "stream",
     "text": [
      "    Taille      Temps  Erreur\n",
      "0     5000   4.970582  0.0541\n",
      "1    10000  10.079078  0.0452\n",
      "2    15000  15.521111  0.0412\n",
      "3    20000  21.653895  0.0374\n",
      "4    25000  28.186623  0.0361\n",
      "5    30000  35.252367  0.0358\n",
      "6    35000  39.517259  0.0329\n",
      "7    40000  48.437254  0.0335\n",
      "8    45000  51.338479  0.0337\n",
      "9    50000  58.070296  0.0301\n",
      "10   55000  64.296475  0.0299\n",
      "11   60000  76.259480  0.0298\n"
     ]
    }
   ],
   "source": [
    "from sklearn.ensemble import RandomForestClassifier\n",
    "from sklearn.cross_validation  import train_test_split\n",
    "# tailles croissantes de l'échantillon d'apprentissage\n",
    "arrayErreur=np.empty((12,3))\n",
    "nArbres=250\n",
    "for i in range(1,13):\n",
    "    n=5000*i\n",
    "    arrayErreur[i-1,0]=n\n",
    "    if i==12:\n",
    "        n=59999\n",
    "    Xtrain,Xdrop,ytrain,ydrop=train_test_split(Dtrain,Ltrain,train_size=n)\n",
    "    tps1 = time.clock()\n",
    "    rf = RandomForestClassifier(n_estimators=nArbres, \n",
    "       criterion='gini', max_depth=None, min_samples_split=2, \n",
    "       min_samples_leaf=1, max_features='auto', max_leaf_nodes=None, \n",
    "       bootstrap=True, oob_score=True, n_jobs=-1,random_state=None, verbose=0)\n",
    "    rf.fit(Xtrain,ytrain)\n",
    "    tps2=time.clock()\n",
    "    arrayErreur[i-1,2]=1-rf.score(Dtest,Ltest)\n",
    "    arrayErreur[i-1,1]=tps2 - tps1\n",
    "dataframeErreur=pd.DataFrame(arrayErreur,columns=[\"Taille\",\"Temps\",\"Erreur\"])\n",
    "print(dataframeErreur)"
   ]
  },
  {
   "cell_type": "code",
   "execution_count": 9,
   "metadata": {
    "collapsed": false
   },
   "outputs": [
    {
     "data": {
      "image/png": "[encoded data removed]",
      "text/plain": [
       "<matplotlib.figure.Figure at 0x3d118d0>"
      ]
     },
     "metadata": {},
     "output_type": "display_data"
    }
   ],
   "source": [
    "# Graphes supersosés\n",
    "from __future__ import division\n",
    "from scipy import *\n",
    "from pylab import *\n",
    "\n",
    "x = linspace(5,60,12)     \n",
    "fig = plt.figure()\n",
    "# premier graphe\n",
    "ax1 = fig.add_subplot(111)\n",
    "ax1.plot(x,dataframeErreur[\"Temps\"] , '-b', label=ur\"Temps\",lw=1.5,marker=\".\",markersize=6)\n",
    "# absisses communes\n",
    "xlim(0,65)\n",
    "xlabel(ur\"Taille échantillon x1000\", fontsize=15)\n",
    "ylim(0, 100)                                                   \n",
    "ylabel(ur\"Temps (s)\", color='b', fontsize=15)  \n",
    "legend(loc=2)                                                  \n",
    "# 2ème graphe\n",
    "ax2 = ax1.twinx()                                              \n",
    "ax2.plot(x,dataframeErreur[\"Erreur\"] ,'--',color='black', label=ur\"Erreur\",lw=1.5,marker=\".\",markersize=6)       \n",
    "ylim(0, 0.1)                                                  \n",
    "ylabel(ur\"Erreur (%)\",  fontsize=15)          \n",
    "legend(loc=1)                                                   \n",
    "show()"
   ]
  },
  {
   "cell_type": "markdown",
   "metadata": {},
   "source": [
    "### 3.3 Random Forest avec R et 250 arbres"
   ]
  },
  {
   "cell_type": "markdown",
   "metadata": {},
   "source": [
    "Résultats avec l'implémentation beaucoup plus efficace `ranger` de random forest plutôt que celle du package historique `randomForest`. Malheureusement, sous Windows, `ranger` ne peut pas faire du multi-coeur. Sinon les performances (temps) seraient identiques à celle de Python (scikit-learn)."
   ]
  },
  {
   "cell_type": "code",
   "execution_count": 2,
   "metadata": {
    "collapsed": false
   },
   "outputs": [],
   "source": [
    "import pandas as pd\n",
    "#lectures des résultats produits par R\n",
    "dataframeErreur2=pd.read_csv(\"Rerreur2.dat\",sep=\" \",header=0)"
   ]
  },
  {
   "cell_type": "code",
   "execution_count": 3,
   "metadata": {
    "collapsed": false
   },
   "outputs": [
    {
     "data": {
      "text/html": [
       "<div>\n",
       "<table border=\"1\" class=\"dataframe\">\n",
       "  <thead>\n",
       "    <tr style=\"text-align: right;\">\n",
       "      <th></th>\n",
       "      <th>Taille</th>\n",
       "      <th>Temps</th>\n",
       "      <th>Erreur</th>\n",
       "    </tr>\n",
       "  </thead>\n",
       "  <tbody>\n",
       "    <tr>\n",
       "      <th>0</th>\n",
       "      <td>5000</td>\n",
       "      <td>0.230000</td>\n",
       "      <td>0.0545</td>\n",
       "    </tr>\n",
       "    <tr>\n",
       "      <th>1</th>\n",
       "      <td>10000</td>\n",
       "      <td>0.505000</td>\n",
       "      <td>0.0454</td>\n",
       "    </tr>\n",
       "    <tr>\n",
       "      <th>2</th>\n",
       "      <td>15000</td>\n",
       "      <td>0.799500</td>\n",
       "      <td>0.0419</td>\n",
       "    </tr>\n",
       "    <tr>\n",
       "      <th>3</th>\n",
       "      <td>20000</td>\n",
       "      <td>1.115497</td>\n",
       "      <td>0.0384</td>\n",
       "    </tr>\n",
       "    <tr>\n",
       "      <th>4</th>\n",
       "      <td>25000</td>\n",
       "      <td>1.506503</td>\n",
       "      <td>0.0359</td>\n",
       "    </tr>\n",
       "    <tr>\n",
       "      <th>5</th>\n",
       "      <td>30000</td>\n",
       "      <td>1.851889</td>\n",
       "      <td>0.0334</td>\n",
       "    </tr>\n",
       "    <tr>\n",
       "      <th>6</th>\n",
       "      <td>35000</td>\n",
       "      <td>2.154007</td>\n",
       "      <td>0.0341</td>\n",
       "    </tr>\n",
       "    <tr>\n",
       "      <th>7</th>\n",
       "      <td>40000</td>\n",
       "      <td>2.559163</td>\n",
       "      <td>0.0320</td>\n",
       "    </tr>\n",
       "    <tr>\n",
       "      <th>8</th>\n",
       "      <td>45000</td>\n",
       "      <td>2.997405</td>\n",
       "      <td>0.0320</td>\n",
       "    </tr>\n",
       "    <tr>\n",
       "      <th>9</th>\n",
       "      <td>50000</td>\n",
       "      <td>3.335274</td>\n",
       "      <td>0.0298</td>\n",
       "    </tr>\n",
       "    <tr>\n",
       "      <th>10</th>\n",
       "      <td>55000</td>\n",
       "      <td>3.595056</td>\n",
       "      <td>0.0287</td>\n",
       "    </tr>\n",
       "    <tr>\n",
       "      <th>11</th>\n",
       "      <td>60000</td>\n",
       "      <td>4.010846</td>\n",
       "      <td>0.0283</td>\n",
       "    </tr>\n",
       "  </tbody>\n",
       "</table>\n",
       "</div>"
      ],
      "text/plain": [
       "    Taille     Temps  Erreur\n",
       "0     5000  0.230000  0.0545\n",
       "1    10000  0.505000  0.0454\n",
       "2    15000  0.799500  0.0419\n",
       "3    20000  1.115497  0.0384\n",
       "4    25000  1.506503  0.0359\n",
       "5    30000  1.851889  0.0334\n",
       "6    35000  2.154007  0.0341\n",
       "7    40000  2.559163  0.0320\n",
       "8    45000  2.997405  0.0320\n",
       "9    50000  3.335274  0.0298\n",
       "10   55000  3.595056  0.0287\n",
       "11   60000  4.010846  0.0283"
      ]
     },
     "execution_count": 3,
     "metadata": {},
     "output_type": "execute_result"
    }
   ],
   "source": [
    "dataframeErreur2"
   ]
  },
  {
   "cell_type": "code",
   "execution_count": 9,
   "metadata": {
    "collapsed": false
   },
   "outputs": [
    {
     "data": {
      "image/png": "[encoded data removed]",
      "text/plain": [
       "<matplotlib.figure.Figure at 0xb55e908>"
      ]
     },
     "metadata": {},
     "output_type": "display_data"
    }
   ],
   "source": [
    "# Graphes supersosés\n",
    "from __future__ import division\n",
    "from scipy import *\n",
    "from pylab import *\n",
    "x = linspace(5,60,12)     \n",
    "fig = plt.figure()\n",
    "# premier graphe\n",
    "ax1 = fig.add_subplot(111)\n",
    "ax1.plot(x,dataframeErreur2[\"Temps\"] , '-', label=ur\"Temps\",lw=1.5,marker=\".\",markersize=6)\n",
    "# absisses communes\n",
    "xlim(0,65)\n",
    "xlabel(ur\"Taille échantillon x1000\", fontsize=15)\n",
    "ylim(0, 7)                                                   \n",
    "ylabel(ur\"Temps (mn)\", color='b',fontsize=15)  \n",
    "legend(loc=2)                                                  \n",
    "# 2ème graphe\n",
    "ax2 = ax1.twinx()                                              \n",
    "ax2.plot(x,dataframeErreur2[\"Erreur\"] ,'--', color='black',label=ur\"Erreur\",lw=1.5,marker=\".\",markersize=6)       \n",
    "ylim(0, 0.1)                                                  \n",
    "ylabel(ur\"Erreur (%)\", fontsize=15)          \n",
    "legend(loc=1)                                                   \n",
    "show()"
   ]
  }
 ],
 "metadata": {
  "kernelspec": {
   "display_name": "Python 2",
   "language": "python",
   "name": "python2"
  },
  "language_info": {
   "codemirror_mode": {
    "name": "ipython",
    "version": 2
   },
   "file_extension": ".py",
   "mimetype": "text/x-python",
   "name": "python",
   "nbconvert_exporter": "python",
   "pygments_lexer": "ipython2",
   "version": "2.7.11"
  }
 },
 "nbformat": 4,
 "nbformat_minor": 0
}
